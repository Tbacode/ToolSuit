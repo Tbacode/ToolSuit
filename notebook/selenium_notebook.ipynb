{
 "metadata": {
  "language_info": {
   "codemirror_mode": {
    "name": "ipython",
    "version": 3
   },
   "file_extension": ".py",
   "mimetype": "text/x-python",
   "name": "python",
   "nbconvert_exporter": "python",
   "pygments_lexer": "ipython3",
   "version": "3.8.8"
  },
  "orig_nbformat": 4,
  "kernelspec": {
   "name": "python3",
   "display_name": "Python 3.8.8 64-bit"
  },
  "interpreter": {
   "hash": "89f3d767b852d1319be78eda77665a9cd388267eb379e1966e7c1f10ba0773f7"
  }
 },
 "nbformat": 4,
 "nbformat_minor": 2,
 "cells": [
  {
   "cell_type": "code",
   "execution_count": null,
   "source": [
    "# 使用title_contains检查页面是否正确\r\n",
    "from selenium import webdriver\r\n",
    "from selenium.webdriver.support import expected_conditions as EC\r\n",
    "\r\n",
    "driver = webdriver.Chrome()\r\n",
    "driver.get('https://www.baidu.com')\r\n",
    "EC.title_contains('百度一下，你就知道') # 预期与实际包含，首选\r\n",
    "# EC.title_is() # 预期与实际完全一致\r\n"
   ],
   "outputs": [],
   "metadata": {}
  },
  {
   "cell_type": "code",
   "execution_count": null,
   "source": [
    "from selenium import webdriver\r\n",
    "from selenium.webdriver.support import expected_conditions as EC\r\n",
    "import time\r\n",
    "\r\n",
    "driver = webdriver.Chrome()\r\n",
    "driver.get('https://www.baidu.com')\r\n",
    "EC.title_contains('百度一下，你就知道') # 预期与实际包含，首选\r\n",
    "# 不同方式定位\r\n",
    "driver.find_element_by_id('kw').send_keys('imooc')\r\n",
    "time.sleep(5)\r\n",
    "f = driver.find_elements_by_class_name('bg s_btn') # 找不到元素\r\n",
    "print(len(f))\r\n",
    "# driver.find_element_by_name()\r\n",
    "# driver.find_element_by_xpath()\r\n"
   ],
   "outputs": [],
   "metadata": {}
  },
  {
   "cell_type": "code",
   "execution_count": null,
   "source": [
    "# 八种元素定位方式\r\n",
    "from selenium import webdriver\r\n",
    "\r\n",
    "driver = webdriver.Chrome()\r\n",
    "\r\n",
    "driver.find_element_by_class_name() # find_elements_by_class_name返回数组\r\n",
    "\r\n",
    "driver.find_element_by_id() # find_elements_by_id返回数组\r\n",
    "\r\n",
    "driver.find_element_by_link_text() # find_elements_by_link_text返回数组\r\n",
    "\r\n",
    "driver.find_element_by_tag_name() # find_elements_by_tag_name返回数组\r\n",
    "\r\n",
    "driver.find_element_by_xpath() # find_elements_by_xpath返回数组\r\n",
    "\r\n",
    "driver.find_elements_by_css_selector() # find_elements_by_css_selector返回数组\r\n",
    "\r\n",
    "driver.find_element_by_partial_link_text() # find_elements_by_partial_link_text返回数组\r\n",
    "\r\n",
    "driver.find_element_by_name() # find_elements_by_name返回数组"
   ],
   "outputs": [],
   "metadata": {}
  },
  {
   "cell_type": "code",
   "execution_count": null,
   "source": [
    "# 元素等待\r\n",
    "from selenium.webdriver.support import expected_conditions as EC\r\n",
    "from selenium.webdriver.support.wait import WebDriverWait\r\n",
    "from selenium.webdriver.common.by import By\r\n",
    "from selenium import webdriver\r\n",
    "\r\n",
    "driver = webdriver.Chrome()\r\n",
    "\r\n",
    "lacator = (By.CLASS_NAME, 'className')\r\n",
    "# EC.visibility_of_element_located() 表示页面元素是否可见，因为元素存在情况分为可见与不不可见，直接显示判断更好\r\n",
    "# EC.presence_of_element_located() 表示页面元素是否存在dom元素中，可能可见，可能不可见\r\n",
    "WebDriverWait(driver, 10).until(EC.visibility_of_element_located(lacator))\r\n",
    "driver.close() # 每次执行dirver初始化都会在内存增加一个driver.exe，需要手动close掉。不然任务管理器可以看到很多进程正在执行"
   ],
   "outputs": [],
   "metadata": {}
  },
  {
   "cell_type": "code",
   "execution_count": null,
   "source": [
    "from selenium.webdriver.support import expected_conditions as EC\r\n",
    "from selenium.webdriver.support.wait import WebDriverWait\r\n",
    "from selenium.webdriver.common.by import By\r\n",
    "from selenium import webdriver\r\n",
    "\r\n",
    "driver = webdriver.Chrome()\r\n",
    "driver.get(\"http://www.5itest.cn/register\")\r\n",
    "\r\n",
    "print(EC.title_contains('注册'))\r\n",
    "\r\n",
    "element = driver.find_elements_by_class_name('controls')\r\n",
    "locator = (By.CLASS_NAME, 'controls')\r\n",
    "WebDriverWait(driver, 1).until(EC.visibility_of_element_located(locator))\r\n",
    "\r\n",
    "email_element = driver.find_element_by_id('register_email')\r\n",
    "print(email_element.get_attribute('placeholder'))\r\n",
    "email_element.send_keys(\"test@163.com\")\r\n",
    "print(email_element.get_attribute('value'))\r\n",
    "driver.close()\r\n",
    "\r\n",
    "# 获取属性值\r\n",
    "# driver.get_attribute('属性名')\r\n",
    "# 取得输入值\r\n",
    "# driver.get_attribute('value')"
   ],
   "outputs": [],
   "metadata": {}
  },
  {
   "cell_type": "code",
   "execution_count": null,
   "source": [
    "# 生成不同的随机用户邮箱\r\n",
    "import random\r\n",
    "\r\n",
    "for i in range(5):\r\n",
    "    email = ''.join(random.sample('1234567890qwertyuiopasdfghjklzxcvbnm', 6)) + '@163.com'\r\n",
    "    print(email)"
   ],
   "outputs": [],
   "metadata": {}
  },
  {
   "cell_type": "code",
   "execution_count": null,
   "source": [
    "# 自动化过程中验证码的输入\r\n",
    "1.默认一个验证码\r\n",
    "2.去掉验证码环节\r\n",
    "3.登录中，用cookie绕过验证码\r\n",
    "4.直接试别"
   ],
   "outputs": [],
   "metadata": {}
  },
  {
   "cell_type": "code",
   "execution_count": null,
   "source": [
    "解决验证码实战\r\n",
    "解决思路：\r\n",
    "  前提：每次的单一访问验证码链接会导致验证码刷新，不能及时通过验证\r\n",
    "  方法：1.调用driver.screenshot()截取当前页面屏幕图片\r\n",
    "        2.获取验证码element对象\r\n",
    "        3.调用element.location()获取验证码对象起始坐标（左上角）\r\n",
    "        4.分别获取坐标，x和y值\r\n",
    "        5.调用element.size()获取验证码对象长宽\r\n",
    "        6.分别获取长，宽\r\n",
    "        7.使用起始坐标点，和长、宽数值获取验证码四个点坐标\r\n",
    "        8.调用pil.img下crop((左上，右上，左下))截取验证码图片\r\n",
    "        9.调用img.save()保存验证码图片\r\n"
   ],
   "outputs": [],
   "metadata": {}
  }
 ]
}