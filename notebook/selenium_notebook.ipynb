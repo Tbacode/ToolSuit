{
 "metadata": {
  "language_info": {
   "codemirror_mode": {
    "name": "ipython",
    "version": 3
   },
   "file_extension": ".py",
   "mimetype": "text/x-python",
   "name": "python",
   "nbconvert_exporter": "python",
   "pygments_lexer": "ipython3",
   "version": "3.8.8"
  },
  "orig_nbformat": 4,
  "kernelspec": {
   "name": "python3",
   "display_name": "Python 3.8.8 64-bit"
  },
  "interpreter": {
   "hash": "89f3d767b852d1319be78eda77665a9cd388267eb379e1966e7c1f10ba0773f7"
  }
 },
 "nbformat": 4,
 "nbformat_minor": 2,
 "cells": [
  {
   "cell_type": "code",
   "execution_count": null,
   "metadata": {},
   "outputs": [],
   "source": [
    "# 使用title_contains检查页面是否正确\n",
    "from selenium import webdriver\n",
    "from selenium.webdriver.support import expected_conditions as EC\n",
    "\n",
    "driver = webdriver.Chrome()\n",
    "driver.get('https://www.baidu.com')\n",
    "EC.title_contains('百度一下，你就知道') # 预期与实际包含，首选\n",
    "# EC.title_is() # 预期与实际完全一致\n"
   ]
  },
  {
   "cell_type": "code",
   "execution_count": null,
   "metadata": {},
   "outputs": [],
   "source": [
    "from selenium import webdriver\n",
    "from selenium.webdriver.support import expected_conditions as EC\n",
    "import time\n",
    "\n",
    "driver = webdriver.Chrome()\n",
    "driver.get('https://www.baidu.com')\n",
    "EC.title_contains('百度一下，你就知道') # 预期与实际包含，首选\n",
    "# 不同方式定位\n",
    "driver.find_element_by_id('kw').send_keys('imooc')\n",
    "time.sleep(5)\n",
    "f = driver.find_elements_by_class_name('bg s_btn') # 找不到元素\n",
    "print(len(f))\n",
    "# driver.find_element_by_name()\n",
    "# driver.find_element_by_xpath()\n"
   ]
  },
  {
   "cell_type": "code",
   "execution_count": null,
   "metadata": {},
   "outputs": [],
   "source": [
    "# 八种元素定位方式\n",
    "from selenium import webdriver\n",
    "\n",
    "driver = webdriver.Chrome()\n",
    "\n",
    "driver.find_element_by_class_name() # find_elements_by_class_name返回数组\n",
    "\n",
    "driver.find_element_by_id() # find_elements_by_id返回数组\n",
    "\n",
    "driver.find_element_by_link_text() # find_elements_by_link_text返回数组\n",
    "\n",
    "driver.find_element_by_tag_name() # find_elements_by_tag_name返回数组\n",
    "\n",
    "driver.find_element_by_xpath() # find_elements_by_xpath返回数组\n",
    "\n",
    "driver.find_elements_by_css_selector() # find_elements_by_css_selector返回数组\n",
    "\n",
    "driver.find_element_by_partial_link_text() # find_elements_by_partial_link_text返回数组\n",
    "\n",
    "driver.find_element_by_name() # find_elements_by_name返回数组"
   ]
  },
  {
   "cell_type": "code",
   "execution_count": null,
   "metadata": {},
   "outputs": [],
   "source": [
    "# 元素等待\n",
    "from selenium.webdriver.support import expected_conditions as EC\n",
    "from selenium.webdriver.support.wait import WebDriverWait\n",
    "from selenium.webdriver.common.by import By\n",
    "from selenium import webdriver\n",
    "\n",
    "driver = webdriver.Chrome()\n",
    "\n",
    "lacator = (By.CLASS_NAME, 'className')\n",
    "# EC.visibility_of_element_located() 表示页面元素是否可见，因为元素存在情况分为可见与不不可见，直接显示判断更好\n",
    "# EC.presence_of_element_located() 表示页面元素是否存在dom元素中，可能可见，可能不可见\n",
    "WebDriverWait(driver, 10).until(EC.visibility_of_element_located(lacator))\n",
    "driver.close() # 每次执行dirver初始化都会在内存增加一个driver.exe，需要手动close掉。不然任务管理器可以看到很多进程正在执行"
   ]
  }
 ]
}