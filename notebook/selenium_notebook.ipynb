{
 "metadata": {
  "language_info": {
   "codemirror_mode": {
    "name": "ipython",
    "version": 3
   },
   "file_extension": ".py",
   "mimetype": "text/x-python",
   "name": "python",
   "nbconvert_exporter": "python",
   "pygments_lexer": "ipython3",
   "version": "3.8.8"
  },
  "orig_nbformat": 4,
  "kernelspec": {
   "name": "python3",
   "display_name": "Python 3.8.8 64-bit"
  },
  "interpreter": {
   "hash": "89f3d767b852d1319be78eda77665a9cd388267eb379e1966e7c1f10ba0773f7"
  }
 },
 "nbformat": 4,
 "nbformat_minor": 2,
 "cells": [
  {
   "cell_type": "code",
   "execution_count": null,
   "source": [
    "# 使用title_contains检查页面是否正确\r\n",
    "from selenium import webdriver\r\n",
    "from selenium.webdriver.support import expected_conditions as EC\r\n",
    "\r\n",
    "driver = webdriver.Chrome()\r\n",
    "driver.get('https://www.baidu.com')\r\n",
    "EC.title_contains('百度一下，你就知道') # 预期与实际包含，首选\r\n",
    "# EC.title_is() # 预期与实际完全一致\r\n"
   ],
   "outputs": [],
   "metadata": {}
  },
  {
   "cell_type": "code",
   "execution_count": null,
   "source": [
    "from selenium import webdriver\r\n",
    "from selenium.webdriver.support import expected_conditions as EC\r\n",
    "import time\r\n",
    "\r\n",
    "driver = webdriver.Chrome()\r\n",
    "driver.get('https://www.baidu.com')\r\n",
    "EC.title_contains('百度一下，你就知道') # 预期与实际包含，首选\r\n",
    "# 不同方式定位\r\n",
    "driver.find_element_by_id('kw').send_keys('imooc')\r\n",
    "time.sleep(5)\r\n",
    "f = driver.find_elements_by_class_name('bg s_btn') # 找不到元素\r\n",
    "print(len(f))\r\n",
    "# driver.find_element_by_name()\r\n",
    "# driver.find_element_by_xpath()\r\n"
   ],
   "outputs": [],
   "metadata": {}
  },
  {
   "cell_type": "code",
   "execution_count": null,
   "source": [
    "# 八种元素定位方式\r\n",
    "from selenium import webdriver\r\n",
    "\r\n",
    "driver = webdriver.Chrome()\r\n",
    "\r\n",
    "driver.find_element_by_class_name() # find_elements_by_class_name返回数组\r\n",
    "\r\n",
    "driver.find_element_by_id() # find_elements_by_id返回数组\r\n",
    "\r\n",
    "driver.find_element_by_link_text() # find_elements_by_link_text返回数组\r\n",
    "\r\n",
    "driver.find_element_by_tag_name() # find_elements_by_tag_name返回数组\r\n",
    "\r\n",
    "driver.find_element_by_xpath() # find_elements_by_xpath返回数组\r\n",
    "\r\n",
    "driver.find_elements_by_css_selector() # find_elements_by_css_selector返回数组\r\n",
    "\r\n",
    "driver.find_element_by_partial_link_text() # find_elements_by_partial_link_text返回数组\r\n",
    "\r\n",
    "driver.find_element_by_name() # find_elements_by_name返回数组"
   ],
   "outputs": [],
   "metadata": {}
  },
  {
   "cell_type": "code",
   "execution_count": null,
   "source": [
    "# 元素等待\r\n",
    "from selenium.webdriver.support import expected_conditions as EC\r\n",
    "from selenium.webdriver.support.wait import WebDriverWait\r\n",
    "from selenium.webdriver.common.by import By\r\n",
    "from selenium import webdriver\r\n",
    "\r\n",
    "driver = webdriver.Chrome()\r\n",
    "\r\n",
    "lacator = (By.CLASS_NAME, 'className')\r\n",
    "# EC.visibility_of_element_located() 表示页面元素是否可见，因为元素存在情况分为可见与不不可见，直接显示判断更好\r\n",
    "# EC.presence_of_element_located() 表示页面元素是否存在dom元素中，可能可见，可能不可见\r\n",
    "WebDriverWait(driver, 10).until(EC.visibility_of_element_located(lacator))\r\n",
    "driver.close() # 每次执行dirver初始化都会在内存增加一个driver.exe，需要手动close掉。不然任务管理器可以看到很多进程正在执行"
   ],
   "outputs": [],
   "metadata": {}
  },
  {
   "cell_type": "code",
   "execution_count": null,
   "source": [
    "from selenium.webdriver.support import expected_conditions as EC\r\n",
    "from selenium.webdriver.support.wait import WebDriverWait\r\n",
    "from selenium.webdriver.common.by import By\r\n",
    "from selenium import webdriver\r\n",
    "\r\n",
    "driver = webdriver.Chrome()\r\n",
    "driver.get(\"http://www.5itest.cn/register\")\r\n",
    "\r\n",
    "print(EC.title_contains('注册'))\r\n",
    "\r\n",
    "element = driver.find_elements_by_class_name('controls')\r\n",
    "locator = (By.CLASS_NAME, 'controls')\r\n",
    "WebDriverWait(driver, 1).until(EC.visibility_of_element_located(locator))\r\n",
    "\r\n",
    "email_element = driver.find_element_by_id('register_email')\r\n",
    "print(email_element.get_attribute('placeholder'))\r\n",
    "email_element.send_keys(\"test@163.com\")\r\n",
    "print(email_element.get_attribute('value'))\r\n",
    "driver.close()\r\n",
    "\r\n",
    "# 获取属性值\r\n",
    "# driver.get_attribute('属性名')\r\n",
    "# 取得输入值\r\n",
    "# driver.get_attribute('value')"
   ],
   "outputs": [],
   "metadata": {}
  },
  {
   "cell_type": "code",
   "execution_count": null,
   "source": [
    "# 生成不同的随机用户邮箱\r\n",
    "import random\r\n",
    "\r\n",
    "for i in range(5):\r\n",
    "    email = ''.join(random.sample('1234567890qwertyuiopasdfghjklzxcvbnm', 6)) + '@163.com'\r\n",
    "    print(email)"
   ],
   "outputs": [],
   "metadata": {}
  },
  {
   "cell_type": "code",
   "execution_count": null,
   "source": [
    "# 自动化过程中验证码的输入\r\n",
    "1.默认一个验证码\r\n",
    "2.去掉验证码环节\r\n",
    "3.登录中，用cookie绕过验证码\r\n",
    "4.直接试别"
   ],
   "outputs": [],
   "metadata": {}
  },
  {
   "cell_type": "code",
   "execution_count": null,
   "source": [
    "解决验证码实战\r\n",
    "解决思路：\r\n",
    "  前提：每次的单一访问验证码链接会导致验证码刷新，不能及时通过验证\r\n",
    "  方法：1.调用driver.screenshot()截取当前页面屏幕图片\r\n",
    "        2.获取验证码element对象\r\n",
    "        3.调用element.location()获取验证码对象起始坐标（左上角）\r\n",
    "        4.分别获取坐标，x和y值\r\n",
    "        5.调用element.size()获取验证码对象长宽\r\n",
    "        6.分别获取长，宽\r\n",
    "        7.使用起始坐标点，和长、宽数值获取验证码四个点坐标\r\n",
    "        8.调用pil.img下crop((左上，右上，左下))截取验证码图片\r\n",
    "        9.调用img.save()保存验证码图片\r\n"
   ],
   "outputs": [],
   "metadata": {}
  },
  {
   "cell_type": "code",
   "execution_count": null,
   "source": [
    "接口测试怎么测：\r\n",
    "1）、通用接口用例设计\r\n",
    "①、通过性验证：首先肯定要保证这个接口功能是好使的，也就是正常的通过性测试，按照接口文档上的参数，正常传入，是否可以返回正确的结果。\r\n",
    "\r\n",
    "②、参数组合：现在有一个操作商品的接口，有个字段type，传1的时候代表修改商品，商品id、商品名称、价格有一个是必传的，type传2的时候是删除商品，商品id是必传的，这样的\r\n",
    "            就要测参数组合了，type传1的时候，只传商品名称能不能修改成功，id、名称、价格都传的时候能不能修改成功。\r\n",
    "\r\n",
    "③、接口安全：\r\n",
    "    1、绕过验证，比如说购买了一个商品，它的价格是300元，那我在提交订单时候，我把这个商品的价格改成3元，后端有没有做验证，更狠点，我把钱改成-3，是不是我的余额还要增加？\r\n",
    "    2、绕过身份授权，比如说修改商品信息接口，那必须得是卖家才能修改，那我传一个普通用户，能\r\n",
    "    不能修改成功，我传一个其他的卖家能不能修改成功\r\n",
    "    3、参数是否加密，比如说我登陆的接口，用户名和密码是不是加密，如果不加密的话，别人拦截到你的请求，就能获取到你的信息了，加密规则是否容易破解。\r\n",
    "    4、密码安全规则，密码的复杂程度校验\r\n",
    "\r\n",
    "④、异常验证：\r\n",
    "　　所谓异常验证，也就是我不按照你接口文档上的要求输入参数，来验证接口对异常情况的校验。\r\n",
    "    比如说必填的参数不填，输入整数类型的，传入字符串类型，长度是10的，传11，总之就是你说怎么来，我就不怎么来，其实也就这三种，必传非必传、参数类型、入参长度\r\n",
    "\r\n",
    "2）、根据业务逻辑来设计用例\r\n",
    "　　根据业务逻辑来设计的话，就是根据自己系统的业务来设计用例，这个每个公司的业务不一样，就得具体的看自己公司的业务了，其实这也和功能测试设计用例是一样的。\r\n",
    "\r\n",
    "举个例子，拿bbs来说，bbs的需求是这样的：\r\n",
    " 　　  1、登录失败5次，就需要等待15分钟之后再登录\r\n",
    " 　　  2、新注册的用户需要过了实习期才能发帖\r\n",
    "  　　 3、删除帖子扣除积分\r\n",
    "  　　 4、……\r\n",
    "  　　像这样的你就要把这些测试点列出来，然后再去造数据测试对应的测试点。"
   ],
   "outputs": [],
   "metadata": {}
  }
 ]
}