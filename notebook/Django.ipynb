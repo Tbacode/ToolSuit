{
 "cells": [
  {
   "cell_type": "code",
   "execution_count": null,
   "metadata": {},
   "outputs": [],
   "source": [
    "# 进入创建好的工程目录后， 命令行输入\n",
    "django-admin startproject 项目名"
   ]
  },
  {
   "cell_type": "code",
   "execution_count": null,
   "metadata": {},
   "outputs": [],
   "source": [
    "# 进入创建好的项目目录，创建App\n",
    "python manage.py startapp App名"
   ]
  },
  {
   "cell_type": "code",
   "execution_count": null,
   "metadata": {},
   "outputs": [],
   "source": [
    "# settings内设置注册app，加入App名\n",
    "INSTALLED_APPS = [\n",
    "    'django.contrib.admin',\n",
    "    'django.contrib.auth',\n",
    "    'django.contrib.contenttypes',\n",
    "    'django.contrib.sessions',\n",
    "    'django.contrib.messages',\n",
    "    'django.contrib.staticfiles',\n",
    "    'Test_App'\n",
    "]"
   ]
  },
  {
   "cell_type": "code",
   "execution_count": null,
   "metadata": {},
   "outputs": [],
   "source": [
    "# 设置访问HOST\n",
    "ALLOWED_HOSTS = ['*',]"
   ]
  },
  {
   "cell_type": "code",
   "execution_count": null,
   "metadata": {},
   "outputs": [],
   "source": [
    "# App-models.py内写入表结构（ORM）\n",
    "from django.db import models\n",
    "class Department(models.Model):\n",
    "    ''' 部门表 '''\n",
    "    title = models.CharField(verbose_name='标题', max_length=32)\n",
    "\n",
    "\n",
    "class UserInfo(models.Model):\n",
    "    ''' 员工表 '''\n",
    "    name = models.CharField(verbose_name='姓名', max_length=16)\n",
    "    password = models.CharField(verbose_name='密码', max_length=64)\n",
    "    age = models.IntegerField(verbose_name='年龄')\n",
    "    # 总长度为10位，小数位占2\n",
    "    account = models.DecimalField(\n",
    "        verbose_name='账户余额', max_digits=10, decimal_places=2, default=0)\n",
    "    creat_time = models.DateTimeField(verbose_name='入职时间')\n",
    "    # 无约束\n",
    "    depart_id = models.IntegerField(verbose_name='部门id')\n",
    "    # 有约束\n",
    "    #   - to, 与哪张表关联（外键）\n",
    "    #   - to_field, 与表中哪一列关联\n",
    "    # 在django中\n",
    "    #   - ForeignKey的变量定义，在生成数据列时，自动增加“_id”\n",
    "    # 如果部门被删除，\n",
    "    #   - 用户也删除：级联删除\n",
    "    depart = models.ForeignKey(\n",
    "        to='Department', to_field='id', on_delete=models.CASCADE)\n",
    "    #   - 置空，但是要确保该字段可以为空\n",
    "    # depart = models.ForeignKey(\n",
    "    #     to='Department', to_field='id', on_delete=models.SET_NULL, null=True, blank=True)\n",
    "\n",
    "    # 在Django中做的约束\n",
    "    gender_choices = (\n",
    "        (1, \"男\"),\n",
    "        (2, \"女\")\n",
    "    )\n",
    "    gender = models.SmallIntegerField(\n",
    "        verbose_name=\"性别\", choices=gender_choices)\n"
   ]
  },
  {
   "cell_type": "code",
   "execution_count": null,
   "metadata": {},
   "outputs": [],
   "source": [
    "# 链接mysql数据库, 使用Django内置数据库可以不设置此项\n",
    "DATABASES = {\n",
    "    'default': {\n",
    "        'ENGINE': 'django.db.backends.mysql',\n",
    "        'NAME': 'xxxx', # 数据库名字\n",
    "        'USER': 'root',\n",
    "        'PASSWORD': 'root123',\n",
    "        'HOST': '127.0.0.1', # 存放数据库的机器\n",
    "        'PORT': 3306\n",
    "    }\n",
    "}"
   ]
  },
  {
   "cell_type": "code",
   "execution_count": null,
   "metadata": {},
   "outputs": [],
   "source": [
    "# Django 命令生成数据表\n",
    "python manage.py makemigrations\n",
    "python manage.py migrate"
   ]
  },
  {
   "cell_type": "code",
   "execution_count": null,
   "metadata": {},
   "outputs": [],
   "source": [
    "# 使用django后台看到数据库，需要注册\n",
    "# - App-admin.py\n",
    "from App.models import *\n",
    "admin.site.register(UserInfo)\n",
    "admin.site.register(Department)"
   ]
  },
  {
   "cell_type": "code",
   "execution_count": null,
   "metadata": {},
   "outputs": [],
   "source": [
    "# 在App文件夹内，创建static和templates文件夹\n",
    "# +---css\n",
    "# +---img\n",
    "# +---js\n",
    "#        jquery-3.6.0.min.js\n",
    "# \n",
    "# \\---plugins\n",
    "#     ---bootstrap-3.4.1-dist"
   ]
  }
 ],
 "metadata": {
  "language_info": {
   "name": "python"
  },
  "orig_nbformat": 4
 },
 "nbformat": 4,
 "nbformat_minor": 2
}
