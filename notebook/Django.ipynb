{
 "cells": [
  {
   "cell_type": "code",
   "execution_count": null,
   "metadata": {},
   "outputs": [],
   "source": [
    "# 进入创建好的工程目录后， 命令行输入\n",
    "django-admin startproject 项目名"
   ]
  },
  {
   "cell_type": "code",
   "execution_count": null,
   "metadata": {},
   "outputs": [],
   "source": [
    "# 进入创建好的项目目录，创建App\n",
    "python manage.py startapp App名"
   ]
  },
  {
   "cell_type": "code",
   "execution_count": null,
   "metadata": {},
   "outputs": [],
   "source": [
    "# settings内设置注册app，加入App名\n",
    "INSTALLED_APPS = [\n",
    "    'django.contrib.admin',\n",
    "    'django.contrib.auth',\n",
    "    'django.contrib.contenttypes',\n",
    "    'django.contrib.sessions',\n",
    "    'django.contrib.messages',\n",
    "    'django.contrib.staticfiles',\n",
    "    'Test_App'\n",
    "]"
   ]
  },
  {
   "cell_type": "code",
   "execution_count": null,
   "metadata": {},
   "outputs": [],
   "source": [
    "# 设置访问HOST\n",
    "ALLOWED_HOSTS = ['*',]"
   ]
  },
  {
   "cell_type": "code",
   "execution_count": null,
   "metadata": {},
   "outputs": [],
   "source": [
    "# App-models.py内写入表结构（ORM）\n",
    "from django.db import models\n",
    "class Department(models.Model):\n",
    "    ''' 部门表 '''\n",
    "    title = models.CharField(verbose_name='标题', max_length=32)\n",
    "\n",
    "\n",
    "class UserInfo(models.Model):\n",
    "    ''' 员工表 '''\n",
    "    name = models.CharField(verbose_name='姓名', max_length=16)\n",
    "    password = models.CharField(verbose_name='密码', max_length=64)\n",
    "    age = models.IntegerField(verbose_name='年龄')\n",
    "    # 总长度为10位，小数位占2\n",
    "    account = models.DecimalField(\n",
    "        verbose_name='账户余额', max_digits=10, decimal_places=2, default=0)\n",
    "    creat_time = models.DateTimeField(verbose_name='入职时间')\n",
    "    # 无约束\n",
    "    depart_id = models.IntegerField(verbose_name='部门id')\n",
    "    # 有约束\n",
    "    #   - to, 与哪张表关联（外键）\n",
    "    #   - to_field, 与表中哪一列关联\n",
    "    # 在django中\n",
    "    #   - ForeignKey的变量定义，在生成数据列时，自动增加“_id”\n",
    "    # 如果部门被删除，\n",
    "    #   - 用户也删除：级联删除\n",
    "    depart = models.ForeignKey(\n",
    "        to='Department', to_field='id', on_delete=models.CASCADE)\n",
    "    #   - 置空，但是要确保该字段可以为空\n",
    "    # depart = models.ForeignKey(\n",
    "    #     to='Department', to_field='id', on_delete=models.SET_NULL, null=True, blank=True)\n",
    "\n",
    "    # 在Django中做的约束\n",
    "    gender_choices = (\n",
    "        (1, \"男\"),\n",
    "        (2, \"女\")\n",
    "    )\n",
    "    gender = models.SmallIntegerField(\n",
    "        verbose_name=\"性别\", choices=gender_choices)\n"
   ]
  },
  {
   "cell_type": "code",
   "execution_count": null,
   "metadata": {},
   "outputs": [],
   "source": [
    "# 链接mysql数据库, 使用Django内置数据库可以不设置此项\n",
    "DATABASES = {\n",
    "    'default': {\n",
    "        'ENGINE': 'django.db.backends.mysql',\n",
    "        'NAME': 'xxxx', # 数据库名字\n",
    "        'USER': 'root',\n",
    "        'PASSWORD': 'root123',\n",
    "        'HOST': '127.0.0.1', # 存放数据库的机器\n",
    "        'PORT': 3306\n",
    "    }\n",
    "}"
   ]
  },
  {
   "cell_type": "code",
   "execution_count": null,
   "metadata": {},
   "outputs": [],
   "source": [
    "# Django 命令生成数据表\n",
    "python manage.py makemigrations\n",
    "python manage.py migrate"
   ]
  },
  {
   "cell_type": "code",
   "execution_count": null,
   "metadata": {},
   "outputs": [],
   "source": [
    "# 使用django后台看到数据库，需要注册\n",
    "# - App-admin.py\n",
    "from App.models import *\n",
    "admin.site.register(UserInfo)\n",
    "admin.site.register(Department)"
   ]
  },
  {
   "cell_type": "code",
   "execution_count": null,
   "metadata": {},
   "outputs": [],
   "source": [
    "# 在App文件夹内，创建static和templates文件夹\n",
    "# +---css\n",
    "# +---img\n",
    "# +---js\n",
    "#        jquery-3.6.0.min.js\n",
    "# \n",
    "# \\---plugins\n",
    "#     ---bootstrap-3.4.1-dist"
   ]
  },
  {
   "cell_type": "code",
   "execution_count": null,
   "metadata": {},
   "outputs": [],
   "source": [
    "# 模板继承\n",
    "# 1. 模板定义： layout.html\n",
    "{% load static %}\n",
    "<!DOCTYPE html>\n",
    "<html lang=\"en\">\n",
    "<head>\n",
    "    <meta charset=\"UTF-8\">\n",
    "    <meta http-equiv=\"X-UA-Compatible\" content=\"IE=edge\">\n",
    "    <meta name=\"viewport\" content=\"width=device-width, initial-scale=1.0\">\n",
    "    <title>Document</title>\n",
    "    <link rel=\"stylesheet\" href=\"{% static 'plugins/bootstrap-3.4.1-dist/css/bootstrap.min.css' %}\">\n",
    "\n",
    "</head>\n",
    "<body>\n",
    "    <div>开头</div>\n",
    "\n",
    "    <div>\n",
    "        {% block content %} \n",
    "        \n",
    "        {% endblock %}\n",
    "    </div>\n",
    "\n",
    "    <div>结尾</div>\n",
    "\n",
    "    <script src=\"{% static 'js/jquery-3.6.0.min.js' %}\"></script>\n",
    "    <script src=\"{% static 'plugins/bootstrap-3.4.1-dist/js/bootstrap.min.js' %}\"></script>\n",
    "</body>\n",
    "</html>\n",
    "\n",
    "# 2. 子模板继承\n",
    "{% extends 'layout.html' %}\n",
    "{% block content %}\n",
    "<div>\n",
    "    内容\n",
    "</div>\n",
    "{% endblock %}\n",
    "\n",
    "# 3. 子页面需要引入特定的，专属的内容时，可在母模板中加入多个block\n",
    "{% block css %}{% endblock %}\n",
    "\n",
    "{% block js %}{% endblock %}\n"
   ]
  },
  {
   "cell_type": "code",
   "execution_count": 1,
   "metadata": {},
   "outputs": [
    {
     "name": "stdout",
     "output_type": "stream",
     "text": [
      "2021-11-11 00:00:00 <class 'datetime.datetime'>\n"
     ]
    }
   ],
   "source": [
    "# 字符串 -> datatime类型\n",
    "from datetime import datetime\n",
    "text = \"2021-11-11\"\n",
    "res = datetime.strptime(text, \"%Y-%m-%d\")\n",
    "print(res, type(res))"
   ]
  },
  {
   "cell_type": "code",
   "execution_count": 4,
   "metadata": {},
   "outputs": [
    {
     "name": "stdout",
     "output_type": "stream",
     "text": [
      "2022-05-11-11-59 <class 'str'>\n"
     ]
    }
   ],
   "source": [
    "# datetime类型 -> 字符串\n",
    "from datetime import datetime\n",
    "dt = datetime.now()\n",
    "res = dt.strftime(\"%Y-%m-%d-%H-%M\")\n",
    "print(res, type(res))"
   ]
  },
  {
   "cell_type": "code",
   "execution_count": 13,
   "metadata": {},
   "outputs": [
    {
     "name": "stdout",
     "output_type": "stream",
     "text": [
      "time.struct_time(tm_year=2022, tm_mon=5, tm_mday=11, tm_hour=12, tm_min=10, tm_sec=5, tm_wday=2, tm_yday=131, tm_isdst=0)\n",
      "2022--05--11 12:10:05 <class 'str'>\n"
     ]
    }
   ],
   "source": [
    "# 时间戳 -> datetime类型?\n",
    "from datetime import datetime\n",
    "import time\n",
    "ctime = time.localtime()\n",
    "print(ctime)\n",
    "res = time.strftime(\"%Y--%m--%d %H:%M:%S\", ctime)\n",
    "print(res, type(res))"
   ]
  },
  {
   "cell_type": "code",
   "execution_count": null,
   "metadata": {},
   "outputs": [],
   "source": [
    "queryset = UserInfo.objects.all()\n",
    "    # 内容获取知识点\n",
    "    # for obj in queryset:\n",
    "    # 1. datetime转换 \n",
    "    #   obj.creat_time.strftime(\"%Y-%m-%d\")\n",
    "    # 2. choices 获取\n",
    "    #   obj.gender -> 1\\2\n",
    "    #   obj.get_gender_display() ->1对应男，2对应女 get_属性名_display()\n",
    "    # 3. 连表查询\n",
    "    #   obj.depart_id -> id数据\n",
    "    #   obj.depart.title -> id对应的表中title"
   ]
  },
  {
   "cell_type": "code",
   "execution_count": null,
   "metadata": {},
   "outputs": [],
   "source": [
    "# 初识Django Form组件\n",
    "# 1. views.py\n",
    "class MyForm(Django中的form):\n",
    "    user = forms.CharField(widget=forms.Input)\n",
    "    pwd = forms.CharField(widget=forms.Input)\n",
    "    email = forms.CharField(widget=forms.Input)\n",
    "\n",
    "def user_add(request):\n",
    "    if request.method == \"GET\":\n",
    "        form = MyForm()\n",
    "        return render(request, \"user_add.html\", {\"form\": form})\n",
    "\n",
    "\n",
    "\n",
    "# 2. user_add.html\n",
    "<form method=\"post\">\n",
    "    {% csrf_token %}\n",
    "    # <div class=\"form-group\">\n",
    "    #     <label>部门名称</label>\n",
    "    #     <input type=\"text\" class=\"form-control\" placeholder=\"部门名称\" name=\"title\">\n",
    "    # </div>\n",
    "    {% for field in form %}\n",
    "        {{ field }} # 一个field相当于一个form.属性名\n",
    "    {% endfor %}\n",
    "\n",
    "    # 不使用for循环\n",
    "    {% form.user %}\n",
    "    {% form.pwd %}\n",
    "    {% form.email %}\n",
    "</form>"
   ]
  },
  {
   "cell_type": "code",
   "execution_count": null,
   "metadata": {},
   "outputs": [],
   "source": [
    "# ModelsForm组件 （推荐做法）\n",
    "# 1. 在原有的Form基础上进一步简化代码\n",
    "# 1.1 views.py\n",
    "class MyForm(forms.ModelForm):\n",
    "    # xx = form.CharField(.....) 支持models基础上自定义的内容\n",
    "    class Meta:\n",
    "        model = UserInfo # 实例话一个models的实例\n",
    "        fields = [\"name\", \"password\", ....] # 加入想要显示的字段名称\n",
    "\n",
    "def user_add(request):\n",
    "    if request.method == \"GET\":\n",
    "        form = MyForm()\n",
    "        return render(request, \"user_add.html\", {\"form\": form})"
   ]
  },
  {
   "cell_type": "code",
   "execution_count": null,
   "metadata": {},
   "outputs": [],
   "source": [
    "# models.py 内，类方法加入__str__方法，返回想要显示的内容\n",
    "# 保证在需要用的的时候，显示正确信息，而不是一个obj\n",
    "class Department(models.Model):\n",
    "    ''' 部门表 '''\n",
    "    title = models.CharField(verbose_name='标题', max_length=32)\n",
    "    docs = models.CharField(verbose_name=\"描述\", max_length=100, default=\"描述\")\n",
    "\n",
    "    def __str__(self) -> str:\n",
    "        return self.title"
   ]
  },
  {
   "cell_type": "code",
   "execution_count": null,
   "metadata": {},
   "outputs": [],
   "source": [
    "# ModelForm自动填充\n",
    "def user_edit(request, nid):\n",
    "    row_obj = UserInfo.objects.filter(id=nid).first()\n",
    "    form = UserModelForm(instance=row_obj)\n",
    "    return render(request, 'user_edit.html', {\"form\": form})"
   ]
  },
  {
   "cell_type": "code",
   "execution_count": null,
   "metadata": {},
   "outputs": [],
   "source": [
    "row_obj = UserInfo.objects.filter(id=nid).first()\n",
    "# 这里用ModelForm更新表，需要加入更新对象，不然就是新增\n",
    "form = UserModelForm(data=request.POST, instance=row_obj)\n",
    "if form.is_valid():\n",
    "    form.save()\n",
    "    return redirect('/user/list/')"
   ]
  },
  {
   "cell_type": "code",
   "execution_count": null,
   "metadata": {},
   "outputs": [],
   "source": [
    "# form.save的补充知识\n",
    "form.sava() 实际是保存输入的所有内容，如果在输入内容上存在其他要保存到数据库中的数据可以用下面的方法新增\n",
    "from.instance.字段名 = 值\n",
    "form.save()"
   ]
  }
 ],
 "metadata": {
  "interpreter": {
   "hash": "4c1a9599422483e3d54e2ede29aa24b2e29bc6c18b5fc626f09e3030ce030b3c"
  },
  "kernelspec": {
   "display_name": "Python 3.9.6 64-bit",
   "language": "python",
   "name": "python3"
  },
  "language_info": {
   "codemirror_mode": {
    "name": "ipython",
    "version": 3
   },
   "file_extension": ".py",
   "mimetype": "text/x-python",
   "name": "python",
   "nbconvert_exporter": "python",
   "pygments_lexer": "ipython3",
   "version": "3.9.6"
  },
  "orig_nbformat": 4
 },
 "nbformat": 4,
 "nbformat_minor": 2
}
