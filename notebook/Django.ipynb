{
 "cells": [
  {
   "cell_type": "code",
   "execution_count": null,
   "metadata": {},
   "outputs": [],
   "source": [
    "# 进入创建好的工程目录后， 命令行输入\n",
    "django-admin startproject 项目名"
   ]
  },
  {
   "cell_type": "code",
   "execution_count": null,
   "metadata": {},
   "outputs": [],
   "source": [
    "# 进入创建好的项目目录，创建App\n",
    "python manage.py startapp App名"
   ]
  },
  {
   "cell_type": "code",
   "execution_count": null,
   "metadata": {},
   "outputs": [],
   "source": [
    "# settings内设置注册app，加入App名\n",
    "INSTALLED_APPS = [\n",
    "    'django.contrib.admin',\n",
    "    'django.contrib.auth',\n",
    "    'django.contrib.contenttypes',\n",
    "    'django.contrib.sessions',\n",
    "    'django.contrib.messages',\n",
    "    'django.contrib.staticfiles',\n",
    "    'Test_App'\n",
    "]"
   ]
  },
  {
   "cell_type": "code",
   "execution_count": null,
   "metadata": {},
   "outputs": [],
   "source": [
    "# 设置访问HOST\n",
    "ALLOWED_HOSTS = ['*',]"
   ]
  },
  {
   "cell_type": "code",
   "execution_count": null,
   "metadata": {},
   "outputs": [],
   "source": [
    "# App-models.py内写入表结构（ORM）\n",
    "from django.db import models\n",
    "class Department(models.Model):\n",
    "    ''' 部门表 '''\n",
    "    title = models.CharField(verbose_name='标题', max_length=32)\n",
    "\n",
    "\n",
    "class UserInfo(models.Model):\n",
    "    ''' 员工表 '''\n",
    "    name = models.CharField(verbose_name='姓名', max_length=16)\n",
    "    password = models.CharField(verbose_name='密码', max_length=64)\n",
    "    age = models.IntegerField(verbose_name='年龄')\n",
    "    # 总长度为10位，小数位占2\n",
    "    account = models.DecimalField(\n",
    "        verbose_name='账户余额', max_digits=10, decimal_places=2, default=0)\n",
    "    creat_time = models.DateTimeField(verbose_name='入职时间')\n",
    "    # 无约束\n",
    "    depart_id = models.IntegerField(verbose_name='部门id')\n",
    "    # 有约束\n",
    "    #   - to, 与哪张表关联（外键）\n",
    "    #   - to_field, 与表中哪一列关联\n",
    "    # 在django中\n",
    "    #   - ForeignKey的变量定义，在生成数据列时，自动增加“_id”\n",
    "    # 如果部门被删除，\n",
    "    #   - 用户也删除：级联删除\n",
    "    depart = models.ForeignKey(\n",
    "        to='Department', to_field='id', on_delete=models.CASCADE)\n",
    "    #   - 置空，但是要确保该字段可以为空\n",
    "    # depart = models.ForeignKey(\n",
    "    #     to='Department', to_field='id', on_delete=models.SET_NULL, null=True, blank=True)\n",
    "\n",
    "    # 在Django中做的约束\n",
    "    gender_choices = (\n",
    "        (1, \"男\"),\n",
    "        (2, \"女\")\n",
    "    )\n",
    "    gender = models.SmallIntegerField(\n",
    "        verbose_name=\"性别\", choices=gender_choices)\n"
   ]
  },
  {
   "cell_type": "code",
   "execution_count": null,
   "metadata": {},
   "outputs": [],
   "source": [
    "# 链接mysql数据库, 使用Django内置数据库可以不设置此项\n",
    "DATABASES = {\n",
    "    'default': {\n",
    "        'ENGINE': 'django.db.backends.mysql',\n",
    "        'NAME': 'xxxx', # 数据库名字\n",
    "        'USER': 'root',\n",
    "        'PASSWORD': 'root123',\n",
    "        'HOST': '127.0.0.1', # 存放数据库的机器\n",
    "        'PORT': 3306\n",
    "    }\n",
    "}"
   ]
  },
  {
   "cell_type": "code",
   "execution_count": null,
   "metadata": {},
   "outputs": [],
   "source": [
    "# Django 命令生成数据表\n",
    "python manage.py makemigrations\n",
    "python manage.py migrate"
   ]
  },
  {
   "cell_type": "code",
   "execution_count": null,
   "metadata": {},
   "outputs": [],
   "source": [
    "# 使用django后台看到数据库，需要注册\n",
    "# - App-admin.py\n",
    "from App.models import *\n",
    "admin.site.register(UserInfo)\n",
    "admin.site.register(Department)"
   ]
  },
  {
   "cell_type": "code",
   "execution_count": null,
   "metadata": {},
   "outputs": [],
   "source": [
    "# 在App文件夹内，创建static和templates文件夹\n",
    "# +---css\n",
    "# +---img\n",
    "# +---js\n",
    "#        jquery-3.6.0.min.js\n",
    "# \n",
    "# \\---plugins\n",
    "#     ---bootstrap-3.4.1-dist"
   ]
  },
  {
   "cell_type": "code",
   "execution_count": null,
   "metadata": {},
   "outputs": [],
   "source": [
    "# 模板继承\n",
    "# 1. 模板定义： layout.html\n",
    "{% load static %}\n",
    "<!DOCTYPE html>\n",
    "<html lang=\"en\">\n",
    "<head>\n",
    "    <meta charset=\"UTF-8\">\n",
    "    <meta http-equiv=\"X-UA-Compatible\" content=\"IE=edge\">\n",
    "    <meta name=\"viewport\" content=\"width=device-width, initial-scale=1.0\">\n",
    "    <title>Document</title>\n",
    "    <link rel=\"stylesheet\" href=\"{% static 'plugins/bootstrap-3.4.1-dist/css/bootstrap.min.css' %}\">\n",
    "\n",
    "</head>\n",
    "<body>\n",
    "    <div>开头</div>\n",
    "\n",
    "    <div>\n",
    "        {% block content %} \n",
    "        \n",
    "        {% endblock %}\n",
    "    </div>\n",
    "\n",
    "    <div>结尾</div>\n",
    "\n",
    "    <script src=\"{% static 'js/jquery-3.6.0.min.js' %}\"></script>\n",
    "    <script src=\"{% static 'plugins/bootstrap-3.4.1-dist/js/bootstrap.min.js' %}\"></script>\n",
    "</body>\n",
    "</html>\n",
    "\n",
    "# 2. 子模板继承\n",
    "{% extends 'layout.html' %}\n",
    "{% block content %}\n",
    "<div>\n",
    "    内容\n",
    "</div>\n",
    "{% endblock %}\n",
    "\n",
    "# 3. 子页面需要引入特定的，专属的内容时，可在母模板中加入多个block\n",
    "{% block css %}{% endblock %}\n",
    "\n",
    "{% block js %}{% endblock %}\n"
   ]
  },
  {
   "cell_type": "code",
   "execution_count": null,
   "metadata": {},
   "outputs": [],
   "source": [
    "# 字符串 -> datatime类型\n",
    "from datetime import datetime\n",
    "text = \"2021-11-11\"\n",
    "res = datetime.strptime(text, \"%Y-%m-%d\")\n",
    "print(res, type(res))"
   ]
  },
  {
   "cell_type": "code",
   "execution_count": null,
   "metadata": {},
   "outputs": [],
   "source": [
    "# datetime类型 -> 字符串\n",
    "from datetime import datetime\n",
    "dt = datetime.now()\n",
    "res = dt.strftime(\"%Y-%m-%d-%H-%M\")\n",
    "print(res, type(res))"
   ]
  },
  {
   "cell_type": "code",
   "execution_count": null,
   "metadata": {},
   "outputs": [],
   "source": [
    "# 时间戳 -> datetime类型?\n",
    "from datetime import datetime\n",
    "import time\n",
    "ctime = time.localtime()\n",
    "print(ctime)\n",
    "res = time.strftime(\"%Y--%m--%d %H:%M:%S\", ctime)\n",
    "print(res, type(res))"
   ]
  },
  {
   "cell_type": "code",
   "execution_count": null,
   "metadata": {},
   "outputs": [],
   "source": [
    "queryset = UserInfo.objects.all()\n",
    "    # 内容获取知识点\n",
    "    # for obj in queryset:\n",
    "    # 1. datetime转换 \n",
    "    #   obj.creat_time.strftime(\"%Y-%m-%d\")\n",
    "    # 2. choices 获取\n",
    "    #   obj.gender -> 1\\2\n",
    "    #   obj.get_gender_display() ->1对应男，2对应女 get_属性名_display()\n",
    "    # 3. 连表查询\n",
    "    #   obj.depart_id -> id数据\n",
    "    #   obj.depart.title -> id对应的表中title"
   ]
  },
  {
   "cell_type": "code",
   "execution_count": null,
   "metadata": {},
   "outputs": [],
   "source": [
    "# 初识Django Form组件\n",
    "# 1. views.py\n",
    "class MyForm(Django中的forms):\n",
    "    user = forms.CharField(widget=forms.Input)\n",
    "    pwd = forms.CharField(widget=forms.Input)\n",
    "    email = forms.CharField(widget=forms.Input)\n",
    "\n",
    "def user_add(request):\n",
    "    if request.method == \"GET\":\n",
    "        form = MyForm()\n",
    "        return render(request, \"user_add.html\", {\"form\": form})\n",
    "\n",
    "\n",
    "\n",
    "# 2. user_add.html\n",
    "<form method=\"post\">\n",
    "    {% csrf_token %}\n",
    "    # <div class=\"form-group\">\n",
    "    #     <label>部门名称</label>\n",
    "    #     <input type=\"text\" class=\"form-control\" placeholder=\"部门名称\" name=\"title\">\n",
    "    # </div>\n",
    "    {% for field in form %}\n",
    "        {{ field }} # 一个field相当于一个form.属性名\n",
    "    {% endfor %}\n",
    "\n",
    "    # 不使用for循环\n",
    "    {% form.user %}\n",
    "    {% form.pwd %}\n",
    "    {% form.email %}\n",
    "</form>"
   ]
  },
  {
   "cell_type": "code",
   "execution_count": null,
   "metadata": {},
   "outputs": [],
   "source": [
    "# ModelsForm组件 （推荐做法）\n",
    "# 1. 在原有的Form基础上进一步简化代码\n",
    "# 1.1 views.py\n",
    "class MyForm(forms.ModelForm):\n",
    "    # xx = forms.CharField(.....) 支持models基础上自定义的内容\n",
    "    # 1.2 字段校验，保存库时候，校验\n",
    "    # from django.core.validators import RegexValidator\n",
    "    # mobile = forms.CharField(label=\"手机号\",\n",
    "    #     validator=[RegexValidator(r'^1\\d{10}$', '手机号1开头，11位数'), ]\n",
    "    # )\n",
    "    class Meta:\n",
    "        model = UserInfo # 实例话一个models的实例\n",
    "        fields = [\"name\", \"password\", ....] # 加入想要显示的字段名称\n",
    "        # fields = \"__all__\" 加入所有字段来显示\n",
    "        # exclude = [\"password\"] 排除list内字段显示剩余字段\n",
    "\n",
    "def user_add(request):\n",
    "    if request.method == \"GET\":\n",
    "        form = MyForm()\n",
    "        return render(request, \"user_add.html\", {\"form\": form})"
   ]
  },
  {
   "cell_type": "code",
   "execution_count": null,
   "metadata": {},
   "outputs": [],
   "source": [
    "# models.py 内，类方法加入__str__方法，返回想要显示的内容\n",
    "# 保证在需要用的的时候，显示正确信息，而不是一个obj\n",
    "class Department(models.Model):\n",
    "    ''' 部门表 '''\n",
    "    title = models.CharField(verbose_name='标题', max_length=32)\n",
    "    docs = models.CharField(verbose_name=\"描述\", max_length=100, default=\"描述\")\n",
    "\n",
    "    def __str__(self) -> str:\n",
    "        return self.title"
   ]
  },
  {
   "cell_type": "code",
   "execution_count": null,
   "metadata": {},
   "outputs": [],
   "source": [
    "# ModelForm自动填充\n",
    "def user_edit(request, nid):\n",
    "    row_obj = UserInfo.objects.filter(id=nid).first()\n",
    "    form = UserModelForm(instance=row_obj)\n",
    "    return render(request, 'user_edit.html', {\"form\": form})"
   ]
  },
  {
   "cell_type": "code",
   "execution_count": null,
   "metadata": {},
   "outputs": [],
   "source": [
    "row_obj = UserInfo.objects.filter(id=nid).first()\n",
    "# 这里用ModelForm更新表，需要加入更新对象，不然就是新增\n",
    "form = UserModelForm(data=request.POST, instance=row_obj)\n",
    "if form.is_valid():\n",
    "    form.save()\n",
    "    return redirect('/user/list/')"
   ]
  },
  {
   "cell_type": "code",
   "execution_count": null,
   "metadata": {},
   "outputs": [],
   "source": [
    "# form.save的补充知识\n",
    "form.sava() 实际是保存输入的所有内容，如果在输入内容上存在其他要保存到数据库中的数据可以用下面的方法新增\n",
    "from.instance.字段名 = 值\n",
    "form.save()"
   ]
  },
  {
   "cell_type": "code",
   "execution_count": null,
   "metadata": {},
   "outputs": [],
   "source": [
    "# ModelForm组件，关于字段验证\n",
    "# 1. views.py\n",
    "class MyForm(forms.ModelForm):\n",
    "    # 方法一\n",
    "    # 1.1 字段校验，保存库时候，校验 \n",
    "    # from django.core.validators import RegexValidator\n",
    "    # mobile = forms.CharField(label=\"手机号\",\n",
    "    #     validator=[RegexValidator(r'^1\\d{10}$', '手机号1开头，11位数'), ]\n",
    "    # )\n",
    "    class Meta:\n",
    "        model = UserInfo # 实例话一个models的实例\n",
    "        fields = [\"name\", \"password\", ....] # 加入想要显示的字段名称\n",
    "        # fields = \"__all__\" 加入所有字段来显示\n",
    "        # exclude = [\"password\"] 排除list内字段显示剩余字段\n",
    "\n",
    "    # 方法二 : 钩子函数，clean_字段名称\n",
    "    def clean_name(self):\n",
    "        txt_name = self.cleaned_data['name'] # 用户输入的该字段内容\n",
    "        pass # 这里写 对于name字段自己想要的验证规则\n",
    "        # 验证成功，直接返回用户输入\n",
    "        # return txt_name\n",
    "        # 验证失败\n",
    "        from django.core.exceptions import ValidationError\n",
    "        return ValidationError(\"姓名重复\")"
   ]
  },
  {
   "cell_type": "code",
   "execution_count": null,
   "metadata": {},
   "outputs": [],
   "source": [
    "# ****************** PhoneEditModelForm ******************\n",
    "class PhoneEditModelForm(forms.ModelForm):\n",
    "    mobile = forms.CharField(disabled=True)  # 显示但是不可编辑\n",
    "\n",
    "    class Meta:\n",
    "        model = PhoneNumber\n",
    "        # fields = [\"mobile\", \"price\", \"level\", \"status\"]\n",
    "        fields = \"__all__\"\n",
    "\n",
    "    # 这里统一为展示的标签增加class属性，保留统一的样式\n",
    "    def __init__(self, *args, **kwargs) -> None:\n",
    "        super().__init__(*args, **kwargs)\n",
    "\n",
    "        for name, field in self.fields.items():\n",
    "            # if name == 'password':\n",
    "            #     field.widget.attrs = {\"type\": \"password\"}\n",
    "            # elif name == \"creat_time\":\n",
    "            #     field.widget.attrs = {\"type\": \"Date\"}\n",
    "            field.widget.attrs = {\"class\": \"form-control\"}\n",
    "    \n",
    "    # 钩子方法：在编辑时，排除自身去验证字段重复\n",
    "    def clean_mobile(self):\n",
    "        # 当前编辑的那一行的ID ，其实就是该对象的主键pk。\n",
    "        # 因为实例化该类时，传入了instance，代表的row_obj对象\n",
    "        pk_id = self.instance.pk\n",
    "        txt_mobile = self.cleaned_data['mobile']\n",
    "        # 判断是当前修改ID，但是号码相同的数据，是否存在\n",
    "        exist_mobile = PhoneNumber.objects.exclude(id=pk_id).filter(mobile=txt_mobile).exists()\n",
    "        if exist_mobile:\n",
    "            raise ValidationError(\"手机号已经存在\")\n",
    "        return txt_mobile\n",
    "# ****************** end PhoneEditModelForm ******************"
   ]
  },
  {
   "cell_type": "code",
   "execution_count": null,
   "metadata": {},
   "outputs": [],
   "source": [
    "# 认识filter的多条件查询\n",
    "# 1.1\n",
    "models.PhoneNumber.objects.filter(mobile='12588888888', id=2)\n",
    "\n",
    "# 1.2\n",
    "data_dict = {\n",
    "    \"mobile\": \"12588888888\",\n",
    "    \"id\": 2\n",
    "}\n",
    "models.PhoneNumber.objects.filter(**data_dict)"
   ]
  },
  {
   "cell_type": "code",
   "execution_count": null,
   "metadata": {},
   "outputs": [],
   "source": [
    "# Django数字的筛选\n",
    "models.PhoneNumber.objects.filter(id=2) # 等于2\n",
    "models.PhoneNumber.objects.filter(id__gt=2) # 大于，双下划线\n",
    "models.PhoneNumber.objects.filter(id__gte=2) # 大于等于，双下划线\n",
    "models.PhoneNumber.objects.filter(id__lt=2) # 小于，双下划线\n",
    "models.PhoneNumber.objects.filter(id__lte=2) # 小于等于，双下划线"
   ]
  },
  {
   "cell_type": "code",
   "execution_count": null,
   "metadata": {},
   "outputs": [],
   "source": [
    "# Django字符串的筛选\n",
    "models.PhoneNumber.objects.filter(mobile=\"123\") # 完全等于\n",
    "models.PhoneNumber.objects.filter(mobile__startwith=\"123\") # 以xxx开始\n",
    "models.PhoneNumber.objects.filter(mobile__endwith=\"123\") # 以xxx结尾\n",
    "models.PhoneNumber.objects.filter(mobile__contains=\"123\") # 包含xxx"
   ]
  }
 ],
 "metadata": {
  "interpreter": {
   "hash": "4c1a9599422483e3d54e2ede29aa24b2e29bc6c18b5fc626f09e3030ce030b3c"
  },
  "kernelspec": {
   "display_name": "Python 3.9.6 64-bit",
   "language": "python",
   "name": "python3"
  },
  "language_info": {
   "codemirror_mode": {
    "name": "ipython",
    "version": 3
   },
   "file_extension": ".py",
   "mimetype": "text/x-python",
   "name": "python",
   "nbconvert_exporter": "python",
   "pygments_lexer": "ipython3",
   "version": "3.9.6"
  },
  "orig_nbformat": 4
 },
 "nbformat": 4,
 "nbformat_minor": 2
}
