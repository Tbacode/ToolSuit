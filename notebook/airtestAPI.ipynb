{
 "cells": [
  {
   "cell_type": "code",
   "execution_count": null,
   "metadata": {},
   "outputs": [],
   "source": [
    "check_app(package)\n",
    "检查package在设备中是否存在\n",
    "\n",
    "参数:\tpackage – package name\n",
    "返回:\t如果存在，返回True\n",
    "Raises:\tAirtestError – raised if package is not found\n"
   ]
  },
  {
   "cell_type": "code",
   "execution_count": null,
   "metadata": {},
   "outputs": [],
   "source": [
    "start_app(package, activity=None)\n",
    "启动应用\n",
    "\n",
    "参数:\n",
    "package – package name\n",
    "activity – activity name\n",
    "返回:\tNone\n"
   ]
  },
  {
   "cell_type": "code",
   "execution_count": null,
   "metadata": {},
   "outputs": [],
   "source": [
    "start_app_timing(package, activity)\n",
    "启动应用，并且返回启动耗费时间\n",
    "\n",
    "参数:\n",
    "package – package name\n",
    "activity – activity name\n",
    "返回:\tapp启动时间\n"
   ]
  },
  {
   "cell_type": "code",
   "execution_count": null,
   "metadata": {},
   "outputs": [],
   "source": [
    "stop_app(package)\n",
    "停止应用\n",
    "\n",
    "参数:\tpackage – package name\n",
    "返回:\tNone\n"
   ]
  },
  {
   "cell_type": "code",
   "execution_count": null,
   "metadata": {},
   "outputs": [],
   "source": [
    "clear_app(package)\n",
    "清理应用数据\n",
    "\n",
    "参数:\tpackage – package name\n",
    "返回:\tNone\n"
   ]
  },
  {
   "cell_type": "code",
   "execution_count": null,
   "metadata": {},
   "outputs": [],
   "source": [
    "install_app(filepath, replace=False, install_options=None)\n",
    "将应用安装到手机上\n",
    "\n",
    "参数:\n",
    "filepath – apk 文件在PC上的完整路径\n",
    "replace – 如果应用已存在，是否替换\n",
    "install_options – install命令的额外选项，默认是[]\n",
    "返回:\t安装进程的输出内容\n"
   ]
  },
  {
   "cell_type": "code",
   "execution_count": null,
   "metadata": {},
   "outputs": [],
   "source": [
    "uninstall_app(package)\n",
    "从设备中卸载应用\n",
    "\n",
    "参数:\tpackage – package name\n",
    "返回:\t卸载进程中的输出内容\n"
   ]
  },
  {
   "cell_type": "code",
   "execution_count": null,
   "metadata": {},
   "outputs": [],
   "source": [
    "wake()\n",
    "执行唤醒操作\n",
    "\n",
    "返回:\tNone\n"
   ]
  },
  {
   "cell_type": "code",
   "execution_count": null,
   "metadata": {},
   "outputs": [],
   "source": [
    "home()\n",
    "按下HOME键\n",
    "\n",
    "返回:\tNone\n"
   ]
  },
  {
   "cell_type": "code",
   "execution_count": null,
   "metadata": {},
   "outputs": [],
   "source": [
    "is_locked()\n",
    "如果是锁定状态返回True，否则False\n",
    "\n",
    "Notes\n",
    "\n",
    "部分设备上可能不可用\n",
    "\n",
    "返回:\tTrue or False\n"
   ]
  },
  {
   "cell_type": "code",
   "execution_count": null,
   "metadata": {},
   "outputs": [],
   "source": [
    "unlock()\n",
    "解锁设备\n",
    "\n",
    "Notes\n",
    "\n",
    "不一定在所有设备上都可用\n",
    "\n",
    "返回:\tNone\n"
   ]
  },
  {
   "cell_type": "code",
   "execution_count": null,
   "metadata": {},
   "outputs": [],
   "source": [
    "get_top_activity_name()\n",
    "获取当前上层activity的名字\n",
    "返回：  activity名字\n"
   ]
  },
  {
   "cell_type": "code",
   "execution_count": null,
   "metadata": {},
   "outputs": [],
   "source": [
    "python - m airtest run \"C:\\Users\\xt875\\Documents\\airtest\\BBB_airtest.air\" - -device Android: // 127.0.0.1: 5037/HT7941A04009 - -log \"C:\\Users\\xt875\\Desktop\\airtest_file\\log\" - -recording\n"
   ]
  },
  {
   "cell_type": "code",
   "execution_count": null,
   "metadata": {},
   "outputs": [],
   "source": [
    "python - m airtest report \"C:\\Users\\xt875\\Documents\\airtest\\BBB_airtest.air\" - -log_root \"C:\\Users\\xt875\\Desktop\\airtest_file\\log\" - -export \"C:\\Users\\xt875\\Desktop\\airtest_file\\report\" - -lang zh\n"
   ]
  },
  {
   "cell_type": "code",
   "execution_count": null,
   "metadata": {},
   "outputs": [],
   "source": [
    "# BBB 包名\n",
    "com.brick.breaker.ball.shooting.blast/com.unity3d.player.MainActivity\n"
   ]
  },
  {
   "cell_type": "code",
   "execution_count": null,
   "metadata": {},
   "outputs": [],
   "source": [
    "# BBB 包名\n",
    "com.brick.breaker.ball.shooting.blast / \\\n",
    "    com.unity3d.services.ads.adunit.AdUnitActivity\n"
   ]
  }
 ],
 "metadata": {
  "interpreter": {
   "hash": "89f3d767b852d1319be78eda77665a9cd388267eb379e1966e7c1f10ba0773f7"
  },
  "kernelspec": {
   "display_name": "Python 3.8.8 64-bit",
   "name": "python3"
  },
  "language_info": {
   "codemirror_mode": {
    "name": "ipython",
    "version": 3
   },
   "file_extension": ".py",
   "mimetype": "text/x-python",
   "name": "python",
   "nbconvert_exporter": "python",
   "pygments_lexer": "ipython3",
   "version": "3.8.8"
  },
  "orig_nbformat": 4
 },
 "nbformat": 4,
 "nbformat_minor": 2
}
