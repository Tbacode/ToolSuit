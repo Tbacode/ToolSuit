{
 "cells": [
  {
   "cell_type": "code",
   "execution_count": null,
   "source": [
    "# 正则表达式分组：在完整的模式中定义子模式，将每个圆括号中子模式匹配出来的结果提取出来"
   ],
   "outputs": [],
   "metadata": {}
  },
  {
   "cell_type": "code",
   "execution_count": null,
   "source": [
    "import re\n",
    "s = 'life is short, i use python'\n",
    "\n",
    "r = re.search('^life.*python$', s)\n",
    "# group(0)永远返回所有的匹配结果，想要分组结果需要指定非0的序号\n",
    "print(r.group(1))"
   ],
   "outputs": [],
   "metadata": {}
  },
  {
   "cell_type": "code",
   "execution_count": null,
   "source": [
    "# findall更方便\n",
    "r1 = re.findall('life(.*)python', s)\n",
    "print(r1)"
   ],
   "outputs": [],
   "metadata": {}
  },
  {
   "cell_type": "code",
   "execution_count": null,
   "source": [
    "s = 'life is short, i use python, i love python'\n",
    "r = re.search('life(.*)python(.*)python', s)\n",
    "print(r.group(0))\n",
    "print(r.group(1))\n",
    "print(r.group(2))\n",
    "# 简洁写法，返回元组\n",
    "print(r.group(0,1,2))\n",
    "# groups()返回组匹配，不返回完整匹配内容\n",
    "print(r.groups())\n"
   ],
   "outputs": [],
   "metadata": {}
  },
  {
   "cell_type": "code",
   "execution_count": null,
   "source": [
    "print(111)"
   ],
   "outputs": [],
   "metadata": {}
  },
  {
   "cell_type": "code",
   "execution_count": null,
   "source": [
    "import re\n",
    "\n",
    "html = \"<div><p>九霄龙吟惊天变</p></div><div><p>风云际会潜水游</p></div>\"\n",
    "# 贪婪匹配\n",
    "p = re.compile('<div><p>(.*)</p></div>',re.S)\n",
    "r_list = p.findall(html)\n",
    "print(r_list)\n",
    "\n",
    "# 非贪婪匹配\n",
    "p = re.compile('<div><p>(.*?)</p></div>',re.S)\n",
    "r_list = p.findall(html)\n",
    "print(r_list)"
   ],
   "outputs": [],
   "metadata": {}
  },
  {
   "cell_type": "code",
   "execution_count": null,
   "source": [
    "import re\n",
    "\n",
    "html = '''\n",
    "<div class=\"animal\">\n",
    "    <p class=\"name\">\n",
    "        <a title=\"Tiger\"></a>\n",
    "    </p>\n",
    "    <p class=\"content\">Two tigers two tigers run fast</p>\n",
    "</div>\n",
    "<div class=\"animal\">\n",
    "    <p class=\"name\">\n",
    "        <a title=\"Rabbit\"></a>\n",
    "    </p>\n",
    "    <p class=\"content\">Small white rabbit white and white</p>\n",
    "</div>'''\n",
    "\n",
    "p = re.compile('<div class=\"animal\">.*?title=\"(.*?)\".*?content\">(.*?)</p>.*?</div>', re.S)\n",
    "r_list = p.findall(html)\n",
    "\n",
    "for r in r_list:\n",
    "    print('animal name:', r[0].strip())\n",
    "    print('animal content:', r[1].strip())"
   ],
   "outputs": [],
   "metadata": {}
  },
  {
   "cell_type": "code",
   "execution_count": null,
   "source": [
    "# XPath即为XML路径语言，它是一种用来确定XML文档中某部分位置的语言，同样适用于HTML文档的检索\n",
    "\n",
    "# 【1】查找所有的dd节点\n",
    "#     //dd\n",
    "# 【2】获取所有电影的名称的a节点: 所有class属性值为name的a节点\n",
    "#     //p[@class=\"name\"]/a\n",
    "# 【3】获取dl节点下第2个dd节点的电影节点\n",
    "#     //dl[@class=\"board-wrapper\"]/dd[2]                          \n",
    "# 【4】获取所有电影详情页链接: 获取每个电影的a节点的href的属性值\n",
    "#     //p[@class=\"name\"]/a/@href\n",
    "# ​\n",
    "# 【注意】                             \n",
    "#     1> 只要涉及到条件,加 [] : //dl[@class=\"xxx\"]   //dl/dd[2]\n",
    "#     2> 只要获取属性值,加 @  : //dl[@class=\"xxx\"]   //p/a/@href\n",
    "\n",
    "# 【1】// : 从所有节点中查找（包括子节点和后代节点）\n",
    "# 【2】@  : 获取属性值\n",
    "#   2.1> 使用场景1（属性值作为条件）\n",
    "#        //div[@class=\"movie-item-info\"]\n",
    "#   2.2> 使用场景2（直接获取属性值）\n",
    "#        //div[@class=\"movie-item-info\"]/a/img/@src\n",
    "    \n",
    "# 【3】练习 - 猫眼电影top100\n",
    "#   3.1> 匹配电影名称\n",
    "#       //div[@class=\"movie-item-info\"]/p[1]/a/@title\n",
    "#   3.2> 匹配电影主演\n",
    "#       //div[@class=\"movie-item-info\"]/p[2]/text()\n",
    "#   3.3> 匹配上映时间\n",
    "#       //div[@class=\"movie-item-info\"]/p[3]/text()\n",
    "#   3.4> 匹配电影链接\n",
    "#       //div[@class=\"movie-item-info\"]/p[1]/a/@href"
   ],
   "outputs": [],
   "metadata": {}
  },
  {
   "cell_type": "code",
   "execution_count": null,
   "source": [
    "# 匹配多路径（或）：xpath表达式1 | xpath表达式2 | xpath表达式3\n",
    "\n",
    "# 常用函数：\n",
    "# 【1】text() ：获取节点的文本内容\n",
    "#     xpath表达式末尾不加 /text() :则得到的结果为节点对象\n",
    "#     xpath表达式末尾加 /text() 或者 /@href : 则得到结果为字符串\n",
    "        \n",
    "# 【2】contains() : 匹配属性值中包含某些字符串节点\n",
    "#     匹配class属性值中包含 'movie-item' 这个字符串的 div 节点\n",
    "#      //div[contains(@class,\"movie-item\")]\n",
    "\n",
    "# 【1】字符串: xpath表达式的末尾为: /text() 、/@href  得到的列表中为'字符串'\n",
    " \n",
    "# 【2】节点对象: 其他剩余所有情况得到的列表中均为'节点对象' \n",
    "#     [<element dd at xxxa>,<element dd at xxxb>,<element dd at xxxc>]\n",
    "#     [<element div at xxxa>,<element div at xxxb>]\n",
    "#     [<element p at xxxa>,<element p at xxxb>,<element p at xxxc>]"
   ],
   "outputs": [],
   "metadata": {}
  },
  {
   "cell_type": "code",
   "execution_count": null,
   "source": [
    "# 应用场景\n",
    "\n",
    "# 【1】多进程 ：CPU密集程序\n",
    "# 【2】多线程 ：爬虫(网络I/O)、本地磁盘I/O\n",
    "\n",
    "# 队列\n",
    "\n",
    "# 【1】导入模块\n",
    "#    from queue import Queue\n",
    "# ​\n",
    "# 【2】使用\n",
    "#     q = Queue()\n",
    "#     q.put(url)\n",
    "#     q.get()   # 当队列为空时，阻塞\n",
    "#     q.empty() # 判断队列是否为空，True/False\n",
    "# ​\n",
    "# 【3】q.get()解除阻塞方式\n",
    "#    3.1) q.get(block=False)\n",
    "#    3.2) q.get(block=True,timeout=3)\n",
    "#    3.3) if not q.empty():\n",
    "#             q.get()"
   ],
   "outputs": [],
   "metadata": {}
  },
  {
   "cell_type": "code",
   "execution_count": null,
   "source": [
    "from fake_useragent import UserAgent\n",
    "\n",
    "print(UserAgent().random)"
   ],
   "outputs": [],
   "metadata": {}
  },
  {
   "cell_type": "code",
   "execution_count": null,
   "source": [
    "# 什么是闭包（python）\n",
    "# 实例\n",
    "def curve_pre():\n",
    "    a = 10\n",
    "    def curve(x):\n",
    "        print('this is a function')\n",
    "        return a * x * x\n",
    "    return curve\n",
    "\n",
    "curve() # 调用失败，函数未定义\n",
    "# f = curve_pre() # 带有return后，赋值给变量f，成功无报错\n",
    "# print(f(2))\n"
   ],
   "outputs": [],
   "metadata": {}
  },
  {
   "cell_type": "code",
   "execution_count": null,
   "source": [
    "a = 10\n",
    "\n",
    "def f1(x):\n",
    "    return a * x * x\n",
    "\n",
    "print(f1(5))"
   ],
   "outputs": [],
   "metadata": {}
  },
  {
   "cell_type": "code",
   "execution_count": null,
   "source": [
    "def curve_pre():\n",
    "    a = 10\n",
    "    def curve(x):\n",
    "        print('this is a function')\n",
    "        return a * x * x\n",
    "    return curve\n",
    "\n",
    "a = 25 # 外部定义a的取值，是否影响最终输出结果？\n",
    "f = curve_pre()\n",
    "print(f(2))"
   ],
   "outputs": [],
   "metadata": {}
  },
  {
   "cell_type": "code",
   "execution_count": null,
   "source": [
    "def f1():\n",
    "    a = 10\n",
    "    def f2():\n",
    "        # 此时的a被python认为一个局部变量，无引用外部的环境变量\n",
    "        a = 20\n",
    "        print(a)\n",
    "    print(a)\n",
    "    f2()\n",
    "    print(a)\n",
    "f1()"
   ],
   "outputs": [],
   "metadata": {}
  },
  {
   "cell_type": "code",
   "execution_count": null,
   "source": [
    "x = 0\n",
    "3 re = 3\n",
    "4 re = 7\n",
    "5 re = 12"
   ],
   "outputs": [],
   "metadata": {}
  },
  {
   "cell_type": "code",
   "execution_count": null,
   "source": [
    "# 非闭包\n",
    "origin = 0\n",
    "\n",
    "def go(step):\n",
    "    global origin \n",
    "    origin = origin + step \n",
    "    return origin\n",
    "\n",
    "print(go(3))\n",
    "print(go(4))\n",
    "print(go(5))"
   ],
   "outputs": [],
   "metadata": {}
  },
  {
   "cell_type": "code",
   "execution_count": null,
   "source": [
    "# 闭包\n",
    "origin = 0\n",
    "\n",
    "def factory(pos):\n",
    "    def go(step):\n",
    "        nonlocal pos\n",
    "        new_pos = pos + step\n",
    "        pos = new_pos\n",
    "        return new_pos\n",
    "    return go\n",
    "\n",
    "tourist = factory(origin)\n",
    "print(tourist(3))\n",
    "print(tourist(4))\n",
    "print(tourist(5))\n"
   ],
   "outputs": [],
   "metadata": {}
  },
  {
   "cell_type": "code",
   "execution_count": null,
   "source": [
    "def f1():\n",
    "    a = 10\n",
    "    def f2(x):\n",
    "        return a * x * x\n",
    "    return f2"
   ],
   "outputs": [],
   "metadata": {}
  },
  {
   "cell_type": "code",
   "execution_count": null,
   "source": [
    "import time\n",
    "\n",
    "def download():\n",
    "    print(\"正在下载。。。\")\n",
    "    time.sleep(1)\n",
    "    print(\"下载结束。。。\")\n",
    "\n",
    "def outer(func):\n",
    "    def inter():\n",
    "        start = time.time()\n",
    "        func()\n",
    "        end = time.time()\n",
    "        print(\"下载用时：{:.2f}秒\".format(end-start))\n",
    "    return inter\n",
    "\n",
    "down = outer(download)\n",
    "down()"
   ],
   "outputs": [],
   "metadata": {}
  },
  {
   "cell_type": "code",
   "execution_count": null,
   "source": [
    "将函数看做一个对象可以做以下的事情：　　\n",
    "        1.可以赋值 　　\n",
    "        2.可以把函数当做参数传入另一个函数\n",
    "        3.可以将函数当做容器类型中的一个元素　　\n",
    "        4.可以将函数当做容器类型中的一个元素"
   ],
   "outputs": [],
   "metadata": {}
  },
  {
   "cell_type": "code",
   "execution_count": null,
   "source": [
    "# ======可以赋值 　\n",
    "def func():\n",
    "    pass\n",
    "f = func\n",
    "f"
   ],
   "outputs": [],
   "metadata": {}
  },
  {
   "cell_type": "code",
   "execution_count": null,
   "source": [
    "# ======可以把函数当做参数传入另一个函数\n",
    "def func1(func):\n",
    "    func()\n",
    "def func2():\n",
    "    print(\"222\")\n",
    "func1(func2)"
   ],
   "outputs": [],
   "metadata": {}
  },
  {
   "cell_type": "code",
   "execution_count": null,
   "source": [
    "# ======可以将函数当做容器类型中的一个元素\n",
    "def f1():\n",
    "    print(\"function f1...\")\n",
    "\n",
    "\n",
    "def f2():\n",
    "    print(\"function f2...\")\n",
    "\n",
    "\n",
    "def f3():\n",
    "    print(\"function f3...\")\n",
    "\n",
    "li = (f1, f2, f3)\n",
    "for func in li:  # 每次循环取出一个函数的内存地址。加括号代表执行\n",
    "    func()"
   ],
   "outputs": [],
   "metadata": {}
  },
  {
   "cell_type": "code",
   "execution_count": null,
   "source": [
    "# ======可以将内层函数当做外层函数的返回值\n",
    "def outer():\n",
    "    def inter():\n",
    "        print(\"inter\")\n",
    "    return inter\n",
    "outer()"
   ],
   "outputs": [],
   "metadata": {}
  },
  {
   "cell_type": "code",
   "execution_count": null,
   "source": [
    "def f1():\n",
    "    a = 25\n",
    "    def f2(x):\n",
    "        return a * x * x\n",
    "    return f2\n",
    "f = f1()\n",
    "f(2)"
   ],
   "outputs": [],
   "metadata": {}
  },
  {
   "cell_type": "code",
   "execution_count": null,
   "source": [
    "def f1():\n",
    "    a = 25\n",
    "    def f2(x):\n",
    "        return a * x * x\n",
    "    return f2\n",
    "a = 100\n",
    "f = f1()\n",
    "f(2)"
   ],
   "outputs": [],
   "metadata": {}
  },
  {
   "cell_type": "code",
   "execution_count": null,
   "source": [
    "def f1():\n",
    "    a = 25\n",
    "    def f2(x):\n",
    "        return a * x * x\n",
    "    return f2\n",
    "f = f1()\n",
    "f(2)"
   ],
   "outputs": [],
   "metadata": {}
  },
  {
   "cell_type": "code",
   "execution_count": null,
   "source": [
    "import time\n",
    "def Download():\n",
    "    print(\"xiazai...\")\n",
    "    time.sleep(1)\n",
    "    print(\"xiazaijieshu....\")\n",
    "\n",
    "def outer(func):\n",
    "    def inter():\n",
    "        start = time.time()\n",
    "        func()\n",
    "        end = time.time()\n",
    "        print(\"shijain::{:.2f}\".format(end-start))\n",
    "    return inter\n",
    "\n",
    "down = outer(Download)\n",
    "down()\n",
    "\n"
   ],
   "outputs": [],
   "metadata": {}
  },
  {
   "cell_type": "code",
   "execution_count": null,
   "source": [
    "import requests\n",
    "\n",
    "proxies = {\"https\":\"https://localhost:8888\", \"http\":\"http://localhost:8888\"}\n",
    "\n",
    "res = requests.get(\"http://www.baidu.com\", proxies=proxies,verify=False)\n",
    "print(res)\n",
    "print(res.headers)"
   ],
   "outputs": [],
   "metadata": {}
  },
  {
   "cell_type": "code",
   "execution_count": null,
   "source": [
    "import requests\n",
    "\n",
    "res = requests.get(\"http://127.0.0.1:5000/get\").text\n",
    "print(res)"
   ],
   "outputs": [],
   "metadata": {}
  },
  {
   "cell_type": "code",
   "execution_count": null,
   "source": [
    "import requests\n",
    "\n",
    "url = \"https://us-central1-coloringproject-fe7d3.cloudfunctions.net/testApi/testApi/eventList\"\n",
    "\n",
    "proxies = {\"http\":\"http://160.16.120.53:543\",\"https\":\"https://160.16.120.53:543\"}\n",
    "\n",
    "res = requests.get(url, proxies=proxies, verify=False).text\n",
    "print(res)"
   ],
   "outputs": [],
   "metadata": {}
  },
  {
   "cell_type": "code",
   "execution_count": null,
   "source": [
    "import requests\n",
    "\n",
    "url = \"http://localhost:5000/\"\n",
    "\n",
    "parm = {\n",
    "    \"username\": \"了不起的QA\"\n",
    "}\n",
    "res = requests.post(url, data=parm)\n",
    "print(res.text)"
   ],
   "outputs": [],
   "metadata": {}
  },
  {
   "cell_type": "code",
   "execution_count": null,
   "source": [
    "from datetime import datetime\n",
    "\n",
    "dayOfweek = datetime.now().isoweekday()\n",
    "print(dayOfweek)"
   ],
   "outputs": [],
   "metadata": {}
  },
  {
   "cell_type": "code",
   "execution_count": null,
   "source": [
    "str1 = \"123\"\n",
    "str2 = str1 and str1 + os.sep or ''\n",
    "str3 = str1 and str1\n",
    "print(os.sep)\n",
    "\n",
    "print(str2)"
   ],
   "outputs": [],
   "metadata": {}
  },
  {
   "cell_type": "code",
   "execution_count": null,
   "source": [
    "import zipfile\n",
    "\n",
    "startdir = r\"C:\\Users\\xt875\\Desktop\\airtest_file\\report\\BBB_airtest.log\\static\"  #要压缩的文件夹路径\n",
    "file_news = startdir +'.zip' # 压缩后文件夹的名字\n",
    "z = zipfile.ZipFile(file_news,'w',zipfile.ZIP_DEFLATED) #参数一：文件夹名\n",
    "for dirpath, dirnames, filenames in os.walk(startdir):\n",
    "    fpath = dirpath.replace(startdir,'') #这一句很重要，不replace的话，就从根目录开始复制\n",
    "    fpath = fpath and fpath + os.sep or ''#这句话理解我也点郁闷，实现当前文件夹以及包含的所有文件的压缩\n",
    "    for filename in filenames:\n",
    "        # z.write(os.path.join(dirpath, filename),fpath+filename)\n",
    "        z.write(os.path.join(dirpath, filename))\n",
    "        print ('压缩成功')\n",
    "z.close()"
   ],
   "outputs": [],
   "metadata": {}
  },
  {
   "cell_type": "code",
   "execution_count": null,
   "source": [
    "string = r\"print(1111)\"\n",
    "eval(string)\n",
    "def touch():\n",
    "    print(\"touch\")\n",
    "eval(\"touch()\")"
   ],
   "outputs": [],
   "metadata": {}
  },
  {
   "cell_type": "code",
   "execution_count": null,
   "source": [
    "for i in range(1, 10):\n",
    "    print(i)"
   ],
   "outputs": [],
   "metadata": {}
  },
  {
   "cell_type": "code",
   "execution_count": null,
   "source": [
    "\n",
    "import cv2    \n",
    "    \n",
    "img = cv2.imread(r\"C:/Users/xt875/Desktop/screen1.png\")    \n",
    "gray = cv2.cvtColor(img,cv2.COLOR_BGR2GRAY)    \n",
    "ret, binary = cv2.threshold(gray,127,255,cv2.THRESH_BINARY)    \n",
    "    \n",
    "contours, hierarchy = cv2.findContours(binary,cv2.RETR_TREE,cv2.CHAIN_APPROX_SIMPLE)    \n",
    "cv2.drawContours(img,contours,-1,(0,0,255),3)    \n",
    "    \n",
    "cv2.imshow(\"img\", img)    \n",
    "cv2.waitKey(0) "
   ],
   "outputs": [],
   "metadata": {}
  },
  {
   "cell_type": "code",
   "execution_count": null,
   "source": [
    "import cv2\n",
    "\n",
    "img = cv2.imread(r\"C:/Users/xt875/Desktop/screen1.jpg\", 1)\n",
    "img_gray = cv2.cvtColor(img, cv2.COLOR_BGR2GRAY)\n",
    "ret, thresh = cv2.threshold(img_gray, 220, 255, cv2.THRESH_BINARY)\n",
    "ret1, thresh1 = cv2.threshold(thresh, 127, 255, cv2.THRESH_BINARY) \n",
    "# print(thresh)\n",
    "\n",
    "# img[thresh == 255] = 0\n",
    "\n",
    "# kernel = cv2.getStructuringElement(cv2.MORPH_ELLIPSE, (5, 5))\n",
    "# opening = cv2.morphologyEx(img, cv2.MORPH_OPEN, kernel)\n",
    "# erosion = cv2.erode(img, kernel, iterations=1)\n",
    "\n",
    "# image, contours = cv2.findContours(opening, cv2.RETR_TREE, cv2.CHAIN_APPROX_SIMPLE)\n",
    "# print(contours)\n",
    "# print(image)\n",
    "# print(len(image))\n",
    "# draw_img = img.copy()\n",
    "\n",
    "# cv2.drawContours(img, image, -1, (0, 0, 255), 2)\n",
    "\n",
    "cv2.namedWindow('img', cv2.WINDOW_NORMAL)\n",
    "cv2.imshow(\"img\", thresh1)\n",
    "cv2.waitKey(0)"
   ],
   "outputs": [],
   "metadata": {}
  },
  {
   "cell_type": "code",
   "execution_count": null,
   "source": [
    "from PIL import Image\n",
    "from PIL import ImageChops\n",
    "import numpy as np\n",
    "import math\n",
    "import operator\n",
    "from functools import reduce\n",
    "\n",
    "def changeColor(path):\n",
    "    image = Image.open(path).convert(\"RGB\")\n",
    "    img_array = np.array(image)#把图像转成数组格式img = np.asarray(image)\n",
    "    shape = img_array.shape\n",
    "    print(img_array.shape)\n",
    "    height = shape[0]\n",
    "    width = shape[1]\n",
    "    dst = np.zeros((height,width,3))\n",
    "    for h in range(0,height):\n",
    "        for w in range(0,width):\n",
    "            (b,g,r) = img_array[h,w]\n",
    "            if (b+g+r)>100:  # 肉眼不可见的黑色\n",
    "                img_array[h, w] = (255, 0, 0)  # 红色\n",
    "            dst[h,w] = img_array[h,w]\n",
    "    img2 = Image.fromarray(np.uint8(dst))\n",
    "    img2.save(r\"C:/Users/xt875/Desktop/screenPil.jpg\")\n",
    "    return img2\n",
    "\n",
    "changeColor(r\"C:/Users/xt875/Desktop/screen1.jpg\")\n"
   ],
   "outputs": [],
   "metadata": {}
  },
  {
   "cell_type": "code",
   "execution_count": null,
   "source": [
    "def crop_img():\n",
    "        print(\"进入裁剪\")\n",
    "        Img = cv2.imread(r\"C:/Users/xt875/Documents/airtest/BBB_airtest.air/reward.jpg\")\n",
    "        cropped = Img[1430:1630, 35:1040] # 裁剪坐标为[y0:y1, x0:x1]\n",
    "        cv2.imwrite(\"C:/Users/xt875/Documents/airtest/BBB_airtest.air/screen_bbb_air_crop.jpg\", cropped)\n",
    "\n",
    "def get_location_node(numb):\n",
    "        # self.crop_img()\n",
    "        Img = cv2.imread(\"C:/Users/xt875/Documents/airtest/BBB_airtest.air/screen_bbb_air_crop.jpg\")  #读入一幅图像\n",
    "        \n",
    "\n",
    "        kernel_2 = np.ones((1, 1), np.uint8)  #2x2的卷积核\n",
    "\n",
    "        # kernel_3 = np.ones((3, 3), np.uint8)  #3x3的卷积核\n",
    "\n",
    "        # kernel_4 = np.ones((4, 4), np.uint8)  #4x4的卷积核\n",
    "        # kernel_2 = self.set_kernel(numb)\n",
    "\n",
    "        if Img is not None:  #判断图片是否读入\n",
    "\n",
    "            HSV = cv2.cvtColor(Img, cv2.COLOR_BGR2HSV)  #把BGR图像转换为HSV格式\n",
    "        '''\n",
    "\n",
    "        HSV模型中颜色的参数分别是：色调(H)，饱和度(S)，明度(V)\n",
    "\n",
    "        下面两个值是要识别的颜色范围\n",
    "\n",
    "        '''\n",
    "\n",
    "        Lower = np.array([0, 0, 240])  #要识别颜色的下限\n",
    "\n",
    "        Upper = np.array([0, 0, 254])  #要识别的颜色的上限\n",
    "\n",
    "        #mask是把HSV图片中在颜色范围内的区域变成白色，其他区域变成黑色\n",
    "\n",
    "        mask = cv2.inRange(HSV, Lower, Upper)\n",
    "\n",
    "        #下面四行是用卷积进行滤波\n",
    "\n",
    "        erosion = cv2.erode(mask, kernel_2, iterations=1)\n",
    "\n",
    "        erosion = cv2.erode(erosion, kernel_2, iterations=1)\n",
    "\n",
    "        dilation = cv2.dilate(erosion, kernel_2, iterations=1)\n",
    "\n",
    "        dilation = cv2.dilate(dilation, kernel_2, iterations=1)\n",
    "\n",
    "        #target是把原图中的非目标颜色区域去掉剩下的图像\n",
    "\n",
    "        target = cv2.bitwise_and(Img, Img, mask=dilation)\n",
    "\n",
    "        #将滤波后的图像变成二值图像放在binary中\n",
    "\n",
    "        ret, binary = cv2.threshold(dilation, 127, 255, cv2.THRESH_BINARY)\n",
    "\n",
    "        #在binary中发现轮廓，轮廓按照面积从小到大排列\n",
    "\n",
    "        # cv2.imshow(\"binary\", binary)\n",
    "\n",
    "        contours, hierarchy = cv2.findContours(binary, cv2.RETR_EXTERNAL,\n",
    "                                            cv2.CHAIN_APPROX_SIMPLE)\n",
    "\n",
    "        # print(\"++++++++contours\", contours)\n",
    "        p = 0\n",
    "        node_list = []\n",
    "\n",
    "        for i in contours:  #遍历所有的轮廓\n",
    "\n",
    "            x, y, w, h = cv2.boundingRect(i)  #将轮廓分解为识别对象的左上角坐标和宽、高\n",
    "\n",
    "            #在图像上画上矩形(图片、左上角坐标、右下角坐标、颜色、线条宽度)\n",
    "\n",
    "            cv2.rectangle(Img, (x, y), (x + w, y + h), (0,255,), 3)\n",
    "\n",
    "            # 输出图像矩形中间坐标点\n",
    "            # print(\"中心坐标：{0},{1}\".format(str(x+w/2), str(y+h/2)))\n",
    "            # print((x + w / 2, y + h / 2))\n",
    "            node_list.append((x + w / 2, y + h / 2))\n",
    "\n",
    "            #给识别对象写上标号\n",
    "\n",
    "            font = cv2.FONT_HERSHEY_SIMPLEX\n",
    "\n",
    "            cv2.putText(Img, str(p), (x - 10, y + 10), font, 1, (0, 0, 255),\n",
    "                        2)  #加减10是调整字符位置\n",
    "\n",
    "            p += 1\n",
    "\n",
    "            # print ('黄色方块的数量是',p,'个')#终端输出目标数量\n",
    "\n",
    "            # cv2.imshow('target', target)\n",
    "\n",
    "            # cv2.imshow('Mask', mask)\n",
    "\n",
    "            # cv2.imshow(\"prod\", dilation)\n",
    "\n",
    "            # cv2.imshow('Img', Img)\n",
    "\n",
    "        cv2.imwrite('Img111.png', Img)  #将画上矩形的图形保存到当前目录\n",
    "        return node_list\n",
    "\n",
    "crop_img()\n",
    "get_location_node(2)"
   ],
   "outputs": [],
   "metadata": {}
  },
  {
   "cell_type": "code",
   "execution_count": null,
   "source": [
    "import cv2\n",
    "import numpy as np\n",
    "\n",
    "rgb=\"#fefefe,#f8f8f8\"\n",
    "\n",
    "rgb = rgb.split(',')\n",
    "\n",
    "bgr = [[int(r[5:7], 16), int(r[3:5], 16), int(r[1:3], 16)] for r in rgb]\n",
    "\n",
    "hsv = [list(cv2.cvtColor(np.uint8([[b]]), cv2.COLOR_BGR2HSV)[0][0]) for b in bgr]\n",
    "\n",
    "hsv = np.array(hsv)\n",
    "\n",
    "print(\"H\", min(hsv[:, 0]), max(hsv[:, 0]))\n",
    "print(\"S\", min(hsv[:, 1]), max(hsv[:, 1]))\n",
    "print(\"V\", min(hsv[:, 2]), max(hsv[:, 2]))"
   ],
   "outputs": [],
   "metadata": {}
  },
  {
   "cell_type": "code",
   "execution_count": null,
   "source": [
    "list_1 = [(1, 2), (2, 3), (3, 4)]\n",
    "list_2 = [(1, 2), (2, 3), (3, 3)]\n",
    "print(list(set(list_1).difference(set(list_2))))"
   ],
   "outputs": [],
   "metadata": {}
  },
  {
   "cell_type": "code",
   "execution_count": null,
   "source": [
    "import cv2\n",
    "  \n",
    "img = cv2.imread(r\"C:/Users/xt875/Documents/airtest/Color_airtest.air/screen_air.jpg\")\n",
    "print(img.shape)\n",
    "cropped = img[0:1300, 0:1080] # 裁剪坐标为[y0:y1, x0:x1]\n",
    "cv2.imwrite(\"C:/Users/xt875/Documents/airtest/Color_airtest.air/screen_air_crop.jpg\", cropped)"
   ],
   "outputs": [],
   "metadata": {}
  },
  {
   "cell_type": "code",
   "execution_count": null,
   "source": [
    "list_1 = []\r\n",
    "i = None\r\n",
    "e = None\r\n",
    "list_1.append(i)\r\n",
    "list_1.append(e)\r\n",
    "print(list_1)\r\n",
    "if list_1:\r\n",
    "    print(1)"
   ],
   "outputs": [],
   "metadata": {}
  },
  {
   "cell_type": "code",
   "execution_count": null,
   "source": [
    "s = \"lite_setting.air\"\r\n",
    "s.split(\".\")[1]\r\n",
    "s.replace(\"air\", \"log\")"
   ],
   "outputs": [],
   "metadata": {}
  },
  {
   "cell_type": "code",
   "execution_count": null,
   "source": [
    "def log(func):\r\n",
    "    print(func.__name__,\"1\")\r\n",
    "    def ww(a):\r\n",
    "        print(a)\r\n",
    "        return func(a)\r\n",
    "    return ww\r\n",
    "\r\n",
    "\r\n",
    "@log\r\n",
    "def test_zzz(p):\r\n",
    "    print(\"haha\" + p)\r\n",
    "\r\n",
    "test_zzz(\"123\")"
   ],
   "outputs": [],
   "metadata": {}
  },
  {
   "cell_type": "code",
   "execution_count": null,
   "source": [
    "list_1 = [\"\", \"\"]\r\n",
    "print(list_1)\r\n",
    "if list_1 is None:\r\n",
    "    print(22222222)\r\n",
    "print(len(list_1))"
   ],
   "outputs": [],
   "metadata": {}
  },
  {
   "cell_type": "code",
   "execution_count": null,
   "source": [
    "class MytestError(Exception):\r\n",
    "    def __init__(self) -> None:\r\n",
    "        super().__init__()\r\n",
    "    \r\n",
    "    def __str__(self) -> str:\r\n",
    "        return super().__str__()\r\n",
    "\r\n",
    "class MyfirstError(MytestError):\r\n",
    "    def __init__(self, flag) -> None:\r\n",
    "        self._flag = flag\r\n",
    "\r\n",
    "    def __str__(self) -> str:\r\n",
    "        if self._flag == \"N\":\r\n",
    "            return f\"MyfirstError: this is raise exception\"\r\n",
    "\r\n",
    "class test():\r\n",
    "    @classmethod\r\n",
    "    def test_a(cls, name):\r\n",
    "        if name == \"N\":\r\n",
    "            raise MytestError(\"wode cuo\")\r\n",
    "        else:\r\n",
    "            return \"GOOD\"\r\n",
    "\r\n",
    "try:\r\n",
    "    test.test_a(\"N\")\r\n",
    "except MyfirstError as e:\r\n",
    "    print(e)"
   ],
   "outputs": [],
   "metadata": {}
  },
  {
   "cell_type": "code",
   "execution_count": null,
   "source": [
    "import unittest\r\n",
    "\r\n",
    "\r\n",
    "class UnittestTest(unittest.TestCase):\r\n",
    "\r\n",
    "    def test_01(self):\r\n",
    "        flag = True\r\n",
    "        self.assertTrue(flag)\r\n",
    "\r\n",
    "    def test_02(self):\r\n",
    "        flag = False\r\n",
    "        self.assertFalse(flag)\r\n",
    "\r\n",
    "    def test_03(self):\r\n",
    "        flag1 = 1\r\n",
    "        flag2 = 2\r\n",
    "        self.assertEqual(flag1, flag2)\r\n",
    "\r\n",
    "    def test_04(self):\r\n",
    "        data1 = {'username': '了不起的QA', 'password': '123'}\r\n",
    "        data2 = {'username': '了不起的GD', 'password': '1234'}\r\n",
    "        self.assertDictEqual(data1, data2)\r\n",
    "\r\n",
    "\r\n",
    "if __name__ == \"__main__\":\r\n",
    "    unittest.main()"
   ],
   "outputs": [],
   "metadata": {}
  },
  {
   "cell_type": "code",
   "execution_count": null,
   "source": [
    "from pyecharts.faker import Faker\r\n",
    "from pyecharts.charts import Bar\r\n",
    "from pyecharts import options as opts\r\n",
    "import pyecharts\r\n",
    "\r\n",
    "print(pyecharts.__version__)\r\n",
    "\r\n",
    "\r\n",
    "c = (\r\n",
    "    Bar()\r\n",
    "    .add_xaxis(Faker.days_attrs)\r\n",
    "    .add_yaxis(\"商家A\", Faker.days_values)\r\n",
    "    .set_global_opts(\r\n",
    "        title_opts=opts.TitleOpts(title=\"Bar-DataZoom（slider-水平）\"),\r\n",
    "        datazoom_opts=opts.DataZoomOpts(),\r\n",
    "    )\r\n",
    "    .render(\"bar_datazoom_slider.html\")\r\n",
    ")"
   ],
   "outputs": [],
   "metadata": {}
  },
  {
   "cell_type": "code",
   "execution_count": null,
   "source": [
    "import csv\r\n",
    "# path = r\"‪C:/Users/talefun/Desktop/water.csv\"\r\n",
    "path = r\"C:\\Users\\talefun\\Desktop\\water.csv\"\r\n",
    "with open(path, 'r') as fp:\r\n",
    "    lines = csv.reader(fp)\r\n",
    "    for index, line in enumerate(lines):\r\n",
    "        if index != 0:\r\n",
    "            print(\"时间差值：\" + str(int(line[3])-int(line[2])))\r\n"
   ],
   "outputs": [],
   "metadata": {}
  },
  {
   "cell_type": "code",
   "execution_count": null,
   "source": [
    "import requests\r\n",
    "\r\n",
    "url = \"https://distribute.weplayer.cc/adInfo\"\r\n",
    "\r\n",
    "header = {\r\n",
    "    # \"Content-Type\": \"application/json\",\r\n",
    "    # \"Accept\": \"text/plain\",\r\n",
    "    \"t\": \"true\"\r\n",
    "}\r\n",
    "\r\n",
    "data = {\r\n",
    "    \"platform\": \"android\",\r\n",
    "    \"packageName\": \"water.sort.puzzle.color.game\",\r\n",
    "    \"versionCode\": 2130,\r\n",
    "    \"idfa\": \"2\"\r\n",
    "}\r\n",
    "\r\n",
    "res = requests.post(url=url, data=data, headers=header)\r\n",
    "\r\n",
    "print(res.text)\r\n"
   ],
   "outputs": [],
   "metadata": {}
  },
  {
   "cell_type": "code",
   "execution_count": 2,
   "source": [
    "import unittest\r\n",
    "\r\n",
    "class Test(unittest.TestCase):\r\n",
    "    def setUp(self):\r\n",
    "        print(\"setUp执行\")\r\n",
    "\r\n",
    "    def test_a(self):\r\n",
    "        print(\"test_a执行\")\r\n",
    "\r\n",
    "    def test_b(self):\r\n",
    "        print(\"test_b执行\")\r\n",
    "\r\n",
    "\r\n",
    "if __name__ == \"__main__\":\r\n",
    "    unittest.main()"
   ],
   "outputs": [
    {
     "output_type": "stream",
     "name": "stderr",
     "text": [
      "usage: ipykernel_launcher.py [-h] [-v] [-q] [--locals] [-f] [-c] [-b]\n",
      "                             [-k TESTNAMEPATTERNS]\n",
      "                             [tests ...]\n",
      "ipykernel_launcher.py: error: argument -f/--failfast: ignored explicit argument 'C:\\\\Users\\\\xt875\\\\AppData\\\\Local\\\\Temp\\\\tmp-13544FlgCFA6autEA.json'\n",
      "ERROR:root:Internal Python error in the inspect module.\n",
      "Below is the traceback from this internal error.\n",
      "\n"
     ]
    },
    {
     "output_type": "stream",
     "name": "stdout",
     "text": [
      "Traceback (most recent call last):\n",
      "  File \"D:\\python3.9\\lib\\argparse.py\", line 1851, in parse_known_args\n",
      "    namespace, args = self._parse_known_args(args, namespace)\n",
      "  File \"D:\\python3.9\\lib\\argparse.py\", line 2060, in _parse_known_args\n",
      "    start_index = consume_optional(start_index)\n",
      "  File \"D:\\python3.9\\lib\\argparse.py\", line 1982, in consume_optional\n",
      "    raise ArgumentError(action, msg % explicit_arg)\n",
      "argparse.ArgumentError: argument -f/--failfast: ignored explicit argument 'C:\\\\Users\\\\xt875\\\\AppData\\\\Local\\\\Temp\\\\tmp-13544FlgCFA6autEA.json'\n",
      "\n",
      "During handling of the above exception, another exception occurred:\n",
      "\n",
      "Traceback (most recent call last):\n",
      "  File \"C:\\Users\\xt875\\AppData\\Roaming\\Python\\Python39\\site-packages\\IPython\\core\\interactiveshell.py\", line 3441, in run_code\n",
      "    exec(code_obj, self.user_global_ns, self.user_ns)\n",
      "  File \"<ipython-input-2-dc86a36270ef>\", line 15, in <module>\n",
      "    unittest.main()\n",
      "  File \"D:\\python3.9\\lib\\unittest\\main.py\", line 100, in __init__\n",
      "    self.parseArgs(argv)\n",
      "  File \"D:\\python3.9\\lib\\unittest\\main.py\", line 133, in parseArgs\n",
      "    self._main_parser.parse_args(argv[1:], self)\n",
      "  File \"D:\\python3.9\\lib\\argparse.py\", line 1818, in parse_args\n",
      "    args, argv = self.parse_known_args(args, namespace)\n",
      "  File \"D:\\python3.9\\lib\\argparse.py\", line 1854, in parse_known_args\n",
      "    self.error(str(err))\n",
      "  File \"D:\\python3.9\\lib\\argparse.py\", line 2575, in error\n",
      "    self.exit(2, _('%(prog)s: error: %(message)s\\n') % args)\n",
      "  File \"D:\\python3.9\\lib\\argparse.py\", line 2562, in exit\n",
      "    _sys.exit(status)\n",
      "SystemExit: 2\n",
      "\n",
      "During handling of the above exception, another exception occurred:\n",
      "\n",
      "Traceback (most recent call last):\n",
      "  File \"C:\\Users\\xt875\\AppData\\Roaming\\Python\\Python39\\site-packages\\IPython\\core\\ultratb.py\", line 1101, in get_records\n",
      "    return _fixed_getinnerframes(etb, number_of_lines_of_context, tb_offset)\n",
      "  File \"C:\\Users\\xt875\\AppData\\Roaming\\Python\\Python39\\site-packages\\IPython\\core\\ultratb.py\", line 248, in wrapped\n",
      "    return f(*args, **kwargs)\n",
      "  File \"C:\\Users\\xt875\\AppData\\Roaming\\Python\\Python39\\site-packages\\IPython\\core\\ultratb.py\", line 281, in _fixed_getinnerframes\n",
      "    records = fix_frame_records_filenames(inspect.getinnerframes(etb, context))\n",
      "  File \"D:\\python3.9\\lib\\inspect.py\", line 1541, in getinnerframes\n",
      "    frameinfo = (tb.tb_frame,) + getframeinfo(tb, context)\n",
      "AttributeError: 'tuple' object has no attribute 'tb_frame'\n"
     ]
    },
    {
     "output_type": "error",
     "ename": "TypeError",
     "evalue": "object of type 'NoneType' has no len()",
     "traceback": [
      "\u001b[1;31m---------------------------------------------------------------------------\u001b[0m",
      "\u001b[1;31mArgumentError\u001b[0m                             Traceback (most recent call last)",
      "\u001b[1;32mD:\\python3.9\\lib\\argparse.py\u001b[0m in \u001b[0;36mparse_known_args\u001b[1;34m(self, args, namespace)\u001b[0m\n\u001b[0;32m   1850\u001b[0m             \u001b[1;32mtry\u001b[0m\u001b[1;33m:\u001b[0m\u001b[1;33m\u001b[0m\u001b[1;33m\u001b[0m\u001b[0m\n\u001b[1;32m-> 1851\u001b[1;33m                 \u001b[0mnamespace\u001b[0m\u001b[1;33m,\u001b[0m \u001b[0margs\u001b[0m \u001b[1;33m=\u001b[0m \u001b[0mself\u001b[0m\u001b[1;33m.\u001b[0m\u001b[0m_parse_known_args\u001b[0m\u001b[1;33m(\u001b[0m\u001b[0margs\u001b[0m\u001b[1;33m,\u001b[0m \u001b[0mnamespace\u001b[0m\u001b[1;33m)\u001b[0m\u001b[1;33m\u001b[0m\u001b[1;33m\u001b[0m\u001b[0m\n\u001b[0m\u001b[0;32m   1852\u001b[0m             \u001b[1;32mexcept\u001b[0m \u001b[0mArgumentError\u001b[0m\u001b[1;33m:\u001b[0m\u001b[1;33m\u001b[0m\u001b[1;33m\u001b[0m\u001b[0m\n",
      "\u001b[1;32mD:\\python3.9\\lib\\argparse.py\u001b[0m in \u001b[0;36m_parse_known_args\u001b[1;34m(self, arg_strings, namespace)\u001b[0m\n\u001b[0;32m   2059\u001b[0m             \u001b[1;31m# consume the next optional and any arguments for it\u001b[0m\u001b[1;33m\u001b[0m\u001b[1;33m\u001b[0m\u001b[1;33m\u001b[0m\u001b[0m\n\u001b[1;32m-> 2060\u001b[1;33m             \u001b[0mstart_index\u001b[0m \u001b[1;33m=\u001b[0m \u001b[0mconsume_optional\u001b[0m\u001b[1;33m(\u001b[0m\u001b[0mstart_index\u001b[0m\u001b[1;33m)\u001b[0m\u001b[1;33m\u001b[0m\u001b[1;33m\u001b[0m\u001b[0m\n\u001b[0m\u001b[0;32m   2061\u001b[0m \u001b[1;33m\u001b[0m\u001b[0m\n",
      "\u001b[1;32mD:\\python3.9\\lib\\argparse.py\u001b[0m in \u001b[0;36mconsume_optional\u001b[1;34m(start_index)\u001b[0m\n\u001b[0;32m   1981\u001b[0m                         \u001b[0mmsg\u001b[0m \u001b[1;33m=\u001b[0m \u001b[0m_\u001b[0m\u001b[1;33m(\u001b[0m\u001b[1;34m'ignored explicit argument %r'\u001b[0m\u001b[1;33m)\u001b[0m\u001b[1;33m\u001b[0m\u001b[1;33m\u001b[0m\u001b[0m\n\u001b[1;32m-> 1982\u001b[1;33m                         \u001b[1;32mraise\u001b[0m \u001b[0mArgumentError\u001b[0m\u001b[1;33m(\u001b[0m\u001b[0maction\u001b[0m\u001b[1;33m,\u001b[0m \u001b[0mmsg\u001b[0m \u001b[1;33m%\u001b[0m \u001b[0mexplicit_arg\u001b[0m\u001b[1;33m)\u001b[0m\u001b[1;33m\u001b[0m\u001b[1;33m\u001b[0m\u001b[0m\n\u001b[0m\u001b[0;32m   1983\u001b[0m \u001b[1;33m\u001b[0m\u001b[0m\n",
      "\u001b[1;31mArgumentError\u001b[0m: argument -f/--failfast: ignored explicit argument 'C:\\\\Users\\\\xt875\\\\AppData\\\\Local\\\\Temp\\\\tmp-13544FlgCFA6autEA.json'",
      "\nDuring handling of the above exception, another exception occurred:\n",
      "\u001b[1;31mSystemExit\u001b[0m                                Traceback (most recent call last)",
      "    \u001b[1;31m[... skipping hidden 1 frame]\u001b[0m\n",
      "\u001b[1;32m<ipython-input-2-dc86a36270ef>\u001b[0m in \u001b[0;36m<module>\u001b[1;34m\u001b[0m\n\u001b[0;32m     14\u001b[0m \u001b[1;32mif\u001b[0m \u001b[0m__name__\u001b[0m \u001b[1;33m==\u001b[0m \u001b[1;34m\"__main__\"\u001b[0m\u001b[1;33m:\u001b[0m\u001b[1;33m\u001b[0m\u001b[1;33m\u001b[0m\u001b[0m\n\u001b[1;32m---> 15\u001b[1;33m     \u001b[0munittest\u001b[0m\u001b[1;33m.\u001b[0m\u001b[0mmain\u001b[0m\u001b[1;33m(\u001b[0m\u001b[1;33m)\u001b[0m\u001b[1;33m\u001b[0m\u001b[1;33m\u001b[0m\u001b[0m\n\u001b[0m",
      "\u001b[1;32mD:\\python3.9\\lib\\unittest\\main.py\u001b[0m in \u001b[0;36m__init__\u001b[1;34m(self, module, defaultTest, argv, testRunner, testLoader, exit, verbosity, failfast, catchbreak, buffer, warnings, tb_locals)\u001b[0m\n\u001b[0;32m     99\u001b[0m         \u001b[0mself\u001b[0m\u001b[1;33m.\u001b[0m\u001b[0mprogName\u001b[0m \u001b[1;33m=\u001b[0m \u001b[0mos\u001b[0m\u001b[1;33m.\u001b[0m\u001b[0mpath\u001b[0m\u001b[1;33m.\u001b[0m\u001b[0mbasename\u001b[0m\u001b[1;33m(\u001b[0m\u001b[0margv\u001b[0m\u001b[1;33m[\u001b[0m\u001b[1;36m0\u001b[0m\u001b[1;33m]\u001b[0m\u001b[1;33m)\u001b[0m\u001b[1;33m\u001b[0m\u001b[1;33m\u001b[0m\u001b[0m\n\u001b[1;32m--> 100\u001b[1;33m         \u001b[0mself\u001b[0m\u001b[1;33m.\u001b[0m\u001b[0mparseArgs\u001b[0m\u001b[1;33m(\u001b[0m\u001b[0margv\u001b[0m\u001b[1;33m)\u001b[0m\u001b[1;33m\u001b[0m\u001b[1;33m\u001b[0m\u001b[0m\n\u001b[0m\u001b[0;32m    101\u001b[0m         \u001b[0mself\u001b[0m\u001b[1;33m.\u001b[0m\u001b[0mrunTests\u001b[0m\u001b[1;33m(\u001b[0m\u001b[1;33m)\u001b[0m\u001b[1;33m\u001b[0m\u001b[1;33m\u001b[0m\u001b[0m\n",
      "\u001b[1;32mD:\\python3.9\\lib\\unittest\\main.py\u001b[0m in \u001b[0;36mparseArgs\u001b[1;34m(self, argv)\u001b[0m\n\u001b[0;32m    132\u001b[0m         \u001b[1;32melse\u001b[0m\u001b[1;33m:\u001b[0m\u001b[1;33m\u001b[0m\u001b[1;33m\u001b[0m\u001b[0m\n\u001b[1;32m--> 133\u001b[1;33m             \u001b[0mself\u001b[0m\u001b[1;33m.\u001b[0m\u001b[0m_main_parser\u001b[0m\u001b[1;33m.\u001b[0m\u001b[0mparse_args\u001b[0m\u001b[1;33m(\u001b[0m\u001b[0margv\u001b[0m\u001b[1;33m[\u001b[0m\u001b[1;36m1\u001b[0m\u001b[1;33m:\u001b[0m\u001b[1;33m]\u001b[0m\u001b[1;33m,\u001b[0m \u001b[0mself\u001b[0m\u001b[1;33m)\u001b[0m\u001b[1;33m\u001b[0m\u001b[1;33m\u001b[0m\u001b[0m\n\u001b[0m\u001b[0;32m    134\u001b[0m \u001b[1;33m\u001b[0m\u001b[0m\n",
      "\u001b[1;32mD:\\python3.9\\lib\\argparse.py\u001b[0m in \u001b[0;36mparse_args\u001b[1;34m(self, args, namespace)\u001b[0m\n\u001b[0;32m   1817\u001b[0m     \u001b[1;32mdef\u001b[0m \u001b[0mparse_args\u001b[0m\u001b[1;33m(\u001b[0m\u001b[0mself\u001b[0m\u001b[1;33m,\u001b[0m \u001b[0margs\u001b[0m\u001b[1;33m=\u001b[0m\u001b[1;32mNone\u001b[0m\u001b[1;33m,\u001b[0m \u001b[0mnamespace\u001b[0m\u001b[1;33m=\u001b[0m\u001b[1;32mNone\u001b[0m\u001b[1;33m)\u001b[0m\u001b[1;33m:\u001b[0m\u001b[1;33m\u001b[0m\u001b[1;33m\u001b[0m\u001b[0m\n\u001b[1;32m-> 1818\u001b[1;33m         \u001b[0margs\u001b[0m\u001b[1;33m,\u001b[0m \u001b[0margv\u001b[0m \u001b[1;33m=\u001b[0m \u001b[0mself\u001b[0m\u001b[1;33m.\u001b[0m\u001b[0mparse_known_args\u001b[0m\u001b[1;33m(\u001b[0m\u001b[0margs\u001b[0m\u001b[1;33m,\u001b[0m \u001b[0mnamespace\u001b[0m\u001b[1;33m)\u001b[0m\u001b[1;33m\u001b[0m\u001b[1;33m\u001b[0m\u001b[0m\n\u001b[0m\u001b[0;32m   1819\u001b[0m         \u001b[1;32mif\u001b[0m \u001b[0margv\u001b[0m\u001b[1;33m:\u001b[0m\u001b[1;33m\u001b[0m\u001b[1;33m\u001b[0m\u001b[0m\n",
      "\u001b[1;32mD:\\python3.9\\lib\\argparse.py\u001b[0m in \u001b[0;36mparse_known_args\u001b[1;34m(self, args, namespace)\u001b[0m\n\u001b[0;32m   1853\u001b[0m                 \u001b[0merr\u001b[0m \u001b[1;33m=\u001b[0m \u001b[0m_sys\u001b[0m\u001b[1;33m.\u001b[0m\u001b[0mexc_info\u001b[0m\u001b[1;33m(\u001b[0m\u001b[1;33m)\u001b[0m\u001b[1;33m[\u001b[0m\u001b[1;36m1\u001b[0m\u001b[1;33m]\u001b[0m\u001b[1;33m\u001b[0m\u001b[1;33m\u001b[0m\u001b[0m\n\u001b[1;32m-> 1854\u001b[1;33m                 \u001b[0mself\u001b[0m\u001b[1;33m.\u001b[0m\u001b[0merror\u001b[0m\u001b[1;33m(\u001b[0m\u001b[0mstr\u001b[0m\u001b[1;33m(\u001b[0m\u001b[0merr\u001b[0m\u001b[1;33m)\u001b[0m\u001b[1;33m)\u001b[0m\u001b[1;33m\u001b[0m\u001b[1;33m\u001b[0m\u001b[0m\n\u001b[0m\u001b[0;32m   1855\u001b[0m         \u001b[1;32melse\u001b[0m\u001b[1;33m:\u001b[0m\u001b[1;33m\u001b[0m\u001b[1;33m\u001b[0m\u001b[0m\n",
      "\u001b[1;32mD:\\python3.9\\lib\\argparse.py\u001b[0m in \u001b[0;36merror\u001b[1;34m(self, message)\u001b[0m\n\u001b[0;32m   2574\u001b[0m         \u001b[0margs\u001b[0m \u001b[1;33m=\u001b[0m \u001b[1;33m{\u001b[0m\u001b[1;34m'prog'\u001b[0m\u001b[1;33m:\u001b[0m \u001b[0mself\u001b[0m\u001b[1;33m.\u001b[0m\u001b[0mprog\u001b[0m\u001b[1;33m,\u001b[0m \u001b[1;34m'message'\u001b[0m\u001b[1;33m:\u001b[0m \u001b[0mmessage\u001b[0m\u001b[1;33m}\u001b[0m\u001b[1;33m\u001b[0m\u001b[1;33m\u001b[0m\u001b[0m\n\u001b[1;32m-> 2575\u001b[1;33m         \u001b[0mself\u001b[0m\u001b[1;33m.\u001b[0m\u001b[0mexit\u001b[0m\u001b[1;33m(\u001b[0m\u001b[1;36m2\u001b[0m\u001b[1;33m,\u001b[0m \u001b[0m_\u001b[0m\u001b[1;33m(\u001b[0m\u001b[1;34m'%(prog)s: error: %(message)s\\n'\u001b[0m\u001b[1;33m)\u001b[0m \u001b[1;33m%\u001b[0m \u001b[0margs\u001b[0m\u001b[1;33m)\u001b[0m\u001b[1;33m\u001b[0m\u001b[1;33m\u001b[0m\u001b[0m\n\u001b[0m",
      "\u001b[1;32mD:\\python3.9\\lib\\argparse.py\u001b[0m in \u001b[0;36mexit\u001b[1;34m(self, status, message)\u001b[0m\n\u001b[0;32m   2561\u001b[0m             \u001b[0mself\u001b[0m\u001b[1;33m.\u001b[0m\u001b[0m_print_message\u001b[0m\u001b[1;33m(\u001b[0m\u001b[0mmessage\u001b[0m\u001b[1;33m,\u001b[0m \u001b[0m_sys\u001b[0m\u001b[1;33m.\u001b[0m\u001b[0mstderr\u001b[0m\u001b[1;33m)\u001b[0m\u001b[1;33m\u001b[0m\u001b[1;33m\u001b[0m\u001b[0m\n\u001b[1;32m-> 2562\u001b[1;33m         \u001b[0m_sys\u001b[0m\u001b[1;33m.\u001b[0m\u001b[0mexit\u001b[0m\u001b[1;33m(\u001b[0m\u001b[0mstatus\u001b[0m\u001b[1;33m)\u001b[0m\u001b[1;33m\u001b[0m\u001b[1;33m\u001b[0m\u001b[0m\n\u001b[0m\u001b[0;32m   2563\u001b[0m \u001b[1;33m\u001b[0m\u001b[0m\n",
      "\u001b[1;31mSystemExit\u001b[0m: 2",
      "\nDuring handling of the above exception, another exception occurred:\n",
      "\u001b[1;31mTypeError\u001b[0m                                 Traceback (most recent call last)",
      "    \u001b[1;31m[... skipping hidden 1 frame]\u001b[0m\n",
      "\u001b[1;32m~\\AppData\\Roaming\\Python\\Python39\\site-packages\\IPython\\core\\interactiveshell.py\u001b[0m in \u001b[0;36mshowtraceback\u001b[1;34m(self, exc_tuple, filename, tb_offset, exception_only, running_compiled_code)\u001b[0m\n\u001b[0;32m   2052\u001b[0m                     stb = ['An exception has occurred, use %tb to see '\n\u001b[0;32m   2053\u001b[0m                            'the full traceback.\\n']\n\u001b[1;32m-> 2054\u001b[1;33m                     stb.extend(self.InteractiveTB.get_exception_only(etype,\n\u001b[0m\u001b[0;32m   2055\u001b[0m                                                                      value))\n\u001b[0;32m   2056\u001b[0m                 \u001b[1;32melse\u001b[0m\u001b[1;33m:\u001b[0m\u001b[1;33m\u001b[0m\u001b[1;33m\u001b[0m\u001b[0m\n",
      "\u001b[1;32m~\\AppData\\Roaming\\Python\\Python39\\site-packages\\IPython\\core\\ultratb.py\u001b[0m in \u001b[0;36mget_exception_only\u001b[1;34m(self, etype, value)\u001b[0m\n\u001b[0;32m    752\u001b[0m         \u001b[0mvalue\u001b[0m \u001b[1;33m:\u001b[0m \u001b[0mexception\u001b[0m \u001b[0mvalue\u001b[0m\u001b[1;33m\u001b[0m\u001b[1;33m\u001b[0m\u001b[0m\n\u001b[0;32m    753\u001b[0m         \"\"\"\n\u001b[1;32m--> 754\u001b[1;33m         \u001b[1;32mreturn\u001b[0m \u001b[0mListTB\u001b[0m\u001b[1;33m.\u001b[0m\u001b[0mstructured_traceback\u001b[0m\u001b[1;33m(\u001b[0m\u001b[0mself\u001b[0m\u001b[1;33m,\u001b[0m \u001b[0metype\u001b[0m\u001b[1;33m,\u001b[0m \u001b[0mvalue\u001b[0m\u001b[1;33m)\u001b[0m\u001b[1;33m\u001b[0m\u001b[1;33m\u001b[0m\u001b[0m\n\u001b[0m\u001b[0;32m    755\u001b[0m \u001b[1;33m\u001b[0m\u001b[0m\n\u001b[0;32m    756\u001b[0m     \u001b[1;32mdef\u001b[0m \u001b[0mshow_exception_only\u001b[0m\u001b[1;33m(\u001b[0m\u001b[0mself\u001b[0m\u001b[1;33m,\u001b[0m \u001b[0metype\u001b[0m\u001b[1;33m,\u001b[0m \u001b[0mevalue\u001b[0m\u001b[1;33m)\u001b[0m\u001b[1;33m:\u001b[0m\u001b[1;33m\u001b[0m\u001b[1;33m\u001b[0m\u001b[0m\n",
      "\u001b[1;32m~\\AppData\\Roaming\\Python\\Python39\\site-packages\\IPython\\core\\ultratb.py\u001b[0m in \u001b[0;36mstructured_traceback\u001b[1;34m(self, etype, evalue, etb, tb_offset, context)\u001b[0m\n\u001b[0;32m    627\u001b[0m             \u001b[0mchained_exceptions_tb_offset\u001b[0m \u001b[1;33m=\u001b[0m \u001b[1;36m0\u001b[0m\u001b[1;33m\u001b[0m\u001b[1;33m\u001b[0m\u001b[0m\n\u001b[0;32m    628\u001b[0m             out_list = (\n\u001b[1;32m--> 629\u001b[1;33m                 self.structured_traceback(\n\u001b[0m\u001b[0;32m    630\u001b[0m                     \u001b[0metype\u001b[0m\u001b[1;33m,\u001b[0m \u001b[0mevalue\u001b[0m\u001b[1;33m,\u001b[0m \u001b[1;33m(\u001b[0m\u001b[0metb\u001b[0m\u001b[1;33m,\u001b[0m \u001b[0mchained_exc_ids\u001b[0m\u001b[1;33m)\u001b[0m\u001b[1;33m,\u001b[0m\u001b[1;33m\u001b[0m\u001b[1;33m\u001b[0m\u001b[0m\n\u001b[0;32m    631\u001b[0m                     chained_exceptions_tb_offset, context)\n",
      "\u001b[1;32m~\\AppData\\Roaming\\Python\\Python39\\site-packages\\IPython\\core\\ultratb.py\u001b[0m in \u001b[0;36mstructured_traceback\u001b[1;34m(self, etype, value, tb, tb_offset, number_of_lines_of_context)\u001b[0m\n\u001b[0;32m   1365\u001b[0m         \u001b[1;32melse\u001b[0m\u001b[1;33m:\u001b[0m\u001b[1;33m\u001b[0m\u001b[1;33m\u001b[0m\u001b[0m\n\u001b[0;32m   1366\u001b[0m             \u001b[0mself\u001b[0m\u001b[1;33m.\u001b[0m\u001b[0mtb\u001b[0m \u001b[1;33m=\u001b[0m \u001b[0mtb\u001b[0m\u001b[1;33m\u001b[0m\u001b[1;33m\u001b[0m\u001b[0m\n\u001b[1;32m-> 1367\u001b[1;33m         return FormattedTB.structured_traceback(\n\u001b[0m\u001b[0;32m   1368\u001b[0m             self, etype, value, tb, tb_offset, number_of_lines_of_context)\n\u001b[0;32m   1369\u001b[0m \u001b[1;33m\u001b[0m\u001b[0m\n",
      "\u001b[1;32m~\\AppData\\Roaming\\Python\\Python39\\site-packages\\IPython\\core\\ultratb.py\u001b[0m in \u001b[0;36mstructured_traceback\u001b[1;34m(self, etype, value, tb, tb_offset, number_of_lines_of_context)\u001b[0m\n\u001b[0;32m   1265\u001b[0m         \u001b[1;32mif\u001b[0m \u001b[0mmode\u001b[0m \u001b[1;32min\u001b[0m \u001b[0mself\u001b[0m\u001b[1;33m.\u001b[0m\u001b[0mverbose_modes\u001b[0m\u001b[1;33m:\u001b[0m\u001b[1;33m\u001b[0m\u001b[1;33m\u001b[0m\u001b[0m\n\u001b[0;32m   1266\u001b[0m             \u001b[1;31m# Verbose modes need a full traceback\u001b[0m\u001b[1;33m\u001b[0m\u001b[1;33m\u001b[0m\u001b[1;33m\u001b[0m\u001b[0m\n\u001b[1;32m-> 1267\u001b[1;33m             return VerboseTB.structured_traceback(\n\u001b[0m\u001b[0;32m   1268\u001b[0m                 \u001b[0mself\u001b[0m\u001b[1;33m,\u001b[0m \u001b[0metype\u001b[0m\u001b[1;33m,\u001b[0m \u001b[0mvalue\u001b[0m\u001b[1;33m,\u001b[0m \u001b[0mtb\u001b[0m\u001b[1;33m,\u001b[0m \u001b[0mtb_offset\u001b[0m\u001b[1;33m,\u001b[0m \u001b[0mnumber_of_lines_of_context\u001b[0m\u001b[1;33m\u001b[0m\u001b[1;33m\u001b[0m\u001b[0m\n\u001b[0;32m   1269\u001b[0m             )\n",
      "\u001b[1;32m~\\AppData\\Roaming\\Python\\Python39\\site-packages\\IPython\\core\\ultratb.py\u001b[0m in \u001b[0;36mstructured_traceback\u001b[1;34m(self, etype, evalue, etb, tb_offset, number_of_lines_of_context)\u001b[0m\n\u001b[0;32m   1122\u001b[0m         \u001b[1;34m\"\"\"Return a nice text document describing the traceback.\"\"\"\u001b[0m\u001b[1;33m\u001b[0m\u001b[1;33m\u001b[0m\u001b[0m\n\u001b[0;32m   1123\u001b[0m \u001b[1;33m\u001b[0m\u001b[0m\n\u001b[1;32m-> 1124\u001b[1;33m         formatted_exception = self.format_exception_as_a_whole(etype, evalue, etb, number_of_lines_of_context,\n\u001b[0m\u001b[0;32m   1125\u001b[0m                                                                tb_offset)\n\u001b[0;32m   1126\u001b[0m \u001b[1;33m\u001b[0m\u001b[0m\n",
      "\u001b[1;32m~\\AppData\\Roaming\\Python\\Python39\\site-packages\\IPython\\core\\ultratb.py\u001b[0m in \u001b[0;36mformat_exception_as_a_whole\u001b[1;34m(self, etype, evalue, etb, number_of_lines_of_context, tb_offset)\u001b[0m\n\u001b[0;32m   1080\u001b[0m \u001b[1;33m\u001b[0m\u001b[0m\n\u001b[0;32m   1081\u001b[0m \u001b[1;33m\u001b[0m\u001b[0m\n\u001b[1;32m-> 1082\u001b[1;33m         \u001b[0mlast_unique\u001b[0m\u001b[1;33m,\u001b[0m \u001b[0mrecursion_repeat\u001b[0m \u001b[1;33m=\u001b[0m \u001b[0mfind_recursion\u001b[0m\u001b[1;33m(\u001b[0m\u001b[0morig_etype\u001b[0m\u001b[1;33m,\u001b[0m \u001b[0mevalue\u001b[0m\u001b[1;33m,\u001b[0m \u001b[0mrecords\u001b[0m\u001b[1;33m)\u001b[0m\u001b[1;33m\u001b[0m\u001b[1;33m\u001b[0m\u001b[0m\n\u001b[0m\u001b[0;32m   1083\u001b[0m \u001b[1;33m\u001b[0m\u001b[0m\n\u001b[0;32m   1084\u001b[0m         \u001b[0mframes\u001b[0m \u001b[1;33m=\u001b[0m \u001b[0mself\u001b[0m\u001b[1;33m.\u001b[0m\u001b[0mformat_records\u001b[0m\u001b[1;33m(\u001b[0m\u001b[0mrecords\u001b[0m\u001b[1;33m,\u001b[0m \u001b[0mlast_unique\u001b[0m\u001b[1;33m,\u001b[0m \u001b[0mrecursion_repeat\u001b[0m\u001b[1;33m)\u001b[0m\u001b[1;33m\u001b[0m\u001b[1;33m\u001b[0m\u001b[0m\n",
      "\u001b[1;32m~\\AppData\\Roaming\\Python\\Python39\\site-packages\\IPython\\core\\ultratb.py\u001b[0m in \u001b[0;36mfind_recursion\u001b[1;34m(etype, value, records)\u001b[0m\n\u001b[0;32m    380\u001b[0m     \u001b[1;31m# first frame (from in to out) that looks different.\u001b[0m\u001b[1;33m\u001b[0m\u001b[1;33m\u001b[0m\u001b[1;33m\u001b[0m\u001b[0m\n\u001b[0;32m    381\u001b[0m     \u001b[1;32mif\u001b[0m \u001b[1;32mnot\u001b[0m \u001b[0mis_recursion_error\u001b[0m\u001b[1;33m(\u001b[0m\u001b[0metype\u001b[0m\u001b[1;33m,\u001b[0m \u001b[0mvalue\u001b[0m\u001b[1;33m,\u001b[0m \u001b[0mrecords\u001b[0m\u001b[1;33m)\u001b[0m\u001b[1;33m:\u001b[0m\u001b[1;33m\u001b[0m\u001b[1;33m\u001b[0m\u001b[0m\n\u001b[1;32m--> 382\u001b[1;33m         \u001b[1;32mreturn\u001b[0m \u001b[0mlen\u001b[0m\u001b[1;33m(\u001b[0m\u001b[0mrecords\u001b[0m\u001b[1;33m)\u001b[0m\u001b[1;33m,\u001b[0m \u001b[1;36m0\u001b[0m\u001b[1;33m\u001b[0m\u001b[1;33m\u001b[0m\u001b[0m\n\u001b[0m\u001b[0;32m    383\u001b[0m \u001b[1;33m\u001b[0m\u001b[0m\n\u001b[0;32m    384\u001b[0m     \u001b[1;31m# Select filename, lineno, func_name to track frames with\u001b[0m\u001b[1;33m\u001b[0m\u001b[1;33m\u001b[0m\u001b[1;33m\u001b[0m\u001b[0m\n",
      "\u001b[1;31mTypeError\u001b[0m: object of type 'NoneType' has no len()"
     ]
    }
   ],
   "metadata": {}
  }
 ],
 "metadata": {
  "interpreter": {
   "hash": "dc1602c36809b3d730c66b61d88e30495431918f326b28ce5a312db643059285"
  },
  "kernelspec": {
   "name": "python3",
   "display_name": "Python 3.9.5 64-bit"
  },
  "language_info": {
   "codemirror_mode": {
    "name": "ipython",
    "version": 3
   },
   "file_extension": ".py",
   "mimetype": "text/x-python",
   "name": "python",
   "nbconvert_exporter": "python",
   "pygments_lexer": "ipython3",
   "version": "3.9.5"
  },
  "metadata": {
   "interpreter": {
    "hash": "89f3d767b852d1319be78eda77665a9cd388267eb379e1966e7c1f10ba0773f7"
   }
  },
  "orig_nbformat": 2
 },
 "nbformat": 4,
 "nbformat_minor": 2
}