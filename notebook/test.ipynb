{
 "metadata": {
  "language_info": {
   "codemirror_mode": {
    "name": "ipython",
    "version": 3
   },
   "file_extension": ".py",
   "mimetype": "text/x-python",
   "name": "python",
   "nbconvert_exporter": "python",
   "pygments_lexer": "ipython3",
   "version": "3.9.5"
  },
  "orig_nbformat": 2,
  "kernelspec": {
   "name": "python3",
   "display_name": "Python 3.9.5 64-bit"
  },
  "metadata": {
   "interpreter": {
    "hash": "89f3d767b852d1319be78eda77665a9cd388267eb379e1966e7c1f10ba0773f7"
   }
  },
  "interpreter": {
   "hash": "dc1602c36809b3d730c66b61d88e30495431918f326b28ce5a312db643059285"
  }
 },
 "nbformat": 4,
 "nbformat_minor": 2,
 "cells": [
  {
   "cell_type": "code",
   "execution_count": null,
   "source": [
    "# 正则表达式分组：在完整的模式中定义子模式，将每个圆括号中子模式匹配出来的结果提取出来"
   ],
   "outputs": [],
   "metadata": {}
  },
  {
   "cell_type": "code",
   "execution_count": null,
   "source": [
    "import re\n",
    "s = 'life is short, i use python'\n",
    "\n",
    "r = re.search('^life.*python$', s)\n",
    "# group(0)永远返回所有的匹配结果，想要分组结果需要指定非0的序号\n",
    "print(r.group(1))"
   ],
   "outputs": [],
   "metadata": {}
  },
  {
   "cell_type": "code",
   "execution_count": null,
   "source": [
    "# findall更方便\r\n",
    "r1 = re.findall('life(.*)python', s)\r\n",
    "print(r1)"
   ],
   "outputs": [],
   "metadata": {}
  },
  {
   "cell_type": "code",
   "execution_count": null,
   "source": [
    "s = 'life is short, i use python, i love python'\r\n",
    "r = re.search('life(.*)python(.*)python', s)\r\n",
    "print(r.group(0))\r\n",
    "print(r.group(1))\r\n",
    "print(r.group(2))\r\n",
    "# 简洁写法，返回元组\r\n",
    "print(r.group(0,1,2))\r\n",
    "# groups()返回组匹配，不返回完整匹配内容\r\n",
    "print(r.groups())\r\n"
   ],
   "outputs": [],
   "metadata": {}
  },
  {
   "cell_type": "code",
   "execution_count": null,
   "source": [
    "import re\r\n",
    "\r\n",
    "html = \"<div><p>九霄龙吟惊天变</p></div><div><p>风云际会潜水游</p></div>\"\r\n",
    "# 贪婪匹配\r\n",
    "p = re.compile('<div><p>(.*)</p></div>',re.S)\r\n",
    "r_list = p.findall(html)\r\n",
    "print(r_list)\r\n",
    "\r\n",
    "# 非贪婪匹配\r\n",
    "p = re.compile('<div><p>(.*?)</p></div>',re.S)\r\n",
    "r_list = p.findall(html)\r\n",
    "print(r_list)"
   ],
   "outputs": [],
   "metadata": {}
  },
  {
   "cell_type": "code",
   "execution_count": null,
   "source": [
    "import re\r\n",
    "\r\n",
    "html = '''\r\n",
    "<div class=\"animal\">\r\n",
    "    <p class=\"name\">\r\n",
    "        <a title=\"Tiger\"></a>\r\n",
    "    </p>\r\n",
    "    <p class=\"content\">Two tigers two tigers run fast</p>\r\n",
    "</div>\r\n",
    "<div class=\"animal\">\r\n",
    "    <p class=\"name\">\r\n",
    "        <a title=\"Rabbit\"></a>\r\n",
    "    </p>\r\n",
    "    <p class=\"content\">Small white rabbit white and white</p>\r\n",
    "</div>'''\r\n",
    "\r\n",
    "p = re.compile('<div class=\"animal\">.*?title=\"(.*?)\".*?content\">(.*?)</p>.*?</div>', re.S)\r\n",
    "r_list = p.findall(html)\r\n",
    "\r\n",
    "for r in r_list:\r\n",
    "    print('animal name:', r[0].strip())\r\n",
    "    print('animal content:', r[1].strip())"
   ],
   "outputs": [],
   "metadata": {}
  },
  {
   "cell_type": "code",
   "execution_count": null,
   "source": [
    "# XPath即为XML路径语言，它是一种用来确定XML文档中某部分位置的语言，同样适用于HTML文档的检索\r\n",
    "\r\n",
    "# 【1】查找所有的dd节点\r\n",
    "#     //dd\r\n",
    "# 【2】获取所有电影的名称的a节点: 所有class属性值为name的a节点\r\n",
    "#     //p[@class=\"name\"]/a\r\n",
    "# 【3】获取dl节点下第2个dd节点的电影节点\r\n",
    "#     //dl[@class=\"board-wrapper\"]/dd[2]                          \r\n",
    "# 【4】获取所有电影详情页链接: 获取每个电影的a节点的href的属性值\r\n",
    "#     //p[@class=\"name\"]/a/@href\r\n",
    "# ​\r\n",
    "# 【注意】                             \r\n",
    "#     1> 只要涉及到条件,加 [] : //dl[@class=\"xxx\"]   //dl/dd[2]\r\n",
    "#     2> 只要获取属性值,加 @  : //dl[@class=\"xxx\"]   //p/a/@href\r\n",
    "\r\n",
    "# 【1】// : 从所有节点中查找（包括子节点和后代节点）\r\n",
    "# 【2】@  : 获取属性值\r\n",
    "#   2.1> 使用场景1（属性值作为条件）\r\n",
    "#        //div[@class=\"movie-item-info\"]\r\n",
    "#   2.2> 使用场景2（直接获取属性值）\r\n",
    "#        //div[@class=\"movie-item-info\"]/a/img/@src\r\n",
    "    \r\n",
    "# 【3】练习 - 猫眼电影top100\r\n",
    "#   3.1> 匹配电影名称\r\n",
    "#       //div[@class=\"movie-item-info\"]/p[1]/a/@title\r\n",
    "#   3.2> 匹配电影主演\r\n",
    "#       //div[@class=\"movie-item-info\"]/p[2]/text()\r\n",
    "#   3.3> 匹配上映时间\r\n",
    "#       //div[@class=\"movie-item-info\"]/p[3]/text()\r\n",
    "#   3.4> 匹配电影链接\r\n",
    "#       //div[@class=\"movie-item-info\"]/p[1]/a/@href"
   ],
   "outputs": [],
   "metadata": {}
  },
  {
   "cell_type": "code",
   "execution_count": null,
   "source": [
    "# 匹配多路径（或）：xpath表达式1 | xpath表达式2 | xpath表达式3\r\n",
    "\r\n",
    "# 常用函数：\r\n",
    "# 【1】text() ：获取节点的文本内容\r\n",
    "#     xpath表达式末尾不加 /text() :则得到的结果为节点对象\r\n",
    "#     xpath表达式末尾加 /text() 或者 /@href : 则得到结果为字符串\r\n",
    "        \r\n",
    "# 【2】contains() : 匹配属性值中包含某些字符串节点\r\n",
    "#     匹配class属性值中包含 'movie-item' 这个字符串的 div 节点\r\n",
    "#      //div[contains(@class,\"movie-item\")]\r\n",
    "\r\n",
    "# 【1】字符串: xpath表达式的末尾为: /text() 、/@href  得到的列表中为'字符串'\r\n",
    " \r\n",
    "# 【2】节点对象: 其他剩余所有情况得到的列表中均为'节点对象' \r\n",
    "#     [<element dd at xxxa>,<element dd at xxxb>,<element dd at xxxc>]\r\n",
    "#     [<element div at xxxa>,<element div at xxxb>]\r\n",
    "#     [<element p at xxxa>,<element p at xxxb>,<element p at xxxc>]"
   ],
   "outputs": [],
   "metadata": {}
  },
  {
   "cell_type": "code",
   "execution_count": null,
   "source": [
    "# 应用场景\r\n",
    "\r\n",
    "# 【1】多进程 ：CPU密集程序\r\n",
    "# 【2】多线程 ：爬虫(网络I/O)、本地磁盘I/O\r\n",
    "\r\n",
    "# 队列\r\n",
    "\r\n",
    "# 【1】导入模块\r\n",
    "#    from queue import Queue\r\n",
    "# ​\r\n",
    "# 【2】使用\r\n",
    "#     q = Queue()\r\n",
    "#     q.put(url)\r\n",
    "#     q.get()   # 当队列为空时，阻塞\r\n",
    "#     q.empty() # 判断队列是否为空，True/False\r\n",
    "# ​\r\n",
    "# 【3】q.get()解除阻塞方式\r\n",
    "#    3.1) q.get(block=False)\r\n",
    "#    3.2) q.get(block=True,timeout=3)\r\n",
    "#    3.3) if not q.empty():\r\n",
    "#             q.get()"
   ],
   "outputs": [],
   "metadata": {}
  },
  {
   "cell_type": "code",
   "execution_count": null,
   "source": [
    "from fake_useragent import UserAgent\r\n",
    "\r\n",
    "print(UserAgent().random)"
   ],
   "outputs": [],
   "metadata": {}
  },
  {
   "cell_type": "code",
   "execution_count": null,
   "source": [
    "# 什么是闭包（python）\r\n",
    "# 实例\r\n",
    "def curve_pre():\r\n",
    "    a = 10\r\n",
    "    def curve(x):\r\n",
    "        print('this is a function')\r\n",
    "        return a * x * x\r\n",
    "    return curve\r\n",
    "\r\n",
    "curve() # 调用失败，函数未定义\r\n",
    "# f = curve_pre() # 带有return后，赋值给变量f，成功无报错\r\n",
    "# print(f(2))\r\n"
   ],
   "outputs": [],
   "metadata": {}
  },
  {
   "cell_type": "code",
   "execution_count": null,
   "source": [
    "a = 10\r\n",
    "\r\n",
    "def f1(x):\r\n",
    "    return a * x * x\r\n",
    "\r\n",
    "print(f1(5))"
   ],
   "outputs": [],
   "metadata": {}
  },
  {
   "cell_type": "code",
   "execution_count": null,
   "source": [
    "def curve_pre():\r\n",
    "    a = 10\r\n",
    "    def curve(x):\r\n",
    "        print('this is a function')\r\n",
    "        return a * x * x\r\n",
    "    return curve\r\n",
    "\r\n",
    "a = 25 # 外部定义a的取值，是否影响最终输出结果？\r\n",
    "f = curve_pre()\r\n",
    "print(f(2))"
   ],
   "outputs": [],
   "metadata": {}
  },
  {
   "cell_type": "code",
   "execution_count": null,
   "source": [
    "def f1():\r\n",
    "    a = 10\r\n",
    "    def f2():\r\n",
    "        # 此时的a被python认为一个局部变量，无引用外部的环境变量\r\n",
    "        a = 20\r\n",
    "        print(a)\r\n",
    "    print(a)\r\n",
    "    f2()\r\n",
    "    print(a)\r\n",
    "f1()"
   ],
   "outputs": [],
   "metadata": {}
  },
  {
   "cell_type": "code",
   "execution_count": null,
   "source": [
    "x = 0\r\n",
    "3 re = 3\r\n",
    "4 re = 7\r\n",
    "5 re = 12"
   ],
   "outputs": [],
   "metadata": {}
  },
  {
   "cell_type": "code",
   "execution_count": null,
   "source": [
    "# 非闭包\r\n",
    "origin = 0\r\n",
    "\r\n",
    "def go(step):\r\n",
    "    global origin \r\n",
    "    origin = origin + step \r\n",
    "    return origin\r\n",
    "\r\n",
    "print(go(3))\r\n",
    "print(go(4))\r\n",
    "print(go(5))"
   ],
   "outputs": [],
   "metadata": {}
  },
  {
   "cell_type": "code",
   "execution_count": null,
   "source": [
    "# 闭包\r\n",
    "origin = 0\r\n",
    "\r\n",
    "def factory(pos):\r\n",
    "    def go(step):\r\n",
    "        nonlocal pos\r\n",
    "        new_pos = pos + step\r\n",
    "        pos = new_pos\r\n",
    "        return new_pos\r\n",
    "    return go\r\n",
    "\r\n",
    "tourist = factory(origin)\r\n",
    "print(tourist(3))\r\n",
    "print(tourist(4))\r\n",
    "print(tourist(5))\r\n"
   ],
   "outputs": [],
   "metadata": {}
  },
  {
   "cell_type": "code",
   "execution_count": null,
   "source": [
    "def f1():\r\n",
    "    a = 10\r\n",
    "    def f2(x):\r\n",
    "        return a * x * x\r\n",
    "    return f2"
   ],
   "outputs": [],
   "metadata": {}
  },
  {
   "cell_type": "code",
   "execution_count": null,
   "source": [
    "import time\r\n",
    "\r\n",
    "def download():\r\n",
    "    print(\"正在下载。。。\")\r\n",
    "    time.sleep(1)\r\n",
    "    print(\"下载结束。。。\")\r\n",
    "\r\n",
    "def outer(func):\r\n",
    "    def inter():\r\n",
    "        start = time.time()\r\n",
    "        func()\r\n",
    "        end = time.time()\r\n",
    "        print(\"下载用时：{:.2f}秒\".format(end-start))\r\n",
    "    return inter\r\n",
    "\r\n",
    "down = outer(download)\r\n",
    "down()"
   ],
   "outputs": [],
   "metadata": {}
  },
  {
   "cell_type": "code",
   "execution_count": null,
   "source": [
    "将函数看做一个对象可以做以下的事情：　　\r\n",
    "        1.可以赋值 　　\r\n",
    "        2.可以把函数当做参数传入另一个函数\r\n",
    "        3.可以将函数当做容器类型中的一个元素　　\r\n",
    "        4.可以将函数当做容器类型中的一个元素"
   ],
   "outputs": [],
   "metadata": {}
  },
  {
   "cell_type": "code",
   "execution_count": null,
   "source": [
    "# ======可以赋值 　\r\n",
    "def func():\r\n",
    "    pass\r\n",
    "f = func\r\n",
    "f"
   ],
   "outputs": [],
   "metadata": {}
  },
  {
   "cell_type": "code",
   "execution_count": null,
   "source": [
    "# ======可以把函数当做参数传入另一个函数\r\n",
    "def func1(func):\r\n",
    "    func()\r\n",
    "def func2():\r\n",
    "    print(\"222\")\r\n",
    "func1(func2)"
   ],
   "outputs": [],
   "metadata": {}
  },
  {
   "cell_type": "code",
   "execution_count": null,
   "source": [
    "# ======可以将函数当做容器类型中的一个元素\r\n",
    "def f1():\r\n",
    "    print(\"function f1...\")\r\n",
    "\r\n",
    "\r\n",
    "def f2():\r\n",
    "    print(\"function f2...\")\r\n",
    "\r\n",
    "\r\n",
    "def f3():\r\n",
    "    print(\"function f3...\")\r\n",
    "\r\n",
    "li = (f1, f2, f3)\r\n",
    "for func in li:  # 每次循环取出一个函数的内存地址。加括号代表执行\r\n",
    "    func()"
   ],
   "outputs": [],
   "metadata": {}
  },
  {
   "cell_type": "code",
   "execution_count": null,
   "source": [
    "# ======可以将内层函数当做外层函数的返回值\r\n",
    "def outer():\r\n",
    "    def inter():\r\n",
    "        print(\"inter\")\r\n",
    "    return inter\r\n",
    "outer()"
   ],
   "outputs": [],
   "metadata": {}
  },
  {
   "cell_type": "code",
   "execution_count": null,
   "source": [
    "def f1():\r\n",
    "    a = 25\r\n",
    "    def f2(x):\r\n",
    "        return a * x * x\r\n",
    "    return f2\r\n",
    "f = f1()\r\n",
    "f(2)"
   ],
   "outputs": [],
   "metadata": {}
  },
  {
   "cell_type": "code",
   "execution_count": null,
   "source": [
    "def f1():\r\n",
    "    a = 25\r\n",
    "    def f2(x):\r\n",
    "        return a * x * x\r\n",
    "    return f2\r\n",
    "a = 100\r\n",
    "f = f1()\r\n",
    "f(2)"
   ],
   "outputs": [],
   "metadata": {}
  },
  {
   "cell_type": "code",
   "execution_count": null,
   "source": [
    "def f1():\r\n",
    "    a = 25\r\n",
    "    def f2(x):\r\n",
    "        return a * x * x\r\n",
    "    return f2\r\n",
    "f = f1()\r\n",
    "f(2)"
   ],
   "outputs": [],
   "metadata": {}
  },
  {
   "cell_type": "code",
   "execution_count": null,
   "source": [
    "import time\r\n",
    "def Download():\r\n",
    "    print(\"xiazai...\")\r\n",
    "    time.sleep(1)\r\n",
    "    print(\"xiazaijieshu....\")\r\n",
    "\r\n",
    "def outer(func):\r\n",
    "    def inter():\r\n",
    "        start = time.time()\r\n",
    "        func()\r\n",
    "        end = time.time()\r\n",
    "        print(\"shijain::{:.2f}\".format(end-start))\r\n",
    "    return inter\r\n",
    "\r\n",
    "down = outer(Download)\r\n",
    "down()\r\n",
    "\r\n"
   ],
   "outputs": [],
   "metadata": {}
  },
  {
   "cell_type": "code",
   "execution_count": null,
   "source": [
    "import requests\r\n",
    "\r\n",
    "proxies = {\"https\":\"https://localhost:8888\", \"http\":\"http://localhost:8888\"}\r\n",
    "\r\n",
    "res = requests.get(\"http://www.baidu.com\", proxies=proxies,verify=False)\r\n",
    "print(res)\r\n",
    "print(res.headers)"
   ],
   "outputs": [],
   "metadata": {}
  },
  {
   "cell_type": "code",
   "execution_count": null,
   "source": [
    "import requests\r\n",
    "\r\n",
    "res = requests.get(\"http://127.0.0.1:5000/get\").text\r\n",
    "print(res)"
   ],
   "outputs": [],
   "metadata": {}
  },
  {
   "cell_type": "code",
   "execution_count": null,
   "source": [
    "import requests\r\n",
    "\r\n",
    "url = \"https://us-central1-coloringproject-fe7d3.cloudfunctions.net/testApi/testApi/eventList\"\r\n",
    "\r\n",
    "proxies = {\"http\":\"http://160.16.120.53:543\",\"https\":\"https://160.16.120.53:543\"}\r\n",
    "\r\n",
    "res = requests.get(url, proxies=proxies, verify=False).text\r\n",
    "print(res)"
   ],
   "outputs": [],
   "metadata": {}
  },
  {
   "cell_type": "code",
   "execution_count": null,
   "source": [
    "import requests\r\n",
    "\r\n",
    "url = \"http://localhost:5000/\"\r\n",
    "\r\n",
    "parm = {\r\n",
    "    \"username\": \"了不起的QA\"\r\n",
    "}\r\n",
    "res = requests.post(url, data=parm)\r\n",
    "print(res.text)"
   ],
   "outputs": [],
   "metadata": {}
  },
  {
   "cell_type": "code",
   "execution_count": null,
   "source": [
    "from datetime import datetime\r\n",
    "\r\n",
    "dayOfweek = datetime.now().isoweekday()\r\n",
    "print(dayOfweek)"
   ],
   "outputs": [],
   "metadata": {}
  },
  {
   "cell_type": "code",
   "execution_count": null,
   "source": [
    "str1 = \"123\"\r\n",
    "str2 = str1 and str1 + os.sep or ''\r\n",
    "str3 = str1 and str1\r\n",
    "print(os.sep)\r\n",
    "\r\n",
    "print(str2)"
   ],
   "outputs": [],
   "metadata": {}
  },
  {
   "cell_type": "code",
   "execution_count": null,
   "source": [
    "import zipfile\r\n",
    "\r\n",
    "startdir = r\"C:\\Users\\xt875\\Desktop\\airtest_file\\report\\BBB_airtest.log\\static\"  #要压缩的文件夹路径\r\n",
    "file_news = startdir +'.zip' # 压缩后文件夹的名字\r\n",
    "z = zipfile.ZipFile(file_news,'w',zipfile.ZIP_DEFLATED) #参数一：文件夹名\r\n",
    "for dirpath, dirnames, filenames in os.walk(startdir):\r\n",
    "    fpath = dirpath.replace(startdir,'') #这一句很重要，不replace的话，就从根目录开始复制\r\n",
    "    fpath = fpath and fpath + os.sep or ''#这句话理解我也点郁闷，实现当前文件夹以及包含的所有文件的压缩\r\n",
    "    for filename in filenames:\r\n",
    "        # z.write(os.path.join(dirpath, filename),fpath+filename)\r\n",
    "        z.write(os.path.join(dirpath, filename))\r\n",
    "        print ('压缩成功')\r\n",
    "z.close()"
   ],
   "outputs": [],
   "metadata": {}
  },
  {
   "cell_type": "code",
   "execution_count": null,
   "source": [
    "string = r\"print(1111)\"\r\n",
    "eval(string)\r\n",
    "def touch():\r\n",
    "    print(\"touch\")\r\n",
    "eval(\"touch()\")"
   ],
   "outputs": [],
   "metadata": {}
  },
  {
   "cell_type": "code",
   "execution_count": null,
   "source": [
    "for i in range(1, 10):\r\n",
    "    print(i)"
   ],
   "outputs": [],
   "metadata": {}
  },
  {
   "cell_type": "code",
   "execution_count": null,
   "source": [
    "\r\n",
    "import cv2    \r\n",
    "    \r\n",
    "img = cv2.imread(r\"C:/Users/xt875/Desktop/screen1.png\")    \r\n",
    "gray = cv2.cvtColor(img,cv2.COLOR_BGR2GRAY)    \r\n",
    "ret, binary = cv2.threshold(gray,127,255,cv2.THRESH_BINARY)    \r\n",
    "    \r\n",
    "contours, hierarchy = cv2.findContours(binary,cv2.RETR_TREE,cv2.CHAIN_APPROX_SIMPLE)    \r\n",
    "cv2.drawContours(img,contours,-1,(0,0,255),3)    \r\n",
    "    \r\n",
    "cv2.imshow(\"img\", img)    \r\n",
    "cv2.waitKey(0) "
   ],
   "outputs": [],
   "metadata": {}
  },
  {
   "cell_type": "code",
   "execution_count": null,
   "source": [
    "import cv2\r\n",
    "\r\n",
    "img = cv2.imread(r\"C:/Users/xt875/Desktop/screen1.jpg\", 1)\r\n",
    "img_gray = cv2.cvtColor(img, cv2.COLOR_BGR2GRAY)\r\n",
    "ret, thresh = cv2.threshold(img_gray, 240, 255, cv2.THRESH_BINARY_INV)\r\n",
    "print(thresh)\r\n",
    "\r\n",
    "# img[thresh == 255] = 0\r\n",
    "\r\n",
    "kernel = cv2.getStructuringElement(cv2.MORPH_ELLIPSE, (5, 5))\r\n",
    "opening = cv2.morphologyEx(img, cv2.MORPH_OPEN, kernel)\r\n",
    "# erosion = cv2.erode(img, kernel, iterations=1)\r\n",
    "\r\n",
    "# image, contours = cv2.findContours(opening, cv2.RETR_TREE, cv2.CHAIN_APPROX_SIMPLE)\r\n",
    "# print(contours)\r\n",
    "# print(image)\r\n",
    "# print(len(image))\r\n",
    "# draw_img = img.copy()\r\n",
    "\r\n",
    "# cv2.drawContours(img, image, -1, (0, 0, 255), 2)\r\n",
    "\r\n",
    "cv2.namedWindow('img', cv2.WINDOW_NORMAL)\r\n",
    "cv2.imshow(\"img\", opening)\r\n",
    "cv2.waitKey(0)"
   ],
   "outputs": [],
   "metadata": {}
  },
  {
   "cell_type": "code",
   "execution_count": null,
   "metadata": {},
   "outputs": [],
   "source": [
    "def fun():\n",
    "    try:\n",
    "        deef = \"user\"\n",
    "        print(deef[user])\n",
    "    except Exception:\n",
    "        return deef\n",
    "fun()\n"
   ]
  }
 ]
}