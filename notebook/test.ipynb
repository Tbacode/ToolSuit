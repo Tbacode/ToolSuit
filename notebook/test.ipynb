{
 "metadata": {
  "language_info": {
   "codemirror_mode": {
    "name": "ipython",
    "version": 3
   },
   "file_extension": ".py",
   "mimetype": "text/x-python",
   "name": "python",
   "nbconvert_exporter": "python",
   "pygments_lexer": "ipython3",
   "version": "3.9.5"
  },
  "orig_nbformat": 2,
  "kernelspec": {
   "name": "python3",
   "display_name": "Python 3.9.5 64-bit"
  },
  "metadata": {
   "interpreter": {
    "hash": "89f3d767b852d1319be78eda77665a9cd388267eb379e1966e7c1f10ba0773f7"
   }
  },
  "interpreter": {
   "hash": "dc1602c36809b3d730c66b61d88e30495431918f326b28ce5a312db643059285"
  }
 },
 "nbformat": 4,
 "nbformat_minor": 2,
 "cells": [
  {
   "cell_type": "code",
   "execution_count": null,
   "metadata": {},
   "outputs": [],
   "source": [
    "# 正则表达式分组：在完整的模式中定义子模式，将每个圆括号中子模式匹配出来的结果提取出来"
   ]
  },
  {
   "cell_type": "code",
   "execution_count": null,
   "metadata": {},
   "outputs": [],
   "source": [
    "import re\n",
    "s = 'life is short, i use python'\n",
    "\n",
    "r = re.search('^life.*python$', s)\n",
    "# group(0)永远返回所有的匹配结果，想要分组结果需要指定非0的序号\n",
    "print(r.group(1))"
   ]
  },
  {
   "cell_type": "code",
   "execution_count": null,
   "metadata": {},
   "outputs": [],
   "source": [
    "# findall更方便\n",
    "r1 = re.findall('life(.*)python', s)\n",
    "print(r1)"
   ]
  },
  {
   "cell_type": "code",
   "execution_count": null,
   "metadata": {},
   "outputs": [],
   "source": [
    "s = 'life is short, i use python, i love python'\n",
    "r = re.search('life(.*)python(.*)python', s)\n",
    "print(r.group(0))\n",
    "print(r.group(1))\n",
    "print(r.group(2))\n",
    "# 简洁写法，返回元组\n",
    "print(r.group(0,1,2))\n",
    "# groups()返回组匹配，不返回完整匹配内容\n",
    "print(r.groups())\n"
   ]
  },
  {
   "cell_type": "code",
   "execution_count": null,
   "metadata": {},
   "outputs": [],
   "source": [
    "import re\n",
    "\n",
    "html = \"<div><p>九霄龙吟惊天变</p></div><div><p>风云际会潜水游</p></div>\"\n",
    "# 贪婪匹配\n",
    "p = re.compile('<div><p>(.*)</p></div>',re.S)\n",
    "r_list = p.findall(html)\n",
    "print(r_list)\n",
    "\n",
    "# 非贪婪匹配\n",
    "p = re.compile('<div><p>(.*?)</p></div>',re.S)\n",
    "r_list = p.findall(html)\n",
    "print(r_list)"
   ]
  },
  {
   "cell_type": "code",
   "execution_count": null,
   "metadata": {},
   "outputs": [],
   "source": [
    "import re\n",
    "\n",
    "html = '''\n",
    "<div class=\"animal\">\n",
    "    <p class=\"name\">\n",
    "        <a title=\"Tiger\"></a>\n",
    "    </p>\n",
    "    <p class=\"content\">Two tigers two tigers run fast</p>\n",
    "</div>\n",
    "<div class=\"animal\">\n",
    "    <p class=\"name\">\n",
    "        <a title=\"Rabbit\"></a>\n",
    "    </p>\n",
    "    <p class=\"content\">Small white rabbit white and white</p>\n",
    "</div>'''\n",
    "\n",
    "p = re.compile('<div class=\"animal\">.*?title=\"(.*?)\".*?content\">(.*?)</p>.*?</div>', re.S)\n",
    "r_list = p.findall(html)\n",
    "\n",
    "for r in r_list:\n",
    "    print('animal name:', r[0].strip())\n",
    "    print('animal content:', r[1].strip())"
   ]
  },
  {
   "cell_type": "code",
   "execution_count": null,
   "metadata": {},
   "outputs": [],
   "source": [
    "# XPath即为XML路径语言，它是一种用来确定XML文档中某部分位置的语言，同样适用于HTML文档的检索\n",
    "\n",
    "# 【1】查找所有的dd节点\n",
    "#     //dd\n",
    "# 【2】获取所有电影的名称的a节点: 所有class属性值为name的a节点\n",
    "#     //p[@class=\"name\"]/a\n",
    "# 【3】获取dl节点下第2个dd节点的电影节点\n",
    "#     //dl[@class=\"board-wrapper\"]/dd[2]                          \n",
    "# 【4】获取所有电影详情页链接: 获取每个电影的a节点的href的属性值\n",
    "#     //p[@class=\"name\"]/a/@href\n",
    "# ​\n",
    "# 【注意】                             \n",
    "#     1> 只要涉及到条件,加 [] : //dl[@class=\"xxx\"]   //dl/dd[2]\n",
    "#     2> 只要获取属性值,加 @  : //dl[@class=\"xxx\"]   //p/a/@href\n",
    "\n",
    "# 【1】// : 从所有节点中查找（包括子节点和后代节点）\n",
    "# 【2】@  : 获取属性值\n",
    "#   2.1> 使用场景1（属性值作为条件）\n",
    "#        //div[@class=\"movie-item-info\"]\n",
    "#   2.2> 使用场景2（直接获取属性值）\n",
    "#        //div[@class=\"movie-item-info\"]/a/img/@src\n",
    "    \n",
    "# 【3】练习 - 猫眼电影top100\n",
    "#   3.1> 匹配电影名称\n",
    "#       //div[@class=\"movie-item-info\"]/p[1]/a/@title\n",
    "#   3.2> 匹配电影主演\n",
    "#       //div[@class=\"movie-item-info\"]/p[2]/text()\n",
    "#   3.3> 匹配上映时间\n",
    "#       //div[@class=\"movie-item-info\"]/p[3]/text()\n",
    "#   3.4> 匹配电影链接\n",
    "#       //div[@class=\"movie-item-info\"]/p[1]/a/@href"
   ]
  },
  {
   "cell_type": "code",
   "execution_count": null,
   "metadata": {},
   "outputs": [],
   "source": [
    "# 匹配多路径（或）：xpath表达式1 | xpath表达式2 | xpath表达式3\n",
    "\n",
    "# 常用函数：\n",
    "# 【1】text() ：获取节点的文本内容\n",
    "#     xpath表达式末尾不加 /text() :则得到的结果为节点对象\n",
    "#     xpath表达式末尾加 /text() 或者 /@href : 则得到结果为字符串\n",
    "        \n",
    "# 【2】contains() : 匹配属性值中包含某些字符串节点\n",
    "#     匹配class属性值中包含 'movie-item' 这个字符串的 div 节点\n",
    "#      //div[contains(@class,\"movie-item\")]\n",
    "\n",
    "# 【1】字符串: xpath表达式的末尾为: /text() 、/@href  得到的列表中为'字符串'\n",
    " \n",
    "# 【2】节点对象: 其他剩余所有情况得到的列表中均为'节点对象' \n",
    "#     [<element dd at xxxa>,<element dd at xxxb>,<element dd at xxxc>]\n",
    "#     [<element div at xxxa>,<element div at xxxb>]\n",
    "#     [<element p at xxxa>,<element p at xxxb>,<element p at xxxc>]"
   ]
  },
  {
   "cell_type": "code",
   "execution_count": null,
   "metadata": {},
   "outputs": [],
   "source": [
    "# 应用场景\n",
    "\n",
    "# 【1】多进程 ：CPU密集程序\n",
    "# 【2】多线程 ：爬虫(网络I/O)、本地磁盘I/O\n",
    "\n",
    "# 队列\n",
    "\n",
    "# 【1】导入模块\n",
    "#    from queue import Queue\n",
    "# ​\n",
    "# 【2】使用\n",
    "#     q = Queue()\n",
    "#     q.put(url)\n",
    "#     q.get()   # 当队列为空时，阻塞\n",
    "#     q.empty() # 判断队列是否为空，True/False\n",
    "# ​\n",
    "# 【3】q.get()解除阻塞方式\n",
    "#    3.1) q.get(block=False)\n",
    "#    3.2) q.get(block=True,timeout=3)\n",
    "#    3.3) if not q.empty():\n",
    "#             q.get()"
   ]
  },
  {
   "cell_type": "code",
   "execution_count": null,
   "metadata": {},
   "outputs": [],
   "source": [
    "from fake_useragent import UserAgent\n",
    "\n",
    "print(UserAgent().random)"
   ]
  },
  {
   "cell_type": "code",
   "execution_count": null,
   "metadata": {},
   "outputs": [],
   "source": [
    "# 什么是闭包（python）\n",
    "# 实例\n",
    "def curve_pre():\n",
    "    a = 10\n",
    "    def curve(x):\n",
    "        print('this is a function')\n",
    "        return a * x * x\n",
    "    return curve\n",
    "\n",
    "curve() # 调用失败，函数未定义\n",
    "# f = curve_pre() # 带有return后，赋值给变量f，成功无报错\n",
    "# print(f(2))\n"
   ]
  },
  {
   "cell_type": "code",
   "execution_count": null,
   "metadata": {},
   "outputs": [],
   "source": [
    "a = 10\n",
    "\n",
    "def f1(x):\n",
    "    return a * x * x\n",
    "\n",
    "print(f1(5))"
   ]
  },
  {
   "cell_type": "code",
   "execution_count": null,
   "metadata": {},
   "outputs": [],
   "source": [
    "def curve_pre():\n",
    "    a = 10\n",
    "    def curve(x):\n",
    "        print('this is a function')\n",
    "        return a * x * x\n",
    "    return curve\n",
    "\n",
    "a = 25 # 外部定义a的取值，是否影响最终输出结果？\n",
    "f = curve_pre()\n",
    "print(f(2))"
   ]
  },
  {
   "source": [
    "def f1():\n",
    "    a = 10\n",
    "    def f2():\n",
    "        # 此时的a被python认为一个局部变量，无引用外部的环境变量\n",
    "        a = 20\n",
    "        print(a)\n",
    "    print(a)\n",
    "    f2()\n",
    "    print(a)\n",
    "f1()"
   ],
   "cell_type": "code",
   "metadata": {},
   "execution_count": null,
   "outputs": []
  },
  {
   "cell_type": "code",
   "execution_count": null,
   "metadata": {},
   "outputs": [],
   "source": [
    "x = 0\n",
    "3 re = 3\n",
    "4 re = 7\n",
    "5 re = 12"
   ]
  },
  {
   "cell_type": "code",
   "execution_count": null,
   "metadata": {},
   "outputs": [],
   "source": [
    "# 非闭包\n",
    "origin = 0\n",
    "\n",
    "def go(step):\n",
    "    global origin \n",
    "    origin = origin + step \n",
    "    return origin\n",
    "\n",
    "print(go(3))\n",
    "print(go(4))\n",
    "print(go(5))"
   ]
  },
  {
   "cell_type": "code",
   "execution_count": null,
   "metadata": {},
   "outputs": [],
   "source": [
    "# 闭包\n",
    "origin = 0\n",
    "\n",
    "def factory(pos):\n",
    "    def go(step):\n",
    "        nonlocal pos\n",
    "        new_pos = pos + step\n",
    "        pos = new_pos\n",
    "        return new_pos\n",
    "    return go\n",
    "\n",
    "tourist = factory(origin)\n",
    "print(tourist(3))\n",
    "print(tourist(4))\n",
    "print(tourist(5))\n"
   ]
  },
  {
   "cell_type": "code",
   "execution_count": null,
   "metadata": {},
   "outputs": [],
   "source": []
  }
 ]
}