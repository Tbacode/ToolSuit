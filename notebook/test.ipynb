{
 "metadata": {
  "language_info": {
   "codemirror_mode": {
    "name": "ipython",
    "version": 3
   },
   "file_extension": ".py",
   "mimetype": "text/x-python",
   "name": "python",
   "nbconvert_exporter": "python",
   "pygments_lexer": "ipython3",
   "version": "3.8.8"
  },
  "orig_nbformat": 2,
  "kernelspec": {
   "name": "python388jvsc74a57bd089f3d767b852d1319be78eda77665a9cd388267eb379e1966e7c1f10ba0773f7",
   "display_name": "Python 3.8.8 64-bit"
  },
  "metadata": {
   "interpreter": {
    "hash": "89f3d767b852d1319be78eda77665a9cd388267eb379e1966e7c1f10ba0773f7"
   }
  }
 },
 "nbformat": 4,
 "nbformat_minor": 2,
 "cells": [
  {
   "cell_type": "code",
   "execution_count": 5,
   "metadata": {},
   "outputs": [
    {
     "output_type": "stream",
     "name": "stdout",
     "text": [
      " is short, i use \n"
     ]
    }
   ],
   "source": [
    "import re\n",
    "s = 'life is short, i use python'\n",
    "\n",
    "r = re.search('^life(.*)python$', s)\n",
    "# group(0)永远返回所有的匹配结果，想要分组结果需要指定非0的序号\n",
    "print(r.group(1))"
   ]
  },
  {
   "cell_type": "code",
   "execution_count": 6,
   "metadata": {},
   "outputs": [
    {
     "output_type": "stream",
     "name": "stdout",
     "text": [
      "[' is short, i use ']\n"
     ]
    }
   ],
   "source": [
    "# findall更方便\n",
    "r1 = re.findall('life(.*)python', s)\n",
    "print(r1)"
   ]
  },
  {
   "cell_type": "code",
   "execution_count": 9,
   "metadata": {},
   "outputs": [
    {
     "output_type": "stream",
     "name": "stdout",
     "text": [
      "life is short, i use python, i love python\n is short, i use \n, i love \n('life is short, i use python, i love python', ' is short, i use ', ', i love ')\n(' is short, i use ', ', i love ')\n"
     ]
    }
   ],
   "source": [
    "s = 'life is short, i use python, i love python'\n",
    "r = re.search('life(.*)python(.*)python', s)\n",
    "print(r.group(0))\n",
    "print(r.group(1))\n",
    "print(r.group(2))\n",
    "# 简洁写法，返回元组\n",
    "print(r.group(0,1,2))\n",
    "# groups()返回组匹配，不返回完整匹配内容\n",
    "print(r.groups())\n"
   ]
  },
  {
   "cell_type": "code",
   "execution_count": null,
   "metadata": {},
   "outputs": [],
   "source": []
  }
 ]
}