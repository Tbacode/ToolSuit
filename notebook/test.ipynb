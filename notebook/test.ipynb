{
 "cells": [
  {
   "cell_type": "code",
   "execution_count": null,
   "metadata": {},
   "outputs": [],
   "source": [
    "# 正则表达式分组：在完整的模式中定义子模式，将每个圆括号中子模式匹配出来的结果提取出来"
   ]
  },
  {
   "cell_type": "code",
   "execution_count": null,
   "metadata": {},
   "outputs": [],
   "source": [
    "import re\n",
    "s = 'life is short, i use python'\n",
    "\n",
    "r = re.search('^life.*python$', s)\n",
    "# group(0)永远返回所有的匹配结果，想要分组结果需要指定非0的序号\n",
    "print(r.group(1))"
   ]
  },
  {
   "cell_type": "code",
   "execution_count": null,
   "metadata": {},
   "outputs": [],
   "source": [
    "# findall更方便\n",
    "r1 = re.findall('life(.*)python', s)\n",
    "print(r1)"
   ]
  },
  {
   "cell_type": "code",
   "execution_count": null,
   "metadata": {},
   "outputs": [],
   "source": [
    "s = 'life is short, i use python, i love python'\n",
    "r = re.search('life(.*)python(.*)python', s)\n",
    "print(r.group(0))\n",
    "print(r.group(1))\n",
    "print(r.group(2))\n",
    "# 简洁写法，返回元组\n",
    "print(r.group(0,1,2))\n",
    "# groups()返回组匹配，不返回完整匹配内容\n",
    "print(r.groups())\n"
   ]
  },
  {
   "cell_type": "code",
   "execution_count": null,
   "metadata": {},
   "outputs": [],
   "source": [
    "print(111)"
   ]
  },
  {
   "cell_type": "code",
   "execution_count": null,
   "metadata": {},
   "outputs": [],
   "source": [
    "import re\n",
    "\n",
    "html = \"<div><p>九霄龙吟惊天变</p></div><div><p>风云际会潜水游</p></div>\"\n",
    "# 贪婪匹配\n",
    "p = re.compile('<div><p>(.*)</p></div>',re.S)\n",
    "r_list = p.findall(html)\n",
    "print(r_list)\n",
    "\n",
    "# 非贪婪匹配\n",
    "p = re.compile('<div><p>(.*?)</p></div>',re.S)\n",
    "r_list = p.findall(html)\n",
    "print(r_list)"
   ]
  },
  {
   "cell_type": "code",
   "execution_count": null,
   "metadata": {},
   "outputs": [],
   "source": [
    "import re\n",
    "\n",
    "html = '''\n",
    "<div class=\"animal\">\n",
    "    <p class=\"name\">\n",
    "        <a title=\"Tiger\"></a>\n",
    "    </p>\n",
    "    <p class=\"content\">Two tigers two tigers run fast</p>\n",
    "</div>\n",
    "<div class=\"animal\">\n",
    "    <p class=\"name\">\n",
    "        <a title=\"Rabbit\"></a>\n",
    "    </p>\n",
    "    <p class=\"content\">Small white rabbit white and white</p>\n",
    "</div>'''\n",
    "\n",
    "p = re.compile('<div class=\"animal\">.*?title=\"(.*?)\".*?content\">(.*?)</p>.*?</div>', re.S)\n",
    "r_list = p.findall(html)\n",
    "\n",
    "for r in r_list:\n",
    "    print('animal name:', r[0].strip())\n",
    "    print('animal content:', r[1].strip())"
   ]
  },
  {
   "cell_type": "code",
   "execution_count": null,
   "metadata": {},
   "outputs": [],
   "source": [
    "# XPath即为XML路径语言，它是一种用来确定XML文档中某部分位置的语言，同样适用于HTML文档的检索\n",
    "\n",
    "# 【1】查找所有的dd节点\n",
    "#     //dd\n",
    "# 【2】获取所有电影的名称的a节点: 所有class属性值为name的a节点\n",
    "#     //p[@class=\"name\"]/a\n",
    "# 【3】获取dl节点下第2个dd节点的电影节点\n",
    "#     //dl[@class=\"board-wrapper\"]/dd[2]                          \n",
    "# 【4】获取所有电影详情页链接: 获取每个电影的a节点的href的属性值\n",
    "#     //p[@class=\"name\"]/a/@href\n",
    "# ​\n",
    "# 【注意】                             \n",
    "#     1> 只要涉及到条件,加 [] : //dl[@class=\"xxx\"]   //dl/dd[2]\n",
    "#     2> 只要获取属性值,加 @  : //dl[@class=\"xxx\"]   //p/a/@href\n",
    "\n",
    "# 【1】// : 从所有节点中查找（包括子节点和后代节点）\n",
    "# 【2】@  : 获取属性值\n",
    "#   2.1> 使用场景1（属性值作为条件）\n",
    "#        //div[@class=\"movie-item-info\"]\n",
    "#   2.2> 使用场景2（直接获取属性值）\n",
    "#        //div[@class=\"movie-item-info\"]/a/img/@src\n",
    "    \n",
    "# 【3】练习 - 猫眼电影top100\n",
    "#   3.1> 匹配电影名称\n",
    "#       //div[@class=\"movie-item-info\"]/p[1]/a/@title\n",
    "#   3.2> 匹配电影主演\n",
    "#       //div[@class=\"movie-item-info\"]/p[2]/text()\n",
    "#   3.3> 匹配上映时间\n",
    "#       //div[@class=\"movie-item-info\"]/p[3]/text()\n",
    "#   3.4> 匹配电影链接\n",
    "#       //div[@class=\"movie-item-info\"]/p[1]/a/@href"
   ]
  },
  {
   "cell_type": "code",
   "execution_count": null,
   "metadata": {},
   "outputs": [],
   "source": [
    "# 匹配多路径（或）：xpath表达式1 | xpath表达式2 | xpath表达式3\n",
    "\n",
    "# 常用函数：\n",
    "# 【1】text() ：获取节点的文本内容\n",
    "#     xpath表达式末尾不加 /text() :则得到的结果为节点对象\n",
    "#     xpath表达式末尾加 /text() 或者 /@href : 则得到结果为字符串\n",
    "        \n",
    "# 【2】contains() : 匹配属性值中包含某些字符串节点\n",
    "#     匹配class属性值中包含 'movie-item' 这个字符串的 div 节点\n",
    "#      //div[contains(@class,\"movie-item\")]\n",
    "\n",
    "# 【1】字符串: xpath表达式的末尾为: /text() 、/@href  得到的列表中为'字符串'\n",
    " \n",
    "# 【2】节点对象: 其他剩余所有情况得到的列表中均为'节点对象' \n",
    "#     [<element dd at xxxa>,<element dd at xxxb>,<element dd at xxxc>]\n",
    "#     [<element div at xxxa>,<element div at xxxb>]\n",
    "#     [<element p at xxxa>,<element p at xxxb>,<element p at xxxc>]"
   ]
  },
  {
   "cell_type": "code",
   "execution_count": null,
   "metadata": {},
   "outputs": [],
   "source": [
    "# 应用场景\n",
    "\n",
    "# 【1】多进程 ：CPU密集程序\n",
    "# 【2】多线程 ：爬虫(网络I/O)、本地磁盘I/O\n",
    "\n",
    "# 队列\n",
    "\n",
    "# 【1】导入模块\n",
    "#    from queue import Queue\n",
    "# ​\n",
    "# 【2】使用\n",
    "#     q = Queue()\n",
    "#     q.put(url)\n",
    "#     q.get()   # 当队列为空时，阻塞\n",
    "#     q.empty() # 判断队列是否为空，True/False\n",
    "# ​\n",
    "# 【3】q.get()解除阻塞方式\n",
    "#    3.1) q.get(block=False)\n",
    "#    3.2) q.get(block=True,timeout=3)\n",
    "#    3.3) if not q.empty():\n",
    "#             q.get()"
   ]
  },
  {
   "cell_type": "code",
   "execution_count": null,
   "metadata": {},
   "outputs": [],
   "source": [
    "from fake_useragent import UserAgent\n",
    "\n",
    "print(UserAgent().random)"
   ]
  },
  {
   "cell_type": "code",
   "execution_count": null,
   "metadata": {},
   "outputs": [],
   "source": [
    "# 什么是闭包（python）\n",
    "# 实例\n",
    "def curve_pre():\n",
    "    a = 10\n",
    "    def curve(x):\n",
    "        print('this is a function')\n",
    "        return a * x * x\n",
    "    return curve\n",
    "\n",
    "curve() # 调用失败，函数未定义\n",
    "# f = curve_pre() # 带有return后，赋值给变量f，成功无报错\n",
    "# print(f(2))\n"
   ]
  },
  {
   "cell_type": "code",
   "execution_count": null,
   "metadata": {},
   "outputs": [],
   "source": [
    "a = 10\n",
    "\n",
    "def f1(x):\n",
    "    return a * x * x\n",
    "\n",
    "print(f1(5))"
   ]
  },
  {
   "cell_type": "code",
   "execution_count": null,
   "metadata": {},
   "outputs": [],
   "source": [
    "def curve_pre():\n",
    "    a = 10\n",
    "    def curve(x):\n",
    "        print('this is a function')\n",
    "        return a * x * x\n",
    "    return curve\n",
    "\n",
    "a = 25 # 外部定义a的取值，是否影响最终输出结果？\n",
    "f = curve_pre()\n",
    "print(f(2))"
   ]
  },
  {
   "cell_type": "code",
   "execution_count": null,
   "metadata": {},
   "outputs": [],
   "source": [
    "def f1():\n",
    "    a = 10\n",
    "    def f2():\n",
    "        # 此时的a被python认为一个局部变量，无引用外部的环境变量\n",
    "        a = 20\n",
    "        print(a)\n",
    "    print(a)\n",
    "    f2()\n",
    "    print(a)\n",
    "f1()"
   ]
  },
  {
   "cell_type": "code",
   "execution_count": null,
   "metadata": {},
   "outputs": [],
   "source": [
    "x = 0\n",
    "3 re = 3\n",
    "4 re = 7\n",
    "5 re = 12"
   ]
  },
  {
   "cell_type": "code",
   "execution_count": null,
   "metadata": {},
   "outputs": [],
   "source": [
    "# 非闭包\n",
    "origin = 0\n",
    "\n",
    "def go(step):\n",
    "    global origin \n",
    "    origin = origin + step \n",
    "    return origin\n",
    "\n",
    "print(go(3))\n",
    "print(go(4))\n",
    "print(go(5))"
   ]
  },
  {
   "cell_type": "code",
   "execution_count": null,
   "metadata": {},
   "outputs": [],
   "source": [
    "# 闭包\n",
    "origin = 0\n",
    "\n",
    "def factory(pos):\n",
    "    def go(step):\n",
    "        nonlocal pos\n",
    "        new_pos = pos + step\n",
    "        pos = new_pos\n",
    "        return new_pos\n",
    "    return go\n",
    "\n",
    "tourist = factory(origin)\n",
    "print(tourist(3))\n",
    "print(tourist(4))\n",
    "print(tourist(5))\n"
   ]
  },
  {
   "cell_type": "code",
   "execution_count": null,
   "metadata": {},
   "outputs": [],
   "source": [
    "def f1():\n",
    "    a = 10\n",
    "    def f2(x):\n",
    "        return a * x * x\n",
    "    return f2"
   ]
  },
  {
   "cell_type": "code",
   "execution_count": null,
   "metadata": {},
   "outputs": [],
   "source": [
    "import time\n",
    "\n",
    "def download():\n",
    "    print(\"正在下载。。。\")\n",
    "    time.sleep(1)\n",
    "    print(\"下载结束。。。\")\n",
    "\n",
    "def outer(func):\n",
    "    def inter():\n",
    "        start = time.time()\n",
    "        func()\n",
    "        end = time.time()\n",
    "        print(\"下载用时：{:.2f}秒\".format(end-start))\n",
    "    return inter\n",
    "\n",
    "down = outer(download)\n",
    "down()"
   ]
  },
  {
   "cell_type": "code",
   "execution_count": null,
   "metadata": {},
   "outputs": [],
   "source": [
    "将函数看做一个对象可以做以下的事情：　　\n",
    "        1.可以赋值 　　\n",
    "        2.可以把函数当做参数传入另一个函数\n",
    "        3.可以将函数当做容器类型中的一个元素　　\n",
    "        4.可以将函数当做容器类型中的一个元素"
   ]
  },
  {
   "cell_type": "code",
   "execution_count": null,
   "metadata": {},
   "outputs": [],
   "source": [
    "# ======可以赋值 　\n",
    "def func():\n",
    "    pass\n",
    "f = func\n",
    "f"
   ]
  },
  {
   "cell_type": "code",
   "execution_count": null,
   "metadata": {},
   "outputs": [],
   "source": [
    "# ======可以把函数当做参数传入另一个函数\n",
    "def func1(func):\n",
    "    func()\n",
    "def func2():\n",
    "    print(\"222\")\n",
    "func1(func2)"
   ]
  },
  {
   "cell_type": "code",
   "execution_count": null,
   "metadata": {},
   "outputs": [],
   "source": [
    "# ======可以将函数当做容器类型中的一个元素\n",
    "def f1():\n",
    "    print(\"function f1...\")\n",
    "\n",
    "\n",
    "def f2():\n",
    "    print(\"function f2...\")\n",
    "\n",
    "\n",
    "def f3():\n",
    "    print(\"function f3...\")\n",
    "\n",
    "li = (f1, f2, f3)\n",
    "for func in li:  # 每次循环取出一个函数的内存地址。加括号代表执行\n",
    "    func()"
   ]
  },
  {
   "cell_type": "code",
   "execution_count": null,
   "metadata": {},
   "outputs": [],
   "source": [
    "# ======可以将内层函数当做外层函数的返回值\n",
    "def outer():\n",
    "    def inter():\n",
    "        print(\"inter\")\n",
    "    return inter\n",
    "outer()"
   ]
  },
  {
   "cell_type": "code",
   "execution_count": null,
   "metadata": {},
   "outputs": [],
   "source": [
    "def f1():\n",
    "    a = 25\n",
    "    def f2(x):\n",
    "        return a * x * x\n",
    "    return f2\n",
    "f = f1()\n",
    "f(2)"
   ]
  },
  {
   "cell_type": "code",
   "execution_count": null,
   "metadata": {},
   "outputs": [],
   "source": [
    "def f1():\n",
    "    a = 25\n",
    "    def f2(x):\n",
    "        return a * x * x\n",
    "    return f2\n",
    "a = 100\n",
    "f = f1()\n",
    "f(2)"
   ]
  },
  {
   "cell_type": "code",
   "execution_count": null,
   "metadata": {},
   "outputs": [],
   "source": [
    "def f1():\n",
    "    a = 25\n",
    "    def f2(x):\n",
    "        return a * x * x\n",
    "    return f2\n",
    "f = f1()\n",
    "f(2)"
   ]
  },
  {
   "cell_type": "code",
   "execution_count": null,
   "metadata": {},
   "outputs": [],
   "source": [
    "import time\n",
    "def Download():\n",
    "    print(\"xiazai...\")\n",
    "    time.sleep(1)\n",
    "    print(\"xiazaijieshu....\")\n",
    "\n",
    "def outer(func):\n",
    "    def inter():\n",
    "        start = time.time()\n",
    "        func()\n",
    "        end = time.time()\n",
    "        print(\"shijain::{:.2f}\".format(end-start))\n",
    "    return inter\n",
    "\n",
    "down = outer(Download)\n",
    "down()\n",
    "\n"
   ]
  },
  {
   "cell_type": "code",
   "execution_count": null,
   "metadata": {},
   "outputs": [],
   "source": [
    "import requests\n",
    "\n",
    "proxies = {\"https\":\"https://localhost:8888\", \"http\":\"http://localhost:8888\"}\n",
    "\n",
    "res = requests.get(\"http://www.baidu.com\", proxies=proxies,verify=False)\n",
    "print(res)\n",
    "print(res.headers)"
   ]
  },
  {
   "cell_type": "code",
   "execution_count": null,
   "metadata": {},
   "outputs": [],
   "source": [
    "import requests\n",
    "\n",
    "res = requests.get(\"http://127.0.0.1:5000/get\").text\n",
    "print(res)"
   ]
  },
  {
   "cell_type": "code",
   "execution_count": null,
   "metadata": {},
   "outputs": [],
   "source": [
    "import requests\n",
    "\n",
    "url = \"https://us-central1-coloringproject-fe7d3.cloudfunctions.net/testApi/testApi/eventList\"\n",
    "\n",
    "proxies = {\"http\":\"http://160.16.120.53:543\",\"https\":\"https://160.16.120.53:543\"}\n",
    "\n",
    "res = requests.get(url, proxies=proxies, verify=False).text\n",
    "print(res)"
   ]
  },
  {
   "cell_type": "code",
   "execution_count": null,
   "metadata": {},
   "outputs": [],
   "source": [
    "import requests\n",
    "\n",
    "url = \"http://localhost:5000/\"\n",
    "\n",
    "parm = {\n",
    "    \"username\": \"了不起的QA\"\n",
    "}\n",
    "res = requests.post(url, data=parm)\n",
    "print(res.text)"
   ]
  },
  {
   "cell_type": "code",
   "execution_count": null,
   "metadata": {},
   "outputs": [],
   "source": [
    "from datetime import datetime\n",
    "\n",
    "dayOfweek = datetime.now().isoweekday()\n",
    "print(dayOfweek)"
   ]
  },
  {
   "cell_type": "code",
   "execution_count": null,
   "metadata": {},
   "outputs": [],
   "source": [
    "str1 = \"123\"\n",
    "str2 = str1 and str1 + os.sep or ''\n",
    "str3 = str1 and str1\n",
    "print(os.sep)\n",
    "\n",
    "print(str2)"
   ]
  },
  {
   "cell_type": "code",
   "execution_count": null,
   "metadata": {},
   "outputs": [],
   "source": [
    "import zipfile\n",
    "\n",
    "startdir = r\"C:\\Users\\xt875\\Desktop\\airtest_file\\report\\BBB_airtest.log\\static\"  #要压缩的文件夹路径\n",
    "file_news = startdir +'.zip' # 压缩后文件夹的名字\n",
    "z = zipfile.ZipFile(file_news,'w',zipfile.ZIP_DEFLATED) #参数一：文件夹名\n",
    "for dirpath, dirnames, filenames in os.walk(startdir):\n",
    "    fpath = dirpath.replace(startdir,'') #这一句很重要，不replace的话，就从根目录开始复制\n",
    "    fpath = fpath and fpath + os.sep or ''#这句话理解我也点郁闷，实现当前文件夹以及包含的所有文件的压缩\n",
    "    for filename in filenames:\n",
    "        # z.write(os.path.join(dirpath, filename),fpath+filename)\n",
    "        z.write(os.path.join(dirpath, filename))\n",
    "        print ('压缩成功')\n",
    "z.close()"
   ]
  },
  {
   "cell_type": "code",
   "execution_count": null,
   "metadata": {},
   "outputs": [],
   "source": [
    "string = r\"print(1111)\"\n",
    "eval(string)\n",
    "def touch():\n",
    "    print(\"touch\")\n",
    "eval(\"touch()\")"
   ]
  },
  {
   "cell_type": "code",
   "execution_count": null,
   "metadata": {},
   "outputs": [],
   "source": [
    "for i in range(1, 10):\n",
    "    print(i)"
   ]
  },
  {
   "cell_type": "code",
   "execution_count": null,
   "metadata": {},
   "outputs": [],
   "source": [
    "\n",
    "import cv2    \n",
    "    \n",
    "img = cv2.imread(r\"C:/Users/xt875/Desktop/screen1.png\")    \n",
    "gray = cv2.cvtColor(img,cv2.COLOR_BGR2GRAY)    \n",
    "ret, binary = cv2.threshold(gray,127,255,cv2.THRESH_BINARY)    \n",
    "    \n",
    "contours, hierarchy = cv2.findContours(binary,cv2.RETR_TREE,cv2.CHAIN_APPROX_SIMPLE)    \n",
    "cv2.drawContours(img,contours,-1,(0,0,255),3)    \n",
    "    \n",
    "cv2.imshow(\"img\", img)    \n",
    "cv2.waitKey(0) "
   ]
  },
  {
   "cell_type": "code",
   "execution_count": null,
   "metadata": {},
   "outputs": [],
   "source": [
    "import cv2\n",
    "\n",
    "img = cv2.imread(r\"C:/Users/xt875/Desktop/screen1.jpg\", 1)\n",
    "img_gray = cv2.cvtColor(img, cv2.COLOR_BGR2GRAY)\n",
    "ret, thresh = cv2.threshold(img_gray, 220, 255, cv2.THRESH_BINARY)\n",
    "ret1, thresh1 = cv2.threshold(thresh, 127, 255, cv2.THRESH_BINARY) \n",
    "# print(thresh)\n",
    "\n",
    "# img[thresh == 255] = 0\n",
    "\n",
    "# kernel = cv2.getStructuringElement(cv2.MORPH_ELLIPSE, (5, 5))\n",
    "# opening = cv2.morphologyEx(img, cv2.MORPH_OPEN, kernel)\n",
    "# erosion = cv2.erode(img, kernel, iterations=1)\n",
    "\n",
    "# image, contours = cv2.findContours(opening, cv2.RETR_TREE, cv2.CHAIN_APPROX_SIMPLE)\n",
    "# print(contours)\n",
    "# print(image)\n",
    "# print(len(image))\n",
    "# draw_img = img.copy()\n",
    "\n",
    "# cv2.drawContours(img, image, -1, (0, 0, 255), 2)\n",
    "\n",
    "cv2.namedWindow('img', cv2.WINDOW_NORMAL)\n",
    "cv2.imshow(\"img\", thresh1)\n",
    "cv2.waitKey(0)"
   ]
  },
  {
   "cell_type": "code",
   "execution_count": null,
   "metadata": {},
   "outputs": [],
   "source": [
    "from PIL import Image\n",
    "from PIL import ImageChops\n",
    "import numpy as np\n",
    "import math\n",
    "import operator\n",
    "from functools import reduce\n",
    "\n",
    "def changeColor(path):\n",
    "    image = Image.open(path).convert(\"RGB\")\n",
    "    img_array = np.array(image)#把图像转成数组格式img = np.asarray(image)\n",
    "    shape = img_array.shape\n",
    "    print(img_array.shape)\n",
    "    height = shape[0]\n",
    "    width = shape[1]\n",
    "    dst = np.zeros((height,width,3))\n",
    "    for h in range(0,height):\n",
    "        for w in range(0,width):\n",
    "            (b,g,r) = img_array[h,w]\n",
    "            if (b+g+r)>100:  # 肉眼不可见的黑色\n",
    "                img_array[h, w] = (255, 0, 0)  # 红色\n",
    "            dst[h,w] = img_array[h,w]\n",
    "    img2 = Image.fromarray(np.uint8(dst))\n",
    "    img2.save(r\"C:/Users/xt875/Desktop/screenPil.jpg\")\n",
    "    return img2\n",
    "\n",
    "changeColor(r\"C:/Users/xt875/Desktop/screen1.jpg\")\n"
   ]
  },
  {
   "cell_type": "code",
   "execution_count": null,
   "metadata": {},
   "outputs": [],
   "source": [
    "def crop_img():\n",
    "        print(\"进入裁剪\")\n",
    "        Img = cv2.imread(r\"C:/Users/xt875/Documents/airtest/BBB_airtest.air/reward.jpg\")\n",
    "        cropped = Img[1430:1630, 35:1040] # 裁剪坐标为[y0:y1, x0:x1]\n",
    "        cv2.imwrite(\"C:/Users/xt875/Documents/airtest/BBB_airtest.air/screen_bbb_air_crop.jpg\", cropped)\n",
    "\n",
    "def get_location_node(numb):\n",
    "        # self.crop_img()\n",
    "        Img = cv2.imread(\"C:/Users/xt875/Documents/airtest/BBB_airtest.air/screen_bbb_air_crop.jpg\")  #读入一幅图像\n",
    "        \n",
    "\n",
    "        kernel_2 = np.ones((1, 1), np.uint8)  #2x2的卷积核\n",
    "\n",
    "        # kernel_3 = np.ones((3, 3), np.uint8)  #3x3的卷积核\n",
    "\n",
    "        # kernel_4 = np.ones((4, 4), np.uint8)  #4x4的卷积核\n",
    "        # kernel_2 = self.set_kernel(numb)\n",
    "\n",
    "        if Img is not None:  #判断图片是否读入\n",
    "\n",
    "            HSV = cv2.cvtColor(Img, cv2.COLOR_BGR2HSV)  #把BGR图像转换为HSV格式\n",
    "        '''\n",
    "\n",
    "        HSV模型中颜色的参数分别是：色调(H)，饱和度(S)，明度(V)\n",
    "\n",
    "        下面两个值是要识别的颜色范围\n",
    "\n",
    "        '''\n",
    "\n",
    "        Lower = np.array([0, 0, 240])  #要识别颜色的下限\n",
    "\n",
    "        Upper = np.array([0, 0, 254])  #要识别的颜色的上限\n",
    "\n",
    "        #mask是把HSV图片中在颜色范围内的区域变成白色，其他区域变成黑色\n",
    "\n",
    "        mask = cv2.inRange(HSV, Lower, Upper)\n",
    "\n",
    "        #下面四行是用卷积进行滤波\n",
    "\n",
    "        erosion = cv2.erode(mask, kernel_2, iterations=1)\n",
    "\n",
    "        erosion = cv2.erode(erosion, kernel_2, iterations=1)\n",
    "\n",
    "        dilation = cv2.dilate(erosion, kernel_2, iterations=1)\n",
    "\n",
    "        dilation = cv2.dilate(dilation, kernel_2, iterations=1)\n",
    "\n",
    "        #target是把原图中的非目标颜色区域去掉剩下的图像\n",
    "\n",
    "        target = cv2.bitwise_and(Img, Img, mask=dilation)\n",
    "\n",
    "        #将滤波后的图像变成二值图像放在binary中\n",
    "\n",
    "        ret, binary = cv2.threshold(dilation, 127, 255, cv2.THRESH_BINARY)\n",
    "\n",
    "        #在binary中发现轮廓，轮廓按照面积从小到大排列\n",
    "\n",
    "        # cv2.imshow(\"binary\", binary)\n",
    "\n",
    "        contours, hierarchy = cv2.findContours(binary, cv2.RETR_EXTERNAL,\n",
    "                                            cv2.CHAIN_APPROX_SIMPLE)\n",
    "\n",
    "        # print(\"++++++++contours\", contours)\n",
    "        p = 0\n",
    "        node_list = []\n",
    "\n",
    "        for i in contours:  #遍历所有的轮廓\n",
    "\n",
    "            x, y, w, h = cv2.boundingRect(i)  #将轮廓分解为识别对象的左上角坐标和宽、高\n",
    "\n",
    "            #在图像上画上矩形(图片、左上角坐标、右下角坐标、颜色、线条宽度)\n",
    "\n",
    "            cv2.rectangle(Img, (x, y), (x + w, y + h), (0,255,), 3)\n",
    "\n",
    "            # 输出图像矩形中间坐标点\n",
    "            # print(\"中心坐标：{0},{1}\".format(str(x+w/2), str(y+h/2)))\n",
    "            # print((x + w / 2, y + h / 2))\n",
    "            node_list.append((x + w / 2, y + h / 2))\n",
    "\n",
    "            #给识别对象写上标号\n",
    "\n",
    "            font = cv2.FONT_HERSHEY_SIMPLEX\n",
    "\n",
    "            cv2.putText(Img, str(p), (x - 10, y + 10), font, 1, (0, 0, 255),\n",
    "                        2)  #加减10是调整字符位置\n",
    "\n",
    "            p += 1\n",
    "\n",
    "            # print ('黄色方块的数量是',p,'个')#终端输出目标数量\n",
    "\n",
    "            # cv2.imshow('target', target)\n",
    "\n",
    "            # cv2.imshow('Mask', mask)\n",
    "\n",
    "            # cv2.imshow(\"prod\", dilation)\n",
    "\n",
    "            # cv2.imshow('Img', Img)\n",
    "\n",
    "        cv2.imwrite('Img111.png', Img)  #将画上矩形的图形保存到当前目录\n",
    "        return node_list\n",
    "\n",
    "crop_img()\n",
    "get_location_node(2)"
   ]
  },
  {
   "cell_type": "code",
   "execution_count": null,
   "metadata": {},
   "outputs": [],
   "source": [
    "import cv2\n",
    "import numpy as np\n",
    "\n",
    "rgb=\"#fefefe,#f8f8f8\"\n",
    "\n",
    "rgb = rgb.split(',')\n",
    "\n",
    "bgr = [[int(r[5:7], 16), int(r[3:5], 16), int(r[1:3], 16)] for r in rgb]\n",
    "\n",
    "hsv = [list(cv2.cvtColor(np.uint8([[b]]), cv2.COLOR_BGR2HSV)[0][0]) for b in bgr]\n",
    "\n",
    "hsv = np.array(hsv)\n",
    "\n",
    "print(\"H\", min(hsv[:, 0]), max(hsv[:, 0]))\n",
    "print(\"S\", min(hsv[:, 1]), max(hsv[:, 1]))\n",
    "print(\"V\", min(hsv[:, 2]), max(hsv[:, 2]))"
   ]
  },
  {
   "cell_type": "code",
   "execution_count": null,
   "metadata": {},
   "outputs": [],
   "source": [
    "list_1 = [(1, 2), (2, 3), (3, 4)]\n",
    "list_2 = [(1, 2), (2, 3), (3, 3)]\n",
    "print(list(set(list_1).difference(set(list_2))))"
   ]
  },
  {
   "cell_type": "code",
   "execution_count": null,
   "metadata": {},
   "outputs": [],
   "source": [
    "import cv2\n",
    "  \n",
    "img = cv2.imread(r\"C:/Users/xt875/Documents/airtest/Color_airtest.air/screen_air.jpg\")\n",
    "print(img.shape)\n",
    "cropped = img[0:1300, 0:1080] # 裁剪坐标为[y0:y1, x0:x1]\n",
    "cv2.imwrite(\"C:/Users/xt875/Documents/airtest/Color_airtest.air/screen_air_crop.jpg\", cropped)"
   ]
  },
  {
   "cell_type": "code",
   "execution_count": null,
   "metadata": {},
   "outputs": [],
   "source": [
    "list_1 = []\n",
    "i = None\n",
    "e = None\n",
    "list_1.append(i)\n",
    "list_1.append(e)\n",
    "print(list_1)\n",
    "if list_1:\n",
    "    print(1)"
   ]
  },
  {
   "cell_type": "code",
   "execution_count": null,
   "metadata": {},
   "outputs": [],
   "source": [
    "s = \"lite_setting.air\"\n",
    "s.split(\".\")[1]\n",
    "s.replace(\"air\", \"log\")"
   ]
  },
  {
   "cell_type": "code",
   "execution_count": null,
   "metadata": {},
   "outputs": [],
   "source": [
    "def log(func):\n",
    "    print(func.__name__,\"1\")\n",
    "    def ww(a):\n",
    "        print(a)\n",
    "        return func(a)\n",
    "    return ww\n",
    "\n",
    "\n",
    "@log\n",
    "def test_zzz(p):\n",
    "    print(\"haha\" + p)\n",
    "\n",
    "test_zzz(\"123\")"
   ]
  },
  {
   "cell_type": "code",
   "execution_count": null,
   "metadata": {},
   "outputs": [],
   "source": [
    "list_1 = [\"\", \"\"]\n",
    "print(list_1)\n",
    "if list_1 is None:\n",
    "    print(22222222)\n",
    "print(len(list_1))"
   ]
  },
  {
   "cell_type": "code",
   "execution_count": null,
   "metadata": {},
   "outputs": [],
   "source": [
    "class MytestError(Exception):\n",
    "    def __init__(self) -> None:\n",
    "        super().__init__()\n",
    "    \n",
    "    def __str__(self) -> str:\n",
    "        return super().__str__()\n",
    "\n",
    "class MyfirstError(MytestError):\n",
    "    def __init__(self, flag) -> None:\n",
    "        self._flag = flag\n",
    "\n",
    "    def __str__(self) -> str:\n",
    "        if self._flag == \"N\":\n",
    "            return f\"MyfirstError: this is raise exception\"\n",
    "\n",
    "class test():\n",
    "    @classmethod\n",
    "    def test_a(cls, name):\n",
    "        if name == \"N\":\n",
    "            raise MytestError(\"wode cuo\")\n",
    "        else:\n",
    "            return \"GOOD\"\n",
    "\n",
    "try:\n",
    "    test.test_a(\"N\")\n",
    "except MyfirstError as e:\n",
    "    print(e)"
   ]
  },
  {
   "cell_type": "code",
   "execution_count": null,
   "metadata": {},
   "outputs": [],
   "source": [
    "import unittest\n",
    "\n",
    "\n",
    "class UnittestTest(unittest.TestCase):\n",
    "\n",
    "    def test_01(self):\n",
    "        flag = True\n",
    "        self.assertTrue(flag)\n",
    "\n",
    "    def test_02(self):\n",
    "        flag = False\n",
    "        self.assertFalse(flag)\n",
    "\n",
    "    def test_03(self):\n",
    "        flag1 = 1\n",
    "        flag2 = 2\n",
    "        self.assertEqual(flag1, flag2)\n",
    "\n",
    "    def test_04(self):\n",
    "        data1 = {'username': '了不起的QA', 'password': '123'}\n",
    "        data2 = {'username': '了不起的GD', 'password': '1234'}\n",
    "        self.assertDictEqual(data1, data2)\n",
    "\n",
    "\n",
    "if __name__ == \"__main__\":\n",
    "    unittest.main()"
   ]
  },
  {
   "cell_type": "code",
   "execution_count": null,
   "metadata": {},
   "outputs": [],
   "source": [
    "from pyecharts.faker import Faker\n",
    "from pyecharts.charts import Bar\n",
    "from pyecharts import options as opts\n",
    "import pyecharts\n",
    "\n",
    "print(pyecharts.__version__)\n",
    "\n",
    "\n",
    "c = (\n",
    "    Bar()\n",
    "    .add_xaxis(Faker.days_attrs)\n",
    "    .add_yaxis(\"商家A\", Faker.days_values)\n",
    "    .set_global_opts(\n",
    "        title_opts=opts.TitleOpts(title=\"Bar-DataZoom（slider-水平）\"),\n",
    "        datazoom_opts=opts.DataZoomOpts(),\n",
    "    )\n",
    "    .render(\"bar_datazoom_slider.html\")\n",
    ")"
   ]
  },
  {
   "cell_type": "code",
   "execution_count": null,
   "metadata": {},
   "outputs": [],
   "source": [
    "import csv\n",
    "# path = r\"‪C:/Users/talefun/Desktop/water.csv\"\n",
    "path = r\"C:\\Users\\talefun\\Desktop\\water.csv\"\n",
    "with open(path, 'r') as fp:\n",
    "    lines = csv.reader(fp)\n",
    "    for index, line in enumerate(lines):\n",
    "        if index != 0:\n",
    "            print(\"时间差值：\" + str(int(line[3])-int(line[2])))\n"
   ]
  },
  {
   "cell_type": "code",
   "execution_count": null,
   "metadata": {},
   "outputs": [],
   "source": [
    "import requests\n",
    "\n",
    "url = \"https://distribute.weplayer.cc/adInfo\"\n",
    "\n",
    "header = {\n",
    "    # \"Content-Type\": \"application/json\",\n",
    "    # \"Accept\": \"text/plain\",\n",
    "    \"t\": \"true\"\n",
    "}\n",
    "\n",
    "data = {\n",
    "    \"platform\": \"android\",\n",
    "    \"packageName\": \"water.sort.puzzle.color.game\",\n",
    "    \"versionCode\": 2130,\n",
    "    \"idfa\": \"2\"\n",
    "}\n",
    "\n",
    "res = requests.post(url=url, data=data, headers=header)\n",
    "\n",
    "print(res.text)\n"
   ]
  },
  {
   "cell_type": "code",
   "execution_count": 2,
   "metadata": {},
   "outputs": [
    {
     "name": "stdout",
     "output_type": "stream",
     "text": [
      "<!DOCTYPE HTML PUBLIC \"-//W3C//DTD HTML 3.2 Final//EN\">\n",
      "<title>405 Method Not Allowed</title>\n",
      "<h1>Method Not Allowed</h1>\n",
      "<p>The method is not allowed for the requested URL.</p>\n",
      "\n"
     ]
    }
   ],
   "source": [
    "import requests\n",
    "\n",
    "data = {\"username\": \"1111\"}\n",
    "res = requests.get(url=r'http://127.0.0.1:5000', params=data).text\n",
    "print(res)"
   ]
  }
 ],
 "metadata": {
  "interpreter": {
   "hash": "611da1e806769845e47fcc9866641ea88bec26c1eb9c254ec1b8b68511ec9a00"
  },
  "kernelspec": {
   "display_name": "Python 3.9.6 64-bit",
   "name": "python3"
  },
  "language_info": {
   "codemirror_mode": {
    "name": "ipython",
    "version": 3
   },
   "file_extension": ".py",
   "mimetype": "text/x-python",
   "name": "python",
   "nbconvert_exporter": "python",
   "pygments_lexer": "ipython3",
   "version": "3.9.5"
  },
  "metadata": {
   "interpreter": {
    "hash": "89f3d767b852d1319be78eda77665a9cd388267eb379e1966e7c1f10ba0773f7"
   }
  },
  "orig_nbformat": 2
 },
 "nbformat": 4,
 "nbformat_minor": 2
}
