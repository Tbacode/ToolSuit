{
 "cells": [
  {
   "cell_type": "code",
   "execution_count": null,
   "metadata": {},
   "outputs": [],
   "source": [
    "\"字符串\"\n",
    "\n",
    "# 字符串是以单引号'或双引号\"括起来的任意文本,\n",
    "# 比如'abc'\n",
    "# \"xyz\"等等。\n",
    "# 请注意, ''或\"\"本身只是一种表示方式, 不是字符串的一部分,\n",
    "# 因此, 字符串'abc'只有a, b, c这3个字符。\n",
    "# 如果'本身也是一个字符, 那就可以用\"\"括起来,\n",
    "# 比如\"I'm OK\"包含的字符是I,', m, 空格, O, K这6个字符。\n",
    "\n",
    "# ''' 三引号\n",
    "\n",
    "# 'let's go'\n",
    "\n",
    "'let\\'s go'  # 转义字符\n",
    "\n",
    "'''\n",
    "hello world\n",
    "hello world\n",
    "hello world\n",
    "hello world\n",
    "hello world\n",
    "'''\n",
    "\n",
    "# '''hello world \\n'''\n",
    "\n",
    "# 'hello \\\n",
    "# world'\n",
    "\n",
    "# \"转义字符\"\n",
    "# 特殊字符 为了表示以下两种情况\n",
    "# 无法‘看见’的字符 \\t \\n\n",
    "# 与语言本身语法冲突的字符 ''  \"\"\n",
    "\n",
    "# 字符串前 加 r ， 该字符串就是一个原始字符串而不是一个普通字符串\n",
    "\n",
    "\n",
    "# '字符串'\n",
    "# \"字符串\"\n",
    "# print(type(1))\n",
    "# print(type('1'))\n",
    "# print('''hello\n",
    "# hello\n",
    "# hello\n",
    "# ''')\n",
    "# print(r'C:\\test_case\\test_demo1.py')\n",
    "\n",
    "print(bool('123'))\n",
    "print(bool(''))"
   ]
  },
  {
   "cell_type": "code",
   "execution_count": null,
   "metadata": {},
   "outputs": [],
   "source": [
    "# sttt = '*' *12\n",
    "# print(sttt)\n",
    "\n",
    "\n",
    "\n",
    "# # 字符串的拼接\n",
    "\n",
    "# strttt = 'asdf' + 'sdgasdg'\n",
    "# print(strttt)\n",
    "\n",
    "# # strrttt = 'asdf' + 1\n",
    "# strrttt = 'asdf' + str(1)\n",
    "# print(strrttt)\n",
    "\n",
    "# 切片\n",
    "\n",
    "\n",
    "# print('hello' * 5)\n",
    "\n",
    "\n",
    "# print('Say' + 'hello' * 2)\n",
    "\n",
    "# print(type(1 + 1))\n",
    "# print(\"*\" * 20)\n",
    "\n",
    "# print('hello world'[:5])\n",
    "\n",
    "print('123456789'[::-1])\n",
    "p = '2333'\n",
    "p[2] = \"2\"\n",
    "print(p)\n"
   ]
  },
  {
   "cell_type": "code",
   "execution_count": null,
   "metadata": {},
   "outputs": [],
   "source": [
    "print([1,'2',True,False][-1:])\n",
    "print([1,'2',True,False][-1])\n",
    "print(type([1,'2',True,False][-1:]))\n",
    "print(type([1,'2',True,False][-1]))\n",
    "print(\"-\" * 20)\n",
    "print((1,'2',True,False)[-1:])\n",
    "print((1,'2',True,False)[-1])\n",
    "print(type((1,'2',True,False)[-1:]))\n",
    "print(type((1,'2',True,False)[-1]))"
   ]
  },
  {
   "cell_type": "code",
   "execution_count": null,
   "metadata": {},
   "outputs": [],
   "source": [
    "print(type([1,2,3]))\n",
    "\n",
    "# 列表的特性，所有动态语言的特性\n",
    "print(type([1,'2']))\n",
    "\n",
    "\n",
    "print(type((1)))\n",
    "\n",
    "print(type((1,2, ('3',True))))"
   ]
  },
  {
   "cell_type": "code",
   "execution_count": null,
   "metadata": {},
   "outputs": [],
   "source": [
    "# ttt = tuple()\n",
    "# print(type(ttt))\n",
    "# ttt += ('1',)\n",
    "# print(ttt)\n",
    "\n",
    "# print((1,'2',True,False) - (1,))\n",
    "print((1,'2',True,False)[:2])"
   ]
  },
  {
   "cell_type": "code",
   "execution_count": null,
   "metadata": {},
   "outputs": [],
   "source": [
    "# 序列 有序是第一的\n",
    "s = {'1', 's', 'gg'}\n",
    "print(hash('1'))\n",
    "print(hash('s'))\n",
    "print(hash('gg'))\n",
    "print(s)"
   ]
  },
  {
   "cell_type": "code",
   "execution_count": null,
   "metadata": {},
   "outputs": [],
   "source": [
    "print(type((\"hello\")))\n",
    "print(type((1)))\n",
    "print(type(([1])))\n",
    "print(type((False)))"
   ]
  },
  {
   "cell_type": "code",
   "execution_count": null,
   "metadata": {},
   "outputs": [],
   "source": [
    "print(len([1,2,4])) # 获取list的长度\n",
    "print(len((1,2,4)))# 获取tuple的长度\n",
    "print(len('1,2,4'))# 获取str的长度"
   ]
  },
  {
   "cell_type": "code",
   "execution_count": null,
   "metadata": {},
   "outputs": [],
   "source": [
    "# 输出最大的元素\n",
    "# print(max([1,2,4]))\n",
    "# print(max((1,2,4)))\n",
    "# print(max('1,2,4'))\n",
    "# print(min([1,2,4]))\n",
    "# print(min((1,2,4)))\n",
    "# print(min('1,2,4'))\n",
    "\n",
    "\n",
    "# max({1,2,3})\n",
    "# min({1,2,3})\n"
   ]
  },
  {
   "cell_type": "code",
   "execution_count": null,
   "metadata": {},
   "outputs": [],
   "source": [
    "# 无序，所以，下标，切片均报错\n",
    "# 不重复\n",
    "\n",
    "# 序列能做的，为什么要用集合\n",
    "# “-” 求两个集合的差集\n",
    "print({1,2,3,4} - {3,4})\n",
    "# “&” 求两个集合的交集\n",
    "print({1,2,3,4} & {3,4})\n",
    "# “|” 求两个集合的并集\n",
    "print({1,2,3,4} | {3,4,5,6,})\n",
    "\n",
    "print(type(()))\n",
    "print(type([]))\n",
    "print(type(''))\n",
    "print(type({}))\n",
    "a = {1:\"aaa\"}\n",
    "b = {'bbb':'aaa'}\n",
    "print(a[1])\n",
    "print(type(b))\n",
    "\n",
    "llll = [1,2,3,4,5,6]\n",
    "dddd = {}\n",
    "for i in range(0, 5):\n",
    "    dddd[llll[i]] = llll[i + 1]\n",
    "print(dddd)"
   ]
  },
  {
   "cell_type": "code",
   "execution_count": null,
   "metadata": {},
   "outputs": [],
   "source": [
    "print(0.1 + 0.2)"
   ]
  },
  {
   "cell_type": "code",
   "execution_count": null,
   "metadata": {},
   "outputs": [],
   "source": [
    "import requests\n",
    "\n",
    "# url = \"https://tapcolor-lite-dev.taplayer.net/normalApi/v1/groupId\"\n",
    "url_release = 'https://lite.tapcolor.net/unrealApi/rStrategy'\n",
    "\n",
    "for i in range(0, 10):\n",
    "    result = requests.post(url=url_release, data={\"cKey\": \"TCPAXP\"}).json()\n",
    "    # print(\"GroupID_server: {}\".format(result['data']['groupId']))\n",
    "    print(result)\n",
    "    print(\"*\" * 20)\n",
    "# print(result)"
   ]
  },
  {
   "cell_type": "code",
   "execution_count": null,
   "metadata": {},
   "outputs": [],
   "source": [
    "# print(type({\"拼音\": \"23页\"}))\n",
    "print({1:\"a\", \"1\":\"b\"})\n",
    "print({1:\"a\", \"1\":\"b\"}[1])\n",
    "print({1:\"a\", \"1\":\"b\"}['1'])\n",
    "\n",
    "\n",
    "print({(1,2):\"a\", \"1\":\"b\"}[(1,2)])"
   ]
  },
  {
   "cell_type": "code",
   "execution_count": null,
   "metadata": {},
   "outputs": [],
   "source": [
    "# 使用列表的乘法，加法，构造超长列表，引出变量概念\n",
    "\n",
    "# 变量 名字\n",
    "\n",
    "# 赋值符号 = ，读法，理解\n",
    "\n",
    "# 命名规则\n",
    "# 变量名首字符不能是数字，只能包含，字母、数字、下划线\n",
    "# 1a = 2 \n",
    "\n",
    "# 系统保留的关键字，不能成为变量名：保留关键字。\n",
    "# type = 2\n",
    "# import = 3\n",
    "# 区分大小写\n",
    "# 没有数据类型声明的\n",
    "\n",
    "# 引入可变类型和不可变类型\n",
    "\n",
    "\n",
    "# # X = [1,2,3]\n",
    "# # Y = [4,5,6]\n",
    "# # X + Y\n",
    "# import = 3\n",
    "# a = 1\n",
    "# b = a\n",
    "# a = 3\n",
    "# print(b)\n",
    "# a = [1,2,3,4,5]\n",
    "# b = a\n",
    "# a[0] = '1'\n",
    "# print(b)\n",
    "a = (1,2,3, ['a','b','c', ('A', 'B')])\n",
    "a[3][3][0] = 4\n",
    "a"
   ]
  },
  {
   "cell_type": "code",
   "execution_count": null,
   "metadata": {},
   "outputs": [],
   "source": [
    "p = [1,2,3,4,5]\n",
    "p[0] = '1'\n",
    "p\n",
    "\n",
    "# int str tuple 值类型\n",
    "# list set dict 引用类型\n",
    "\n",
    "# 序列相加，实际是生成一个新的序列，而不是原有的基础上修改本身。所以str的+运算不算是修改本身\n",
    "# 而是生成新的str。\n",
    "\n"
   ]
  },
  {
   "cell_type": "code",
   "execution_count": null,
   "metadata": {},
   "outputs": [],
   "source": [
    "# 算数运算符\n",
    "# +, -, * , /, //, %, **\n",
    "print(10 % 3)\n",
    "print(2**5)\n",
    "# 赋值运算符\n",
    "# =, +=, -=, /=, %=, **=, //=\n",
    "a = 1\n",
    "a += 1 # 自增运算符，同理有自减\n",
    "b += a\n",
    "print(a)\n",
    "# 比较运算符\n",
    "# ==, !=, <, >, <=, >=\n",
    "print(1 == '1')\n",
    "print(1 != '1')\n",
    "b = 1\n",
    "b+=b>1\n",
    "\n",
    "b = b + True\n",
    "'a' > 'b'\n",
    "ord('a') # ASCII 码\n",
    "# 字符串比较，对应位置相比较ascii，list和tuple一样的\n",
    "'abc' < 'abd'\n",
    "# 逻辑运算符\n",
    "# and, or , not\n",
    "if 1 == 1 and '1' == '1':\n",
    "    print(111)\n",
    "# 成员运算符\n",
    "# in, not in\n",
    "1 in [1,2,3,4,5]\n",
    "1 not in ('1',3,4,5,6)\n",
    "# 身份运算符\n",
    "# is, is not\n",
    "a = 1\n",
    "type(a) is int\n",
    "# 位运算符\n"
   ]
  },
  {
   "cell_type": "code",
   "execution_count": 1,
   "metadata": {},
   "outputs": [
    {
     "ename": "NameError",
     "evalue": "name 'b' is not defined",
     "output_type": "error",
     "traceback": [
      "\u001b[1;31m---------------------------------------------------------------------------\u001b[0m",
      "\u001b[1;31mNameError\u001b[0m                                 Traceback (most recent call last)",
      "\u001b[1;32me:\\ToolSuit\\notebook\\wechat_demo.ipynb Cell 17'\u001b[0m in \u001b[0;36m<cell line: 4>\u001b[1;34m()\u001b[0m\n\u001b[0;32m      <a href='vscode-notebook-cell:/e%3A/ToolSuit/notebook/wechat_demo.ipynb#ch0000016?line=0'>1</a>\u001b[0m a \u001b[39m=\u001b[39m \u001b[39m1\u001b[39m\n\u001b[0;32m      <a href='vscode-notebook-cell:/e%3A/ToolSuit/notebook/wechat_demo.ipynb#ch0000016?line=1'>2</a>\u001b[0m \u001b[39m# b = 2\u001b[39;00m\n\u001b[0;32m      <a href='vscode-notebook-cell:/e%3A/ToolSuit/notebook/wechat_demo.ipynb#ch0000016?line=2'>3</a>\u001b[0m \u001b[39m# b+=b==1\u001b[39;00m\n\u001b[1;32m----> <a href='vscode-notebook-cell:/e%3A/ToolSuit/notebook/wechat_demo.ipynb#ch0000016?line=3'>4</a>\u001b[0m b \u001b[39m+\u001b[39m\u001b[39m=\u001b[39m a\n\u001b[0;32m      <a href='vscode-notebook-cell:/e%3A/ToolSuit/notebook/wechat_demo.ipynb#ch0000016?line=4'>5</a>\u001b[0m \u001b[39m# print(b)\u001b[39;00m\n\u001b[0;32m      <a href='vscode-notebook-cell:/e%3A/ToolSuit/notebook/wechat_demo.ipynb#ch0000016?line=5'>6</a>\u001b[0m \u001b[39m# print((b+=b>=1))\u001b[39;00m\n\u001b[0;32m      <a href='vscode-notebook-cell:/e%3A/ToolSuit/notebook/wechat_demo.ipynb#ch0000016?line=6'>7</a>\u001b[0m \u001b[39m# b += b\u001b[39;00m\n\u001b[0;32m      <a href='vscode-notebook-cell:/e%3A/ToolSuit/notebook/wechat_demo.ipynb#ch0000016?line=7'>8</a>\u001b[0m \u001b[39mprint\u001b[39m(b)\n",
      "\u001b[1;31mNameError\u001b[0m: name 'b' is not defined"
     ]
    }
   ],
   "source": [
    "a = 1\n",
    "# b = 2\n",
    "# b+=b==1\n",
    "b += a\n",
    "# print(b)\n",
    "# print((b+=b>=1))\n",
    "# b += b\n",
    "print(b)\n",
    "a = '123456'\n",
    "print(hash(a))"
   ]
  },
  {
   "cell_type": "code",
   "execution_count": 6,
   "metadata": {},
   "outputs": [
    {
     "name": "stdout",
     "output_type": "stream",
     "text": [
      "5.0\n",
      "1.0\n",
      "1.0\n",
      "0.0\n"
     ]
    }
   ],
   "source": [
    "b = 5\n",
    "b /= 1\n",
    "print(b)\n",
    "b %= 2\n",
    "print(b)\n",
    "b **= 3\n",
    "print(b)\n",
    "b //= 2\n",
    "print(b)\n"
   ]
  },
  {
   "cell_type": "code",
   "execution_count": 8,
   "metadata": {},
   "outputs": [
    {
     "name": "stdout",
     "output_type": "stream",
     "text": [
      "1\n"
     ]
    }
   ],
   "source": [
    "b = 1\n",
    "b+=b>1\n",
    "print(b)"
   ]
  },
  {
   "cell_type": "code",
   "execution_count": null,
   "metadata": {},
   "outputs": [],
   "source": []
  },
  {
   "cell_type": "code",
   "execution_count": null,
   "metadata": {},
   "outputs": [],
   "source": []
  },
  {
   "cell_type": "code",
   "execution_count": null,
   "metadata": {},
   "outputs": [],
   "source": []
  },
  {
   "cell_type": "code",
   "execution_count": null,
   "metadata": {},
   "outputs": [],
   "source": []
  },
  {
   "cell_type": "code",
   "execution_count": null,
   "metadata": {},
   "outputs": [],
   "source": []
  },
  {
   "cell_type": "code",
   "execution_count": null,
   "metadata": {},
   "outputs": [],
   "source": []
  },
  {
   "cell_type": "code",
   "execution_count": null,
   "metadata": {},
   "outputs": [],
   "source": []
  }
 ],
 "metadata": {
  "interpreter": {
   "hash": "3196968d684371006099b3d55edeef8ed90365227a30deaef86e5d4aa8519be0"
  },
  "kernelspec": {
   "display_name": "Python 3.10.4 64-bit",
   "language": "python",
   "name": "python3"
  },
  "language_info": {
   "codemirror_mode": {
    "name": "ipython",
    "version": 3
   },
   "file_extension": ".py",
   "mimetype": "text/x-python",
   "name": "python",
   "nbconvert_exporter": "python",
   "pygments_lexer": "ipython3",
   "version": "3.10.4"
  },
  "orig_nbformat": 4
 },
 "nbformat": 4,
 "nbformat_minor": 2
}
